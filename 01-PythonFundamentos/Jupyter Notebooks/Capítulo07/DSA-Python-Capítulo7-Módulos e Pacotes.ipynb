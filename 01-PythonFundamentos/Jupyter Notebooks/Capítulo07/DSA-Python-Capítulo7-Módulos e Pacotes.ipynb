{
 "cells": [
  {
   "cell_type": "markdown",
   "metadata": {
    "deletable": true,
    "editable": true
   },
   "source": [
    "# <font color='blue'>Data Science Academy - Python Fundamentos - Capítulo 7</font>\n",
    "\n",
    "## Download: http://github.com/dsacademybr"
   ]
  },
  {
   "cell_type": "markdown",
   "metadata": {
    "deletable": true,
    "editable": true
   },
   "source": [
    "## Módulos e Pacotes\n",
    "\n",
    "Biblioteca Padrão"
   ]
  },
  {
   "cell_type": "code",
   "execution_count": 1,
   "metadata": {
    "collapsed": false,
    "deletable": true,
    "editable": true
   },
   "outputs": [],
   "source": [
    "# Importando um módulo em Python\n",
    "import math"
   ]
  },
  {
   "cell_type": "code",
   "execution_count": 2,
   "metadata": {
    "collapsed": false,
    "deletable": true,
    "editable": true
   },
   "outputs": [
    {
     "data": {
      "text/plain": [
       "['__doc__',\n",
       " '__file__',\n",
       " '__loader__',\n",
       " '__name__',\n",
       " '__package__',\n",
       " '__spec__',\n",
       " 'acos',\n",
       " 'acosh',\n",
       " 'asin',\n",
       " 'asinh',\n",
       " 'atan',\n",
       " 'atan2',\n",
       " 'atanh',\n",
       " 'ceil',\n",
       " 'copysign',\n",
       " 'cos',\n",
       " 'cosh',\n",
       " 'degrees',\n",
       " 'e',\n",
       " 'erf',\n",
       " 'erfc',\n",
       " 'exp',\n",
       " 'expm1',\n",
       " 'fabs',\n",
       " 'factorial',\n",
       " 'floor',\n",
       " 'fmod',\n",
       " 'frexp',\n",
       " 'fsum',\n",
       " 'gamma',\n",
       " 'gcd',\n",
       " 'hypot',\n",
       " 'inf',\n",
       " 'isclose',\n",
       " 'isfinite',\n",
       " 'isinf',\n",
       " 'isnan',\n",
       " 'ldexp',\n",
       " 'lgamma',\n",
       " 'log',\n",
       " 'log10',\n",
       " 'log1p',\n",
       " 'log2',\n",
       " 'modf',\n",
       " 'nan',\n",
       " 'pi',\n",
       " 'pow',\n",
       " 'radians',\n",
       " 'sin',\n",
       " 'sinh',\n",
       " 'sqrt',\n",
       " 'tan',\n",
       " 'tanh',\n",
       " 'trunc']"
      ]
     },
     "execution_count": 2,
     "metadata": {},
     "output_type": "execute_result"
    }
   ],
   "source": [
    "# Verificando todos os métodos disponíveis no módulo\n",
    "dir(math)"
   ]
  },
  {
   "cell_type": "code",
   "execution_count": 3,
   "metadata": {
    "collapsed": false,
    "deletable": true,
    "editable": true
   },
   "outputs": [
    {
     "data": {
      "text/plain": [
       "5.0"
      ]
     },
     "execution_count": 3,
     "metadata": {},
     "output_type": "execute_result"
    }
   ],
   "source": [
    "# Usando um dos métodos do módulo math\n",
    "math.sqrt(25)"
   ]
  },
  {
   "cell_type": "code",
   "execution_count": 4,
   "metadata": {
    "collapsed": false,
    "deletable": true,
    "editable": true
   },
   "outputs": [],
   "source": [
    "# Importando apenas um dos métodos do módulo math\n",
    "from math import sqrt"
   ]
  },
  {
   "cell_type": "code",
   "execution_count": 5,
   "metadata": {
    "collapsed": false,
    "deletable": true,
    "editable": true
   },
   "outputs": [
    {
     "data": {
      "text/plain": [
       "3.0"
      ]
     },
     "execution_count": 5,
     "metadata": {},
     "output_type": "execute_result"
    }
   ],
   "source": [
    "# Usando o método\n",
    "sqrt(9)"
   ]
  },
  {
   "cell_type": "code",
   "execution_count": 6,
   "metadata": {
    "collapsed": false,
    "deletable": true,
    "editable": true
   },
   "outputs": [
    {
     "name": "stdout",
     "output_type": "stream",
     "text": [
      "['__doc__', '__file__', '__loader__', '__name__', '__package__', '__spec__', 'acos', 'acosh', 'asin', 'asinh', 'atan', 'atan2', 'atanh', 'ceil', 'copysign', 'cos', 'cosh', 'degrees', 'e', 'erf', 'erfc', 'exp', 'expm1', 'fabs', 'factorial', 'floor', 'fmod', 'frexp', 'fsum', 'gamma', 'gcd', 'hypot', 'inf', 'isclose', 'isfinite', 'isinf', 'isnan', 'ldexp', 'lgamma', 'log', 'log10', 'log1p', 'log2', 'modf', 'nan', 'pi', 'pow', 'radians', 'sin', 'sinh', 'sqrt', 'tan', 'tanh', 'trunc']\n"
     ]
    }
   ],
   "source": [
    "# Imprimindo todos os métodos do módulo math\n",
    "print(dir(math))"
   ]
  },
  {
   "cell_type": "code",
   "execution_count": 7,
   "metadata": {
    "collapsed": false,
    "deletable": true,
    "editable": true
   },
   "outputs": [
    {
     "name": "stdout",
     "output_type": "stream",
     "text": [
      "Help on built-in function sqrt in module math:\n",
      "\n",
      "sqrt(...)\n",
      "    sqrt(x)\n",
      "    \n",
      "    Return the square root of x.\n",
      "\n"
     ]
    }
   ],
   "source": [
    "# Help do método sqrt do módulo math\n",
    "help(sqrt)"
   ]
  },
  {
   "cell_type": "code",
   "execution_count": 8,
   "metadata": {
    "collapsed": true,
    "deletable": true,
    "editable": true
   },
   "outputs": [],
   "source": [
    "import random"
   ]
  },
  {
   "cell_type": "code",
   "execution_count": 9,
   "metadata": {
    "collapsed": false,
    "deletable": true,
    "editable": true
   },
   "outputs": [
    {
     "data": {
      "text/plain": [
       "'Laranja'"
      ]
     },
     "execution_count": 9,
     "metadata": {},
     "output_type": "execute_result"
    }
   ],
   "source": [
    "random.choice(['Maça', 'Banana', 'Laranja'])"
   ]
  },
  {
   "cell_type": "code",
   "execution_count": 10,
   "metadata": {
    "collapsed": false,
    "deletable": true,
    "editable": true
   },
   "outputs": [
    {
     "data": {
      "text/plain": [
       "[66, 16, 91, 95, 85, 87, 38, 77, 62, 14]"
      ]
     },
     "execution_count": 10,
     "metadata": {},
     "output_type": "execute_result"
    }
   ],
   "source": [
    "random.sample(range(100), 10)"
   ]
  },
  {
   "cell_type": "code",
   "execution_count": 11,
   "metadata": {
    "collapsed": false,
    "deletable": true,
    "editable": true
   },
   "outputs": [],
   "source": [
    "import statistics"
   ]
  },
  {
   "cell_type": "code",
   "execution_count": 12,
   "metadata": {
    "collapsed": true,
    "deletable": true,
    "editable": true
   },
   "outputs": [],
   "source": [
    "dados = [2.75, 1.75, 1.25, 0.25, 0.5, 1.25, 3.5]"
   ]
  },
  {
   "cell_type": "code",
   "execution_count": 13,
   "metadata": {
    "collapsed": false,
    "deletable": true,
    "editable": true
   },
   "outputs": [
    {
     "data": {
      "text/plain": [
       "1.6071428571428572"
      ]
     },
     "execution_count": 13,
     "metadata": {},
     "output_type": "execute_result"
    }
   ],
   "source": [
    "statistics.mean(dados)"
   ]
  },
  {
   "cell_type": "code",
   "execution_count": 14,
   "metadata": {
    "collapsed": false,
    "deletable": true,
    "editable": true
   },
   "outputs": [
    {
     "data": {
      "text/plain": [
       "1.25"
      ]
     },
     "execution_count": 14,
     "metadata": {},
     "output_type": "execute_result"
    }
   ],
   "source": [
    "statistics.median(dados)"
   ]
  },
  {
   "cell_type": "code",
   "execution_count": 15,
   "metadata": {
    "collapsed": true,
    "deletable": true,
    "editable": true
   },
   "outputs": [],
   "source": [
    "import os"
   ]
  },
  {
   "cell_type": "code",
   "execution_count": 16,
   "metadata": {
    "collapsed": false,
    "deletable": true,
    "editable": true
   },
   "outputs": [
    {
     "data": {
      "text/plain": [
       "'/opt/DSA/PythonFundamentos/JupyterNotebooks/Capítulo07'"
      ]
     },
     "execution_count": 16,
     "metadata": {},
     "output_type": "execute_result"
    }
   ],
   "source": [
    "os.getcwd()"
   ]
  },
  {
   "cell_type": "code",
   "execution_count": 17,
   "metadata": {
    "collapsed": false,
    "deletable": true,
    "editable": true
   },
   "outputs": [
    {
     "name": "stdout",
     "output_type": "stream",
     "text": [
      "['CLD_CONTINUED', 'CLD_DUMPED', 'CLD_EXITED', 'CLD_TRAPPED', 'EX_CANTCREAT', 'EX_CONFIG', 'EX_DATAERR', 'EX_IOERR', 'EX_NOHOST', 'EX_NOINPUT', 'EX_NOPERM', 'EX_NOUSER', 'EX_OK', 'EX_OSERR', 'EX_OSFILE', 'EX_PROTOCOL', 'EX_SOFTWARE', 'EX_TEMPFAIL', 'EX_UNAVAILABLE', 'EX_USAGE', 'F_LOCK', 'F_OK', 'F_TEST', 'F_TLOCK', 'F_ULOCK', 'MutableMapping', 'NGROUPS_MAX', 'O_ACCMODE', 'O_APPEND', 'O_ASYNC', 'O_CREAT', 'O_DIRECTORY', 'O_EXCL', 'O_EXLOCK', 'O_NDELAY', 'O_NOCTTY', 'O_NOFOLLOW', 'O_NONBLOCK', 'O_RDONLY', 'O_RDWR', 'O_SHLOCK', 'O_SYNC', 'O_TRUNC', 'O_WRONLY', 'PRIO_PGRP', 'PRIO_PROCESS', 'PRIO_USER', 'P_ALL', 'P_NOWAIT', 'P_NOWAITO', 'P_PGID', 'P_PID', 'P_WAIT', 'RTLD_GLOBAL', 'RTLD_LAZY', 'RTLD_LOCAL', 'RTLD_NODELETE', 'RTLD_NOLOAD', 'RTLD_NOW', 'R_OK', 'SCHED_FIFO', 'SCHED_OTHER', 'SCHED_RR', 'SEEK_CUR', 'SEEK_END', 'SEEK_SET', 'ST_NOSUID', 'ST_RDONLY', 'TMP_MAX', 'WCONTINUED', 'WCOREDUMP', 'WEXITED', 'WEXITSTATUS', 'WIFCONTINUED', 'WIFEXITED', 'WIFSIGNALED', 'WIFSTOPPED', 'WNOHANG', 'WNOWAIT', 'WSTOPPED', 'WSTOPSIG', 'WTERMSIG', 'WUNTRACED', 'W_OK', 'X_OK', '_Environ', '__all__', '__builtins__', '__cached__', '__doc__', '__file__', '__loader__', '__name__', '__package__', '__spec__', '_execvpe', '_exists', '_exit', '_get_exports_list', '_putenv', '_spawnvef', '_unsetenv', '_wrap_close', 'abort', 'access', 'altsep', 'chdir', 'chflags', 'chmod', 'chown', 'chroot', 'close', 'closerange', 'confstr', 'confstr_names', 'cpu_count', 'ctermid', 'curdir', 'defpath', 'device_encoding', 'devnull', 'dup', 'dup2', 'environ', 'environb', 'errno', 'error', 'execl', 'execle', 'execlp', 'execlpe', 'execv', 'execve', 'execvp', 'execvpe', 'extsep', 'fchdir', 'fchmod', 'fchown', 'fdopen', 'fork', 'forkpty', 'fpathconf', 'fsdecode', 'fsencode', 'fstat', 'fstatvfs', 'fsync', 'ftruncate', 'get_blocking', 'get_exec_path', 'get_inheritable', 'get_terminal_size', 'getcwd', 'getcwdb', 'getegid', 'getenv', 'getenvb', 'geteuid', 'getgid', 'getgrouplist', 'getgroups', 'getloadavg', 'getlogin', 'getpgid', 'getpgrp', 'getpid', 'getppid', 'getpriority', 'getsid', 'getuid', 'initgroups', 'isatty', 'kill', 'killpg', 'lchflags', 'lchmod', 'lchown', 'linesep', 'link', 'listdir', 'lockf', 'lseek', 'lstat', 'major', 'makedev', 'makedirs', 'minor', 'mkdir', 'mkfifo', 'mknod', 'name', 'nice', 'open', 'openpty', 'pardir', 'path', 'pathconf', 'pathconf_names', 'pathsep', 'pipe', 'popen', 'pread', 'putenv', 'pwrite', 'read', 'readlink', 'readv', 'remove', 'removedirs', 'rename', 'renames', 'replace', 'rmdir', 'scandir', 'sched_get_priority_max', 'sched_get_priority_min', 'sched_yield', 'sendfile', 'sep', 'set_blocking', 'set_inheritable', 'setegid', 'seteuid', 'setgid', 'setgroups', 'setpgid', 'setpgrp', 'setpriority', 'setregid', 'setreuid', 'setsid', 'setuid', 'spawnl', 'spawnle', 'spawnlp', 'spawnlpe', 'spawnv', 'spawnve', 'spawnvp', 'spawnvpe', 'st', 'stat', 'stat_float_times', 'stat_result', 'statvfs', 'statvfs_result', 'strerror', 'supports_bytes_environ', 'supports_dir_fd', 'supports_effective_ids', 'supports_fd', 'supports_follow_symlinks', 'symlink', 'sync', 'sys', 'sysconf', 'sysconf_names', 'system', 'tcgetpgrp', 'tcsetpgrp', 'terminal_size', 'times', 'times_result', 'truncate', 'ttyname', 'umask', 'uname', 'uname_result', 'unlink', 'unsetenv', 'urandom', 'utime', 'wait', 'wait3', 'wait4', 'waitpid', 'walk', 'write', 'writev']\n"
     ]
    }
   ],
   "source": [
    "print(dir(os))"
   ]
  },
  {
   "cell_type": "code",
   "execution_count": 18,
   "metadata": {
    "collapsed": true,
    "deletable": true,
    "editable": true
   },
   "outputs": [],
   "source": [
    "import sys"
   ]
  },
  {
   "cell_type": "code",
   "execution_count": 19,
   "metadata": {
    "collapsed": false,
    "deletable": true,
    "editable": true
   },
   "outputs": [
    {
     "name": "stdout",
     "output_type": "stream",
     "text": [
      "Teste"
     ]
    }
   ],
   "source": [
    "sys.stdout.write('Teste')"
   ]
  },
  {
   "cell_type": "code",
   "execution_count": 20,
   "metadata": {
    "collapsed": false,
    "deletable": true,
    "editable": true
   },
   "outputs": [
    {
     "data": {
      "text/plain": [
       "'3.5.1 |Anaconda 4.0.0 (x86_64)| (default, Dec  7 2015, 11:24:55) \\n[GCC 4.2.1 (Apple Inc. build 5577)]'"
      ]
     },
     "execution_count": 20,
     "metadata": {},
     "output_type": "execute_result"
    }
   ],
   "source": [
    "sys.version"
   ]
  },
  {
   "cell_type": "code",
   "execution_count": 21,
   "metadata": {
    "collapsed": false,
    "deletable": true,
    "editable": true
   },
   "outputs": [
    {
     "name": "stdout",
     "output_type": "stream",
     "text": [
      "['__displayhook__', '__doc__', '__excepthook__', '__interactivehook__', '__loader__', '__name__', '__package__', '__spec__', '__stderr__', '__stdin__', '__stdout__', '_clear_type_cache', '_current_frames', '_debugmallocstats', '_getframe', '_home', '_mercurial', '_xoptions', 'abiflags', 'api_version', 'argv', 'base_exec_prefix', 'base_prefix', 'builtin_module_names', 'byteorder', 'call_tracing', 'callstats', 'copyright', 'displayhook', 'dont_write_bytecode', 'exc_info', 'excepthook', 'exec_prefix', 'executable', 'exit', 'flags', 'float_info', 'float_repr_style', 'get_coroutine_wrapper', 'getallocatedblocks', 'getcheckinterval', 'getdefaultencoding', 'getdlopenflags', 'getfilesystemencoding', 'getprofile', 'getrecursionlimit', 'getrefcount', 'getsizeof', 'getswitchinterval', 'gettrace', 'hash_info', 'hexversion', 'implementation', 'int_info', 'intern', 'is_finalizing', 'maxsize', 'maxunicode', 'meta_path', 'modules', 'path', 'path_hooks', 'path_importer_cache', 'platform', 'prefix', 'ps1', 'ps2', 'ps3', 'set_coroutine_wrapper', 'setcheckinterval', 'setdlopenflags', 'setprofile', 'setrecursionlimit', 'setswitchinterval', 'settrace', 'stderr', 'stdin', 'stdout', 'thread_info', 'version', 'version_info', 'warnoptions']\n"
     ]
    }
   ],
   "source": [
    "print(dir(sys))"
   ]
  },
  {
   "cell_type": "code",
   "execution_count": 1,
   "metadata": {
    "collapsed": false,
    "deletable": true,
    "editable": true
   },
   "outputs": [],
   "source": [
    "# Importando o módulo request do pacote urllib, usado para trazer url's \n",
    "# para dentro do nosso ambiente Python\n",
    "import urllib.request"
   ]
  },
  {
   "cell_type": "code",
   "execution_count": 10,
   "metadata": {
    "collapsed": true,
    "deletable": true,
    "editable": true
   },
   "outputs": [],
   "source": [
    "# Variável resposta armazena o objeto de conexão à url passada como \n",
    "# parâmetro\n",
    "resposta = urllib.request.urlopen('http://www.ipeadata.gov.br/ExibeSerie.aspx?serid=37796&module=M')"
   ]
  },
  {
   "cell_type": "code",
   "execution_count": 11,
   "metadata": {
    "collapsed": false,
    "deletable": true,
    "editable": true
   },
   "outputs": [
    {
     "name": "stdout",
     "output_type": "stream",
     "text": [
      "<http.client.HTTPResponse object at 0x7f402862b908>\n"
     ]
    }
   ],
   "source": [
    "# Objeto resposta\n",
    "print(resposta)"
   ]
  },
  {
   "cell_type": "code",
   "execution_count": 12,
   "metadata": {
    "collapsed": true,
    "deletable": true,
    "editable": true
   },
   "outputs": [],
   "source": [
    "# Chamando o método read() do objeto resposta e armazenando o código \n",
    "# html na variável html\n",
    "html = resposta.read()"
   ]
  },
  {
   "cell_type": "code",
   "execution_count": 13,
   "metadata": {
    "collapsed": false,
    "deletable": true,
    "editable": true
   },
   "outputs": [
    {
     "name": "stdout",
     "output_type": "stream",
     "text": [
      "b'\\r\\n<!DOCTYPE html PUBLIC \"-//W3C//DTD XHTML 1.0 Transitional//EN\" \"http://www.w3.org/TR/xhtml1/DTD/xhtml1-transitional.dtd\">\\r\\n<html xmlns=\"http://www.w3.org/1999/xhtml\">\\r\\n<head><link rel=\"stylesheet\" type=\"text/css\" href=\"/WebResource.axd?d=KpFXwYODw_Edc6DkboPmwS-uKKtu8N1PiZFm-D_rU12isZ1B7aIsQKnNVvy9qo40zxih22N6337vcDTUiN65G_lopUoLixTv-YkxRGfiGeY7AF9cuWq4IV6Cb34pA5XwF3uN_oEgJlNsSM52cGOd49cDwSCKUoL1Xc_5IWTGaVNBUyZO0&amp;t=633976413666989727\" />\\n<link rel=\"stylesheet\" type=\"text/css\" href=\"/WebResource.axd?d=i-1jiEKXM6nV1k7fymTa2w_yFrL-zVna5yplCxkXRx6Vi87I8qDM8p_2MyAQ7jYqn4Siv3T7zvJ2uOBYuwyjIUw09jFmFQV5bplG3zEpVa_gVxLnVkvowF6xUxJLA53r7Hq_EWDLmqDcj7lcMFiN4A64vcaDLEveCTCC2Qkqa9QpMihx0&amp;t=633976415089673292\" />\\n<link rel=\"stylesheet\" type=\"text/css\" href=\"/WebResource.axd?d=EMFjY1d83V2IN2JUuz2shpQBjFO7ov8WA931NtNjejZR1RHV_4rteZohSnL7nK6VMMVinA73I1WVdP2PfWeCP4-ofrHWAQXRnBycgfROamBpZaZBsO6_CkxBcIUe8KMhsbPWrZ8mZt9vpam0mmDeIhEdaTo1&amp;t=633976413593550817\" />\\n<title>\\r\\n\\tIpeadata\\r\\n</title><link rel=\"stylesheet\" type=\"text/css\" href=\"css/estilos.css\" /></head>\\r\\n<body>\\r\\n    <form name=\"frm\" method=\"post\" action=\"./ExibeSerie.aspx?serid=37796&amp;module=M\" id=\"frm\">\\r\\n<input type=\"hidden\" name=\"__VIEWSTATE\" id=\"__VIEWSTATE\" value=\"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\" />\\r\\n\\r\\n<input type=\"hidden\" name=\"__VIEWSTATEGENERATOR\" id=\"__VIEWSTATEGENERATOR\" value=\"F026BECA\" />\\r\\n<input type=\"hidden\" name=\"__EVENTVALIDATION\" id=\"__EVENTVALIDATION\" value=\"/wEdAAOjc9OehVFRT2xJZsHB5gGoJedzb++2rNt9xskACdHISdWMZDsSEIl625+gPNsGguH+Vx0rpNE7Kga4ODu8+jkHsUtuMA==\" />\\r\\n    <input type=\"hidden\" id=\"bar_oper\" name=\"bar_oper\" value=\"oper_exibeseries\" />\\r\\n    <input type=\"hidden\" id=\"oper\" name=\"oper\" value=\"\" />\\r\\n    <table width=\"100%\" border=\"0\" cellpadding=\"0\" cellspacing=\"0\"><tr><td width=\"15\" valign=\"top\"><p><img alt=\"\" src= \"img/arrow.gif\"></p></td><td valign=\"top\"><b>IGP-M - geral - \\xc3\\xadndice (ago. 1994 = 100)</b><br>   <b>Frequ\\xc3\\xaancia: </b>Mensal  de 1989.06  at\\xc3\\xa9 2017.02<br>   <b>Fonte: </b><A href=\"http://www.fgv.br\">Funda\\xc3\\xa7\\xc3\\xa3o Getulio Vargas, Conjuntura Econ\\xc3\\xb4mica - IGP (FGV/Conj. Econ. - IGP)</a><br>   <b>Unidade: </b>-<br>   <b>Coment\\xc3\\xa1rio: </b>\\xc3\\x8dndice Geral de Pre\\xc3\\xa7os - Mercado (IGP-M).<br>   <b>Atualizado em: </b>07/03/2017<br><br></td></tr></table><br><hr><br>\\r\\n    <center>\\r\\n        <img id=\"chart\" src=\"http://www.ipeadata.gov.br/ExibeSerie.aspx?serid=37796&amp;module=M&amp;chart=ChartsImage21124403943784761\" alt=\"The Ipeadata - http://www.ipeadata.gov.br chart showing IGP-M - geral - \\xc3\\xadndice (ago. 1994 = 100) series.\" style=\"height:300px;width:450px;border-width:0px;\" /><input type=\"hidden\" name=\"chart$CallbackState\" id=\"chart_CallbackState\" /><table id=\"chart_LP\" cellspacing=\"0\" cellpadding=\"0\" border=\"0\" style=\"color:Black;background-color:White;border-color:#7B7B7B;border-width:1px;border-style:Solid;font-family:Tahoma;font-size:10pt;border-collapse:collapse;left:0px;top:0px;z-index:30000;display:none;\">\\r\\n\\t<tr>\\r\\n\\t\\t<td class=\"dx\" style=\"padding-left:5px;padding-right:5px;padding-top:5px;padding-bottom:5px;\"><img src=\"/WebResource.axd?d=519ERp7K2iqF80VJGok335jhir5_xis485JgPC3DRp6lFvGkUM_IpqVq425inRpQ7PHqJWWUCxJ_dDwKy-K2Boj5ydvfGEWAUes8G08UN2rMbEIQJl-LlTqrYEQI284LKbng3uGC41rUCpcaf10rtvPAymyoxkySZTz8gXbKWka5FmvBAM_71YuEImUq_h8HzOYp1A2&amp;t=633976414286532872\" alt=\"\" align=\"middle\" style=\"border-width:0px;\" /></td><td class=\"dx\" style=\"color:Black;font-family:Tahoma;font-size:10pt;text-align:Center;padding-left:0px;padding-right:5px;padding-top:5px;padding-bottom:5px;\">Loading&hellip;</td>\\r\\n\\t</tr>\\r\\n</table>\\r\\n        \\r\\n        &nbsp;\\r\\n    </center>\\r\\n    <br />\\r\\n    <center>\\r\\n        <script id=\"dxss_1740790905\" type=\"text/javascript\">\\n<!--\\nwindow.__aspxServerFormID = \\'frm\\';\\nwindow.__aspxEmptyImageUrl = \\'/WebResource.axd?d=RN0PSNpi6k9yqaWYQ8M812njJPbQkhmAugqn1nfraw7J-MOsqRNm1YKfLi1_ZZQShKXB-97LWecVj6zW1zsRCHqq4adaHqdQNDrKMegBAz50Wz89FEABQWfpItz2T566DPAC8q5pDunTeY_pqU7wESO44PQ1&t=633976413593550817\\';\\n//-->\\n</script>\\n\\r\\n<script id=\"dxis_1587902358\" src=\"/WebResource.axd?d=_tLU3kANffeMQP8eM25x91llwV4ADMIHAQwFOf1gCtrK9SnPto0_xfjLAWBSrF4zEIpXQs4WBaOqUHklvPR1pB6JM2Bdiuw7bE_q2r3rQwQycE9VZsSUZEidT1jgJPO-aPEwNg2&amp;t=633976413593550817\" type=\"text/javascript\"></script>\\r\\n<script id=\"dxis_1505254713\" src=\"/WebResource.axd?d=Ja9i2jYacVnzgS01h-K_tsccc21xqpP4AL3mvpXjQyfs3xUjEJ-nWtfu9BZ_9CFUhoeVG3Z9cmzJVPhKqn2TdNi3HNkv8omac2_pDUOLBAhr2KG_8h3gihD3l3QrNttrmJD6C6SdzRIzg2AVyZDsAQkDMFUoPwX_NwNxTRVprrkNoF4lxbRUpmwt0pGuwUl83YvcDw2&amp;t=633976415089673292\" type=\"text/javascript\"></script>\\r\\n<table class=\"dxgvControl\" cellspacing=\"0\" cellpadding=\"0\" id=\"grd\" border=\"0\" width=\"200\" style=\"border-collapse:separate;\">\\r\\n\\t<tr>\\r\\n\\t\\t<td><table id=\"grd_DXMainTable\" class=\"dxgvTable\" cellspacing=\"0\" cellpadding=\"0\" onclick=\"aspxGVTableClick(&#39;grd&#39;, event);\" border=\"0\" width=\"100%\" style=\"empty-cells:show;\">\\r\\n\\t\\t\\t<tr id=\"grd_DXHeadersRow\">\\r\\n\\t\\t\\t\\t<td id=\"grd_DXTScol0\" class=\"dxgvHeader\" onmousedown=\"aspxGVHeaderMouseDown(&#39;grd&#39;, this, event);\" width=\"75\" style=\"border-left-width:0px;border-top-width:0px;\"><table cellspacing=\"0\" cellpadding=\"0\" border=\"0\" width=\"100%\">\\r\\n\\t\\t\\t\\t\\t<tr>\\r\\n\\t\\t\\t\\t\\t\\t<td width=\"100%\" style=\"border-right-width:0px;padding-right:5px;\">Data</td><td style=\"border-left-width:0px;padding-left:5px;\"><img src=\"img/sortUp.jpg\" alt=\"(Ascending)\" border=\"0\" /></td>\\r\\n\\t\\t\\t\\t\\t</tr>\\r\\n\\t\\t\\t\\t</table></td><td id=\"grd_DXTScol1\" class=\"dxgvHeader\" onmousedown=\"aspxGVHeaderMouseDown(&#39;grd&#39;, this, event);\" width=\"75\" style=\"white-space:normal;border-left-width:0px;border-top-width:0px;border-right-width:0px;\"><table cellspacing=\"0\" cellpadding=\"0\" border=\"0\" width=\"100%\">\\r\\n\\t\\t\\t\\t\\t<tr>\\r\\n\\t\\t\\t\\t\\t\\t<td style=\"white-space:normal;\">IGP-M - geral - \\xc3\\xadndice (ago. 1994 = 100)</td>\\r\\n\\t\\t\\t\\t\\t</tr>\\r\\n\\t\\t\\t\\t</table></td>\\r\\n\\t\\t\\t</tr><tr id=\"grd_DXDataRow0\" class=\"dxgvFocusedRow\" bgcolor=\"#91AAB1\">\\r\\n\\t\\t\\t\\t<td class=\"dxgv\" style=\"text-align:Left;\"><font color=\"Black\">1989.06</font></td><td class=\"dxgv\" style=\"text-align:Right;border-right-width:0px;\"><font color=\"Black\">3,0862E-05</font></td>\\r\\n\\t\\t\\t</tr><tr id=\"grd_DXDataRow1\" class=\"dxgvDataRow dxgvDataRowAlt\" bgcolor=\"#ACC6DF\">\\r\\n\\t\\t\\t\\t<td class=\"dxgv\" style=\"text-align:Left;\">1989.07</td><td class=\"dxgv\" style=\"text-align:Right;border-right-width:0px;\">4,1943E-05</td>\\r\\n\\t\\t\\t</tr><tr id=\"grd_DXDataRow2\" class=\"dxgvDataRow\" bgcolor=\"#DCE8F1\">\\r\\n\\t\\t\\t\\t<td class=\"dxgv\" style=\"text-align:Left;\">1989.08</td><td class=\"dxgv\" style=\"text-align:Right;border-right-width:0px;\">0,0001</td>\\r\\n\\t\\t\\t</tr><tr id=\"grd_DXDataRow3\" class=\"dxgvDataRow dxgvDataRowAlt\" bgcolor=\"#ACC6DF\">\\r\\n\\t\\t\\t\\t<td class=\"dxgv\" style=\"text-align:Left;\">1989.09</td><td class=\"dxgv\" style=\"text-align:Right;border-right-width:0px;\">0,0001</td>\\r\\n\\t\\t\\t</tr><tr id=\"grd_DXDataRow4\" class=\"dxgvDataRow\" bgcolor=\"#DCE8F1\">\\r\\n\\t\\t\\t\\t<td class=\"dxgv\" style=\"text-align:Left;\">1989.10</td><td class=\"dxgv\" style=\"text-align:Right;border-right-width:0px;\">0,0001</td>\\r\\n\\t\\t\\t</tr><tr id=\"grd_DXDataRow5\" class=\"dxgvDataRow dxgvDataRowAlt\" bgcolor=\"#ACC6DF\">\\r\\n\\t\\t\\t\\t<td class=\"dxgv\" style=\"text-align:Left;\">1989.11</td><td class=\"dxgv\" style=\"text-align:Right;border-right-width:0px;\">0,0002</td>\\r\\n\\t\\t\\t</tr><tr id=\"grd_DXDataRow6\" class=\"dxgvDataRow\" bgcolor=\"#DCE8F1\">\\r\\n\\t\\t\\t\\t<td class=\"dxgv\" style=\"text-align:Left;\">1989.12</td><td class=\"dxgv\" style=\"text-align:Right;border-right-width:0px;\">0,0002</td>\\r\\n\\t\\t\\t</tr><tr id=\"grd_DXDataRow7\" class=\"dxgvDataRow dxgvDataRowAlt\" bgcolor=\"#ACC6DF\">\\r\\n\\t\\t\\t\\t<td class=\"dxgv\" style=\"text-align:Left;\">1990.01</td><td class=\"dxgv\" style=\"text-align:Right;border-right-width:0px;\">0,0004</td>\\r\\n\\t\\t\\t</tr><tr id=\"grd_DXDataRow8\" class=\"dxgvDataRow\" bgcolor=\"#DCE8F1\">\\r\\n\\t\\t\\t\\t<td class=\"dxgv\" style=\"text-align:Left;\">1990.02</td><td class=\"dxgv\" style=\"text-align:Right;border-right-width:0px;\">0,0007</td>\\r\\n\\t\\t\\t</tr><tr id=\"grd_DXDataRow9\" class=\"dxgvDataRow dxgvDataRowAlt\" bgcolor=\"#ACC6DF\">\\r\\n\\t\\t\\t\\t<td class=\"dxgv\" style=\"text-align:Left;\">1990.03</td><td class=\"dxgv\" style=\"text-align:Right;border-right-width:0px;\">0,0013</td>\\r\\n\\t\\t\\t</tr><tr id=\"grd_DXDataRow10\" class=\"dxgvDataRow\" bgcolor=\"#DCE8F1\">\\r\\n\\t\\t\\t\\t<td class=\"dxgv\" style=\"text-align:Left;\">1990.04</td><td class=\"dxgv\" style=\"text-align:Right;border-right-width:0px;\">0,0016</td>\\r\\n\\t\\t\\t</tr><tr id=\"grd_DXDataRow11\" class=\"dxgvDataRow dxgvDataRowAlt\" bgcolor=\"#ACC6DF\">\\r\\n\\t\\t\\t\\t<td class=\"dxgv\" style=\"text-align:Left;\">1990.05</td><td class=\"dxgv\" style=\"text-align:Right;border-right-width:0px;\">0,0017</td>\\r\\n\\t\\t\\t</tr><tr id=\"grd_DXDataRow12\" class=\"dxgvDataRow\" bgcolor=\"#DCE8F1\">\\r\\n\\t\\t\\t\\t<td class=\"dxgv\" style=\"text-align:Left;\">1990.06</td><td class=\"dxgv\" style=\"text-align:Right;border-right-width:0px;\">0,0019</td>\\r\\n\\t\\t\\t</tr><tr id=\"grd_DXDataRow13\" class=\"dxgvDataRow dxgvDataRowAlt\" bgcolor=\"#ACC6DF\">\\r\\n\\t\\t\\t\\t<td class=\"dxgv\" style=\"text-align:Left;\">1990.07</td><td class=\"dxgv\" style=\"text-align:Right;border-right-width:0px;\">0,0021</td>\\r\\n\\t\\t\\t</tr><tr id=\"grd_DXDataRow14\" class=\"dxgvDataRow\" bgcolor=\"#DCE8F1\">\\r\\n\\t\\t\\t\\t<td class=\"dxgv\" style=\"text-align:Left;\">1990.08</td><td class=\"dxgv\" style=\"text-align:Right;border-right-width:0px;\">0,0024</td>\\r\\n\\t\\t\\t</tr><tr id=\"grd_DXDataRow15\" class=\"dxgvDataRow dxgvDataRowAlt\" bgcolor=\"#ACC6DF\">\\r\\n\\t\\t\\t\\t<td class=\"dxgv\" style=\"text-align:Left;\">1990.09</td><td class=\"dxgv\" style=\"text-align:Right;border-right-width:0px;\">0,0027</td>\\r\\n\\t\\t\\t</tr><tr id=\"grd_DXDataRow16\" class=\"dxgvDataRow\" bgcolor=\"#DCE8F1\">\\r\\n\\t\\t\\t\\t<td class=\"dxgv\" style=\"text-align:Left;\">1990.10</td><td class=\"dxgv\" style=\"text-align:Right;border-right-width:0px;\">0,0030</td>\\r\\n\\t\\t\\t</tr><tr id=\"grd_DXDataRow17\" class=\"dxgvDataRow dxgvDataRowAlt\" bgcolor=\"#ACC6DF\">\\r\\n\\t\\t\\t\\t<td class=\"dxgv\" style=\"text-align:Left;\">1990.11</td><td class=\"dxgv\" style=\"text-align:Right;border-right-width:0px;\">0,0036</td>\\r\\n\\t\\t\\t</tr><tr id=\"grd_DXDataRow18\" class=\"dxgvDataRow\" bgcolor=\"#DCE8F1\">\\r\\n\\t\\t\\t\\t<td class=\"dxgv\" style=\"text-align:Left;\">1990.12</td><td class=\"dxgv\" style=\"text-align:Right;border-right-width:0px;\">0,0042</td>\\r\\n\\t\\t\\t</tr><tr id=\"grd_DXDataRow19\" class=\"dxgvDataRow dxgvDataRowAlt\" bgcolor=\"#ACC6DF\">\\r\\n\\t\\t\\t\\t<td class=\"dxgv\" style=\"text-align:Left;\">1991.01</td><td class=\"dxgv\" style=\"text-align:Right;border-right-width:0px;\">0,0049</td>\\r\\n\\t\\t\\t</tr><tr id=\"grd_DXDataRow20\" class=\"dxgvDataRow\" bgcolor=\"#DCE8F1\">\\r\\n\\t\\t\\t\\t<td class=\"dxgv\" style=\"text-align:Left;\">1991.02</td><td class=\"dxgv\" style=\"text-align:Right;border-right-width:0px;\">0,0060</td>\\r\\n\\t\\t\\t</tr><tr id=\"grd_DXDataRow21\" class=\"dxgvDataRow dxgvDataRowAlt\" bgcolor=\"#ACC6DF\">\\r\\n\\t\\t\\t\\t<td class=\"dxgv\" style=\"text-align:Left;\">1991.03</td><td class=\"dxgv\" style=\"text-align:Right;border-right-width:0px;\">0,0065</td>\\r\\n\\t\\t\\t</tr><tr id=\"grd_DXDataRow22\" class=\"dxgvDataRow\" bgcolor=\"#DCE8F1\">\\r\\n\\t\\t\\t\\t<td class=\"dxgv\" style=\"text-align:Left;\">1991.04</td><td class=\"dxgv\" style=\"text-align:Right;border-right-width:0px;\">0,0070</td>\\r\\n\\t\\t\\t</tr><tr id=\"grd_DXDataRow23\" class=\"dxgvDataRow dxgvDataRowAlt\" bgcolor=\"#ACC6DF\">\\r\\n\\t\\t\\t\\t<td class=\"dxgv\" style=\"text-align:Left;\">1991.05</td><td class=\"dxgv\" style=\"text-align:Right;border-right-width:0px;\">0,0076</td>\\r\\n\\t\\t\\t</tr><tr id=\"grd_DXDataRow24\" class=\"dxgvDataRow\" bgcolor=\"#DCE8F1\">\\r\\n\\t\\t\\t\\t<td class=\"dxgv\" style=\"text-align:Left;\">1991.06</td><td class=\"dxgv\" style=\"text-align:Right;border-right-width:0px;\">0,0082</td>\\r\\n\\t\\t\\t</tr><tr id=\"grd_DXDataRow25\" class=\"dxgvDataRow dxgvDataRowAlt\" bgcolor=\"#ACC6DF\">\\r\\n\\t\\t\\t\\t<td class=\"dxgv\" style=\"text-align:Left;\">1991.07</td><td class=\"dxgv\" style=\"text-align:Right;border-right-width:0px;\">0,0093</td>\\r\\n\\t\\t\\t</tr><tr id=\"grd_DXDataRow26\" class=\"dxgvDataRow\" bgcolor=\"#DCE8F1\">\\r\\n\\t\\t\\t\\t<td class=\"dxgv\" style=\"text-align:Left;\">1991.08</td><td class=\"dxgv\" style=\"text-align:Right;border-right-width:0px;\">0,0107</td>\\r\\n\\t\\t\\t</tr><tr id=\"grd_DXDataRow27\" class=\"dxgvDataRow dxgvDataRowAlt\" bgcolor=\"#ACC6DF\">\\r\\n\\t\\t\\t\\t<td class=\"dxgv\" style=\"text-align:Left;\">1991.09</td><td class=\"dxgv\" style=\"text-align:Right;border-right-width:0px;\">0,0123</td>\\r\\n\\t\\t\\t</tr><tr id=\"grd_DXDataRow28\" class=\"dxgvDataRow\" bgcolor=\"#DCE8F1\">\\r\\n\\t\\t\\t\\t<td class=\"dxgv\" style=\"text-align:Left;\">1991.10</td><td class=\"dxgv\" style=\"text-align:Right;border-right-width:0px;\">0,0151</td>\\r\\n\\t\\t\\t</tr><tr id=\"grd_DXDataRow29\" class=\"dxgvDataRow dxgvDataRowAlt\" bgcolor=\"#ACC6DF\">\\r\\n\\t\\t\\t\\t<td class=\"dxgv\" style=\"text-align:Left;\">1991.11</td><td class=\"dxgv\" style=\"text-align:Right;border-right-width:0px;\">0,0190</td>\\r\\n\\t\\t\\t</tr><tr id=\"grd_DXDataRow30\" class=\"dxgvDataRow\" bgcolor=\"#DCE8F1\">\\r\\n\\t\\t\\t\\t<td class=\"dxgv\" style=\"text-align:Left;\">1991.12</td><td class=\"dxgv\" style=\"text-align:Right;border-right-width:0px;\">0,0235</td>\\r\\n\\t\\t\\t</tr><tr id=\"grd_DXDataRow31\" class=\"dxgvDataRow dxgvDataRowAlt\" bgcolor=\"#ACC6DF\">\\r\\n\\t\\t\\t\\t<td class=\"dxgv\" style=\"text-align:Left;\">1992.01</td><td class=\"dxgv\" style=\"text-align:Right;border-right-width:0px;\">0,0290</td>\\r\\n\\t\\t\\t</tr><tr id=\"grd_DXDataRow32\" class=\"dxgvDataRow\" bgcolor=\"#DCE8F1\">\\r\\n\\t\\t\\t\\t<td class=\"dxgv\" style=\"text-align:Left;\">1992.02</td><td class=\"dxgv\" style=\"text-align:Right;border-right-width:0px;\">0,0371</td>\\r\\n\\t\\t\\t</tr><tr id=\"grd_DXDataRow33\" class=\"dxgvDataRow dxgvDataRowAlt\" bgcolor=\"#ACC6DF\">\\r\\n\\t\\t\\t\\t<td class=\"dxgv\" style=\"text-align:Left;\">1992.03</td><td class=\"dxgv\" style=\"text-align:Right;border-right-width:0px;\">0,0450</td>\\r\\n\\t\\t\\t</tr><tr id=\"grd_DXDataRow34\" class=\"dxgvDataRow\" bgcolor=\"#DCE8F1\">\\r\\n\\t\\t\\t\\t<td class=\"dxgv\" style=\"text-align:Left;\">1992.04</td><td class=\"dxgv\" style=\"text-align:Right;border-right-width:0px;\">0,0540</td>\\r\\n\\t\\t\\t</tr><tr id=\"grd_DXDataRow35\" class=\"dxgvDataRow dxgvDataRowAlt\" bgcolor=\"#ACC6DF\">\\r\\n\\t\\t\\t\\t<td class=\"dxgv\" style=\"text-align:Left;\">1992.05</td><td class=\"dxgv\" style=\"text-align:Right;border-right-width:0px;\">0,0650</td>\\r\\n\\t\\t\\t</tr><tr id=\"grd_DXDataRow36\" class=\"dxgvDataRow\" bgcolor=\"#DCE8F1\">\\r\\n\\t\\t\\t\\t<td class=\"dxgv\" style=\"text-align:Left;\">1992.06</td><td class=\"dxgv\" style=\"text-align:Right;border-right-width:0px;\">0,0804</td>\\r\\n\\t\\t\\t</tr><tr id=\"grd_DXDataRow37\" class=\"dxgvDataRow dxgvDataRowAlt\" bgcolor=\"#ACC6DF\">\\r\\n\\t\\t\\t\\t<td class=\"dxgv\" style=\"text-align:Left;\">1992.07</td><td class=\"dxgv\" style=\"text-align:Right;border-right-width:0px;\">0,0979</td>\\r\\n\\t\\t\\t</tr><tr id=\"grd_DXDataRow38\" class=\"dxgvDataRow\" bgcolor=\"#DCE8F1\">\\r\\n\\t\\t\\t\\t<td class=\"dxgv\" style=\"text-align:Left;\">1992.08</td><td class=\"dxgv\" style=\"text-align:Right;border-right-width:0px;\">0,1220</td>\\r\\n\\t\\t\\t</tr><tr id=\"grd_DXDataRow39\" class=\"dxgvDataRow dxgvDataRowAlt\" bgcolor=\"#ACC6DF\">\\r\\n\\t\\t\\t\\t<td class=\"dxgv\" style=\"text-align:Left;\">1992.09</td><td class=\"dxgv\" style=\"text-align:Right;border-right-width:0px;\">0,1529</td>\\r\\n\\t\\t\\t</tr><tr id=\"grd_DXDataRow40\" class=\"dxgvDataRow\" bgcolor=\"#DCE8F1\">\\r\\n\\t\\t\\t\\t<td class=\"dxgv\" style=\"text-align:Left;\">1992.10</td><td class=\"dxgv\" style=\"text-align:Right;border-right-width:0px;\">0,1938</td>\\r\\n\\t\\t\\t</tr><tr id=\"grd_DXDataRow41\" class=\"dxgvDataRow dxgvDataRowAlt\" bgcolor=\"#ACC6DF\">\\r\\n\\t\\t\\t\\t<td class=\"dxgv\" style=\"text-align:Left;\">1992.11</td><td class=\"dxgv\" style=\"text-align:Right;border-right-width:0px;\">0,2392</td>\\r\\n\\t\\t\\t</tr><tr id=\"grd_DXDataRow42\" class=\"dxgvDataRow\" bgcolor=\"#DCE8F1\">\\r\\n\\t\\t\\t\\t<td class=\"dxgv\" style=\"text-align:Left;\">1992.12</td><td class=\"dxgv\" style=\"text-align:Right;border-right-width:0px;\">0,2991</td>\\r\\n\\t\\t\\t</tr><tr id=\"grd_DXDataRow43\" class=\"dxgvDataRow dxgvDataRowAlt\" bgcolor=\"#ACC6DF\">\\r\\n\\t\\t\\t\\t<td class=\"dxgv\" style=\"text-align:Left;\">1993.01</td><td class=\"dxgv\" style=\"text-align:Right;border-right-width:0px;\">0,3764</td>\\r\\n\\t\\t\\t</tr><tr id=\"grd_DXDataRow44\" class=\"dxgvDataRow\" bgcolor=\"#DCE8F1\">\\r\\n\\t\\t\\t\\t<td class=\"dxgv\" style=\"text-align:Left;\">1993.02</td><td class=\"dxgv\" style=\"text-align:Right;border-right-width:0px;\">0,4833</td>\\r\\n\\t\\t\\t</tr><tr id=\"grd_DXDataRow45\" class=\"dxgvDataRow dxgvDataRowAlt\" bgcolor=\"#ACC6DF\">\\r\\n\\t\\t\\t\\t<td class=\"dxgv\" style=\"text-align:Left;\">1993.03</td><td class=\"dxgv\" style=\"text-align:Right;border-right-width:0px;\">0,6102</td>\\r\\n\\t\\t\\t</tr><tr id=\"grd_DXDataRow46\" class=\"dxgvDataRow\" bgcolor=\"#DCE8F1\">\\r\\n\\t\\t\\t\\t<td class=\"dxgv\" style=\"text-align:Left;\">1993.04</td><td class=\"dxgv\" style=\"text-align:Right;border-right-width:0px;\">0,7862</td>\\r\\n\\t\\t\\t</tr><tr id=\"grd_DXDataRow47\" class=\"dxgvDataRow dxgvDataRowAlt\" bgcolor=\"#ACC6DF\">\\r\\n\\t\\t\\t\\t<td class=\"dxgv\" style=\"text-align:Left;\">1993.05</td><td class=\"dxgv\" style=\"text-align:Right;border-right-width:0px;\">1,0197</td>\\r\\n\\t\\t\\t</tr><tr id=\"grd_DXDataRow48\" class=\"dxgvDataRow\" bgcolor=\"#DCE8F1\">\\r\\n\\t\\t\\t\\t<td class=\"dxgv\" style=\"text-align:Left;\">1993.06</td><td class=\"dxgv\" style=\"text-align:Right;border-right-width:0px;\">1,3408</td>\\r\\n\\t\\t\\t</tr><tr id=\"grd_DXDataRow49\" class=\"dxgvDataRow dxgvDataRowAlt\" bgcolor=\"#ACC6DF\">\\r\\n\\t\\t\\t\\t<td class=\"dxgv\" style=\"text-align:Left;\">1993.07</td><td class=\"dxgv\" style=\"text-align:Right;border-right-width:0px;\">1,7599</td>\\r\\n\\t\\t\\t</tr><tr id=\"grd_DXDataRow50\" class=\"dxgvDataRow\" bgcolor=\"#DCE8F1\">\\r\\n\\t\\t\\t\\t<td class=\"dxgv\" style=\"text-align:Left;\">1993.08</td><td class=\"dxgv\" style=\"text-align:Right;border-right-width:0px;\">2,3192</td>\\r\\n\\t\\t\\t</tr><tr id=\"grd_DXDataRow51\" class=\"dxgvDataRow dxgvDataRowAlt\" bgcolor=\"#ACC6DF\">\\r\\n\\t\\t\\t\\t<td class=\"dxgv\" style=\"text-align:Left;\">1993.09</td><td class=\"dxgv\" style=\"text-align:Right;border-right-width:0px;\">3,1375</td>\\r\\n\\t\\t\\t</tr><tr id=\"grd_DXDataRow52\" class=\"dxgvDataRow\" bgcolor=\"#DCE8F1\">\\r\\n\\t\\t\\t\\t<td class=\"dxgv\" style=\"text-align:Left;\">1993.10</td><td class=\"dxgv\" style=\"text-align:Right;border-right-width:0px;\">4,2368</td>\\r\\n\\t\\t\\t</tr><tr id=\"grd_DXDataRow53\" class=\"dxgvDataRow dxgvDataRowAlt\" bgcolor=\"#ACC6DF\">\\r\\n\\t\\t\\t\\t<td class=\"dxgv\" style=\"text-align:Left;\">1993.11</td><td class=\"dxgv\" style=\"text-align:Right;border-right-width:0px;\">5,7685</td>\\r\\n\\t\\t\\t</tr><tr id=\"grd_DXDataRow54\" class=\"dxgvDataRow\" bgcolor=\"#DCE8F1\">\\r\\n\\t\\t\\t\\t<td class=\"dxgv\" style=\"text-align:Left;\">1993.12</td><td class=\"dxgv\" style=\"text-align:Right;border-right-width:0px;\">7,9793</td>\\r\\n\\t\\t\\t</tr><tr id=\"grd_DXDataRow55\" class=\"dxgvDataRow dxgvDataRowAlt\" bgcolor=\"#ACC6DF\">\\r\\n\\t\\t\\t\\t<td class=\"dxgv\" style=\"text-align:Left;\">1994.01</td><td class=\"dxgv\" style=\"text-align:Right;border-right-width:0px;\">11,0968</td>\\r\\n\\t\\t\\t</tr><tr id=\"grd_DXDataRow56\" class=\"dxgvDataRow\" bgcolor=\"#DCE8F1\">\\r\\n\\t\\t\\t\\t<td class=\"dxgv\" style=\"text-align:Left;\">1994.02</td><td class=\"dxgv\" style=\"text-align:Right;border-right-width:0px;\">15,6219</td>\\r\\n\\t\\t\\t</tr><tr id=\"grd_DXDataRow57\" class=\"dxgvDataRow dxgvDataRowAlt\" bgcolor=\"#ACC6DF\">\\r\\n\\t\\t\\t\\t<td class=\"dxgv\" style=\"text-align:Left;\">1994.03</td><td class=\"dxgv\" style=\"text-align:Right;border-right-width:0px;\">22,7628</td>\\r\\n\\t\\t\\t</tr><tr id=\"grd_DXDataRow58\" class=\"dxgvDataRow\" bgcolor=\"#DCE8F1\">\\r\\n\\t\\t\\t\\t<td class=\"dxgv\" style=\"text-align:Left;\">1994.04</td><td class=\"dxgv\" style=\"text-align:Right;border-right-width:0px;\">32,0749</td>\\r\\n\\t\\t\\t</tr><tr id=\"grd_DXDataRow59\" class=\"dxgvDataRow dxgvDataRowAlt\" bgcolor=\"#ACC6DF\">\\r\\n\\t\\t\\t\\t<td class=\"dxgv\" style=\"text-align:Left;\">1994.05</td><td class=\"dxgv\" style=\"text-align:Right;border-right-width:0px;\">45,7316</td>\\r\\n\\t\\t\\t</tr><tr id=\"grd_DXDataRow60\" class=\"dxgvDataRow\" bgcolor=\"#DCE8F1\">\\r\\n\\t\\t\\t\\t<td class=\"dxgv\" style=\"text-align:Left;\">1994.06</td><td class=\"dxgv\" style=\"text-align:Right;border-right-width:0px;\">66,4082</td>\\r\\n\\t\\t\\t</tr><tr id=\"grd_DXDataRow61\" class=\"dxgvDataRow dxgvDataRowAlt\" bgcolor=\"#ACC6DF\">\\r\\n\\t\\t\\t\\t<td class=\"dxgv\" style=\"text-align:Left;\">1994.07</td><td class=\"dxgv\" style=\"text-align:Right;border-right-width:0px;\">92,9684</td>\\r\\n\\t\\t\\t</tr><tr id=\"grd_DXDataRow62\" class=\"dxgvDataRow\" bgcolor=\"#DCE8F1\">\\r\\n\\t\\t\\t\\t<td class=\"dxgv\" style=\"text-align:Left;\">1994.08</td><td class=\"dxgv\" style=\"text-align:Right;border-right-width:0px;\">100,0000</td>\\r\\n\\t\\t\\t</tr><tr id=\"grd_DXDataRow63\" class=\"dxgvDataRow dxgvDataRowAlt\" bgcolor=\"#ACC6DF\">\\r\\n\\t\\t\\t\\t<td class=\"dxgv\" style=\"text-align:Left;\">1994.09</td><td class=\"dxgv\" style=\"text-align:Right;border-right-width:0px;\">101,7510</td>\\r\\n\\t\\t\\t</tr><tr id=\"grd_DXDataRow64\" class=\"dxgvDataRow\" bgcolor=\"#DCE8F1\">\\r\\n\\t\\t\\t\\t<td class=\"dxgv\" style=\"text-align:Left;\">1994.10</td><td class=\"dxgv\" style=\"text-align:Right;border-right-width:0px;\">103,6020</td>\\r\\n\\t\\t\\t</tr><tr id=\"grd_DXDataRow65\" class=\"dxgvDataRow dxgvDataRowAlt\" bgcolor=\"#ACC6DF\">\\r\\n\\t\\t\\t\\t<td class=\"dxgv\" style=\"text-align:Left;\">1994.11</td><td class=\"dxgv\" style=\"text-align:Right;border-right-width:0px;\">106,5530</td>\\r\\n\\t\\t\\t</tr><tr id=\"grd_DXDataRow66\" class=\"dxgvDataRow\" bgcolor=\"#DCE8F1\">\\r\\n\\t\\t\\t\\t<td class=\"dxgv\" style=\"text-align:Left;\">1994.12</td><td class=\"dxgv\" style=\"text-align:Right;border-right-width:0px;\">107,4500</td>\\r\\n\\t\\t\\t</tr><tr id=\"grd_DXDataRow67\" class=\"dxgvDataRow dxgvDataRowAlt\" bgcolor=\"#ACC6DF\">\\r\\n\\t\\t\\t\\t<td class=\"dxgv\" style=\"text-align:Left;\">1995.01</td><td class=\"dxgv\" style=\"text-align:Right;border-right-width:0px;\">108,4420</td>\\r\\n\\t\\t\\t</tr><tr id=\"grd_DXDataRow68\" class=\"dxgvDataRow\" bgcolor=\"#DCE8F1\">\\r\\n\\t\\t\\t\\t<td class=\"dxgv\" style=\"text-align:Left;\">1995.02</td><td class=\"dxgv\" style=\"text-align:Right;border-right-width:0px;\">109,9450</td>\\r\\n\\t\\t\\t</tr><tr id=\"grd_DXDataRow69\" class=\"dxgvDataRow dxgvDataRowAlt\" bgcolor=\"#ACC6DF\">\\r\\n\\t\\t\\t\\t<td class=\"dxgv\" style=\"text-align:Left;\">1995.03</td><td class=\"dxgv\" style=\"text-align:Right;border-right-width:0px;\">111,1780</td>\\r\\n\\t\\t\\t</tr><tr id=\"grd_DXDataRow70\" class=\"dxgvDataRow\" bgcolor=\"#DCE8F1\">\\r\\n\\t\\t\\t\\t<td class=\"dxgv\" style=\"text-align:Left;\">1995.04</td><td class=\"dxgv\" style=\"text-align:Right;border-right-width:0px;\">113,5180</td>\\r\\n\\t\\t\\t</tr><tr id=\"grd_DXDataRow71\" class=\"dxgvDataRow dxgvDataRowAlt\" bgcolor=\"#ACC6DF\">\\r\\n\\t\\t\\t\\t<td class=\"dxgv\" style=\"text-align:Left;\">1995.05</td><td class=\"dxgv\" style=\"text-align:Right;border-right-width:0px;\">114,1710</td>\\r\\n\\t\\t\\t</tr><tr id=\"grd_DXDataRow72\" class=\"dxgvDataRow\" bgcolor=\"#DCE8F1\">\\r\\n\\t\\t\\t\\t<td class=\"dxgv\" style=\"text-align:Left;\">1995.06</td><td class=\"dxgv\" style=\"text-align:Right;border-right-width:0px;\">116,9840</td>\\r\\n\\t\\t\\t</tr><tr id=\"grd_DXDataRow73\" class=\"dxgvDataRow dxgvDataRowAlt\" bgcolor=\"#ACC6DF\">\\r\\n\\t\\t\\t\\t<td class=\"dxgv\" style=\"text-align:Left;\">1995.07</td><td class=\"dxgv\" style=\"text-align:Right;border-right-width:0px;\">119,1140</td>\\r\\n\\t\\t\\t</tr><tr id=\"grd_DXDataRow74\" class=\"dxgvDataRow\" bgcolor=\"#DCE8F1\">\\r\\n\\t\\t\\t\\t<td class=\"dxgv\" style=\"text-align:Left;\">1995.08</td><td class=\"dxgv\" style=\"text-align:Right;border-right-width:0px;\">121,7290</td>\\r\\n\\t\\t\\t</tr><tr id=\"grd_DXDataRow75\" class=\"dxgvDataRow dxgvDataRowAlt\" bgcolor=\"#ACC6DF\">\\r\\n\\t\\t\\t\\t<td class=\"dxgv\" style=\"text-align:Left;\">1995.09</td><td class=\"dxgv\" style=\"text-align:Right;border-right-width:0px;\">120,8690</td>\\r\\n\\t\\t\\t</tr><tr id=\"grd_DXDataRow76\" class=\"dxgvDataRow\" bgcolor=\"#DCE8F1\">\\r\\n\\t\\t\\t\\t<td class=\"dxgv\" style=\"text-align:Left;\">1995.10</td><td class=\"dxgv\" style=\"text-align:Right;border-right-width:0px;\">121,5030</td>\\r\\n\\t\\t\\t</tr><tr id=\"grd_DXDataRow77\" class=\"dxgvDataRow dxgvDataRowAlt\" bgcolor=\"#ACC6DF\">\\r\\n\\t\\t\\t\\t<td class=\"dxgv\" style=\"text-align:Left;\">1995.11</td><td class=\"dxgv\" style=\"text-align:Right;border-right-width:0px;\">122,9550</td>\\r\\n\\t\\t\\t</tr><tr id=\"grd_DXDataRow78\" class=\"dxgvDataRow\" bgcolor=\"#DCE8F1\">\\r\\n\\t\\t\\t\\t<td class=\"dxgv\" style=\"text-align:Left;\">1995.12</td><td class=\"dxgv\" style=\"text-align:Right;border-right-width:0px;\">123,8330</td>\\r\\n\\t\\t\\t</tr><tr id=\"grd_DXDataRow79\" class=\"dxgvDataRow dxgvDataRowAlt\" bgcolor=\"#ACC6DF\">\\r\\n\\t\\t\\t\\t<td class=\"dxgv\" style=\"text-align:Left;\">1996.01</td><td class=\"dxgv\" style=\"text-align:Right;border-right-width:0px;\">125,9770</td>\\r\\n\\t\\t\\t</tr><tr id=\"grd_DXDataRow80\" class=\"dxgvDataRow\" bgcolor=\"#DCE8F1\">\\r\\n\\t\\t\\t\\t<td class=\"dxgv\" style=\"text-align:Left;\">1996.02</td><td class=\"dxgv\" style=\"text-align:Right;border-right-width:0px;\">127,2020</td>\\r\\n\\t\\t\\t</tr><tr id=\"grd_DXDataRow81\" class=\"dxgvDataRow dxgvDataRowAlt\" bgcolor=\"#ACC6DF\">\\r\\n\\t\\t\\t\\t<td class=\"dxgv\" style=\"text-align:Left;\">1996.03</td><td class=\"dxgv\" style=\"text-align:Right;border-right-width:0px;\">127,7150</td>\\r\\n\\t\\t\\t</tr><tr id=\"grd_DXDataRow82\" class=\"dxgvDataRow\" bgcolor=\"#DCE8F1\">\\r\\n\\t\\t\\t\\t<td class=\"dxgv\" style=\"text-align:Left;\">1996.04</td><td class=\"dxgv\" style=\"text-align:Right;border-right-width:0px;\">128,1300</td>\\r\\n\\t\\t\\t</tr><tr id=\"grd_DXDataRow83\" class=\"dxgvDataRow dxgvDataRowAlt\" bgcolor=\"#ACC6DF\">\\r\\n\\t\\t\\t\\t<td class=\"dxgv\" style=\"text-align:Left;\">1996.05</td><td class=\"dxgv\" style=\"text-align:Right;border-right-width:0px;\">130,1210</td>\\r\\n\\t\\t\\t</tr><tr id=\"grd_DXDataRow84\" class=\"dxgvDataRow\" bgcolor=\"#DCE8F1\">\\r\\n\\t\\t\\t\\t<td class=\"dxgv\" style=\"text-align:Left;\">1996.06</td><td class=\"dxgv\" style=\"text-align:Right;border-right-width:0px;\">131,4450</td>\\r\\n\\t\\t\\t</tr><tr id=\"grd_DXDataRow85\" class=\"dxgvDataRow dxgvDataRowAlt\" bgcolor=\"#ACC6DF\">\\r\\n\\t\\t\\t\\t<td class=\"dxgv\" style=\"text-align:Left;\">1996.07</td><td class=\"dxgv\" style=\"text-align:Right;border-right-width:0px;\">133,2130</td>\\r\\n\\t\\t\\t</tr><tr id=\"grd_DXDataRow86\" class=\"dxgvDataRow\" bgcolor=\"#DCE8F1\">\\r\\n\\t\\t\\t\\t<td class=\"dxgv\" style=\"text-align:Left;\">1996.08</td><td class=\"dxgv\" style=\"text-align:Right;border-right-width:0px;\">133,5870</td>\\r\\n\\t\\t\\t</tr><tr id=\"grd_DXDataRow87\" class=\"dxgvDataRow dxgvDataRowAlt\" bgcolor=\"#ACC6DF\">\\r\\n\\t\\t\\t\\t<td class=\"dxgv\" style=\"text-align:Left;\">1996.09</td><td class=\"dxgv\" style=\"text-align:Right;border-right-width:0px;\">133,7220</td>\\r\\n\\t\\t\\t</tr><tr id=\"grd_DXDataRow88\" class=\"dxgvDataRow\" bgcolor=\"#DCE8F1\">\\r\\n\\t\\t\\t\\t<td class=\"dxgv\" style=\"text-align:Left;\">1996.10</td><td class=\"dxgv\" style=\"text-align:Right;border-right-width:0px;\">133,9780</td>\\r\\n\\t\\t\\t</tr><tr id=\"grd_DXDataRow89\" class=\"dxgvDataRow dxgvDataRowAlt\" bgcolor=\"#ACC6DF\">\\r\\n\\t\\t\\t\\t<td class=\"dxgv\" style=\"text-align:Left;\">1996.11</td><td class=\"dxgv\" style=\"text-align:Right;border-right-width:0px;\">134,2420</td>\\r\\n\\t\\t\\t</tr><tr id=\"grd_DXDataRow90\" class=\"dxgvDataRow\" bgcolor=\"#DCE8F1\">\\r\\n\\t\\t\\t\\t<td class=\"dxgv\" style=\"text-align:Left;\">1996.12</td><td class=\"dxgv\" style=\"text-align:Right;border-right-width:0px;\">135,2250</td>\\r\\n\\t\\t\\t</tr><tr id=\"grd_DXDataRow91\" class=\"dxgvDataRow dxgvDataRowAlt\" bgcolor=\"#ACC6DF\">\\r\\n\\t\\t\\t\\t<td class=\"dxgv\" style=\"text-align:Left;\">1997.01</td><td class=\"dxgv\" style=\"text-align:Right;border-right-width:0px;\">137,6130</td>\\r\\n\\t\\t\\t</tr><tr id=\"grd_DXDataRow92\" class=\"dxgvDataRow\" bgcolor=\"#DCE8F1\">\\r\\n\\t\\t\\t\\t<td class=\"dxgv\" style=\"text-align:Left;\">1997.02</td><td class=\"dxgv\" style=\"text-align:Right;border-right-width:0px;\">138,2040</td>\\r\\n\\t\\t\\t</tr><tr id=\"grd_DXDataRow93\" class=\"dxgvDataRow dxgvDataRowAlt\" bgcolor=\"#ACC6DF\">\\r\\n\\t\\t\\t\\t<td class=\"dxgv\" style=\"text-align:Left;\">1997.03</td><td class=\"dxgv\" style=\"text-align:Right;border-right-width:0px;\">139,7950</td>\\r\\n\\t\\t\\t</tr><tr id=\"grd_DXDataRow94\" class=\"dxgvDataRow\" bgcolor=\"#DCE8F1\">\\r\\n\\t\\t\\t\\t<td class=\"dxgv\" style=\"text-align:Left;\">1997.04</td><td class=\"dxgv\" style=\"text-align:Right;border-right-width:0px;\">140,7420</td>\\r\\n\\t\\t\\t</tr><tr id=\"grd_DXDataRow95\" class=\"dxgvDataRow dxgvDataRowAlt\" bgcolor=\"#ACC6DF\">\\r\\n\\t\\t\\t\\t<td class=\"dxgv\" style=\"text-align:Left;\">1997.05</td><td class=\"dxgv\" style=\"text-align:Right;border-right-width:0px;\">141,0400</td>\\r\\n\\t\\t\\t</tr><tr id=\"grd_DXDataRow96\" class=\"dxgvDataRow\" bgcolor=\"#DCE8F1\">\\r\\n\\t\\t\\t\\t<td class=\"dxgv\" style=\"text-align:Left;\">1997.06</td><td class=\"dxgv\" style=\"text-align:Right;border-right-width:0px;\">142,0900</td>\\r\\n\\t\\t\\t</tr><tr id=\"grd_DXDataRow97\" class=\"dxgvDataRow dxgvDataRowAlt\" bgcolor=\"#ACC6DF\">\\r\\n\\t\\t\\t\\t<td class=\"dxgv\" style=\"text-align:Left;\">1997.07</td><td class=\"dxgv\" style=\"text-align:Right;border-right-width:0px;\">142,2210</td>\\r\\n\\t\\t\\t</tr><tr id=\"grd_DXDataRow98\" class=\"dxgvDataRow\" bgcolor=\"#DCE8F1\">\\r\\n\\t\\t\\t\\t<td class=\"dxgv\" style=\"text-align:Left;\">1997.08</td><td class=\"dxgv\" style=\"text-align:Right;border-right-width:0px;\">142,3530</td>\\r\\n\\t\\t\\t</tr><tr id=\"grd_DXDataRow99\" class=\"dxgvDataRow dxgvDataRowAlt\" bgcolor=\"#ACC6DF\">\\r\\n\\t\\t\\t\\t<td class=\"dxgv\" style=\"text-align:Left;\">1997.09</td><td class=\"dxgv\" style=\"text-align:Right;border-right-width:0px;\">143,0420</td>\\r\\n\\t\\t\\t</tr><tr id=\"grd_DXDataRow100\" class=\"dxgvDataRow\" bgcolor=\"#DCE8F1\">\\r\\n\\t\\t\\t\\t<td class=\"dxgv\" style=\"text-align:Left;\">1997.10</td><td class=\"dxgv\" style=\"text-align:Right;border-right-width:0px;\">143,5670</td>\\r\\n\\t\\t\\t</tr><tr id=\"grd_DXDataRow101\" class=\"dxgvDataRow dxgvDataRowAlt\" bgcolor=\"#ACC6DF\">\\r\\n\\t\\t\\t\\t<td class=\"dxgv\" style=\"text-align:Left;\">1997.11</td><td class=\"dxgv\" style=\"text-align:Right;border-right-width:0px;\">144,4810</td>\\r\\n\\t\\t\\t</tr><tr id=\"grd_DXDataRow102\" class=\"dxgvDataRow\" bgcolor=\"#DCE8F1\">\\r\\n\\t\\t\\t\\t<td class=\"dxgv\" style=\"text-align:Left;\">1997.12</td><td class=\"dxgv\" style=\"text-align:Right;border-right-width:0px;\">145,6950</td>\\r\\n\\t\\t\\t</tr><tr id=\"grd_DXDataRow103\" class=\"dxgvDataRow dxgvDataRowAlt\" bgcolor=\"#ACC6DF\">\\r\\n\\t\\t\\t\\t<td class=\"dxgv\" style=\"text-align:Left;\">1998.01</td><td class=\"dxgv\" style=\"text-align:Right;border-right-width:0px;\">147,0910</td>\\r\\n\\t\\t\\t</tr><tr id=\"grd_DXDataRow104\" class=\"dxgvDataRow\" bgcolor=\"#DCE8F1\">\\r\\n\\t\\t\\t\\t<td class=\"dxgv\" style=\"text-align:Left;\">1998.02</td><td class=\"dxgv\" style=\"text-align:Right;border-right-width:0px;\">147,3560</td>\\r\\n\\t\\t\\t</tr><tr id=\"grd_DXDataRow105\" class=\"dxgvDataRow dxgvDataRowAlt\" bgcolor=\"#ACC6DF\">\\r\\n\\t\\t\\t\\t<td class=\"dxgv\" style=\"text-align:Left;\">1998.03</td><td class=\"dxgv\" style=\"text-align:Right;border-right-width:0px;\">147,6350</td>\\r\\n\\t\\t\\t</tr><tr id=\"grd_DXDataRow106\" class=\"dxgvDataRow\" bgcolor=\"#DCE8F1\">\\r\\n\\t\\t\\t\\t<td class=\"dxgv\" style=\"text-align:Left;\">1998.04</td><td class=\"dxgv\" style=\"text-align:Right;border-right-width:0px;\">147,8210</td>\\r\\n\\t\\t\\t</tr><tr id=\"grd_DXDataRow107\" class=\"dxgvDataRow dxgvDataRowAlt\" bgcolor=\"#ACC6DF\">\\r\\n\\t\\t\\t\\t<td class=\"dxgv\" style=\"text-align:Left;\">1998.05</td><td class=\"dxgv\" style=\"text-align:Right;border-right-width:0px;\">148,0210</td>\\r\\n\\t\\t\\t</tr><tr id=\"grd_DXDataRow108\" class=\"dxgvDataRow\" bgcolor=\"#DCE8F1\">\\r\\n\\t\\t\\t\\t<td class=\"dxgv\" style=\"text-align:Left;\">1998.06</td><td class=\"dxgv\" style=\"text-align:Right;border-right-width:0px;\">148,5880</td>\\r\\n\\t\\t\\t</tr><tr id=\"grd_DXDataRow109\" class=\"dxgvDataRow dxgvDataRowAlt\" bgcolor=\"#ACC6DF\">\\r\\n\\t\\t\\t\\t<td class=\"dxgv\" style=\"text-align:Left;\">1998.07</td><td class=\"dxgv\" style=\"text-align:Right;border-right-width:0px;\">148,3390</td>\\r\\n\\t\\t\\t</tr><tr id=\"grd_DXDataRow110\" class=\"dxgvDataRow\" bgcolor=\"#DCE8F1\">\\r\\n\\t\\t\\t\\t<td class=\"dxgv\" style=\"text-align:Left;\">1998.08</td><td class=\"dxgv\" style=\"text-align:Right;border-right-width:0px;\">148,1090</td>\\r\\n\\t\\t\\t</tr><tr id=\"grd_DXDataRow111\" class=\"dxgvDataRow dxgvDataRowAlt\" bgcolor=\"#ACC6DF\">\\r\\n\\t\\t\\t\\t<td class=\"dxgv\" style=\"text-align:Left;\">1998.09</td><td class=\"dxgv\" style=\"text-align:Right;border-right-width:0px;\">147,9840</td>\\r\\n\\t\\t\\t</tr><tr id=\"grd_DXDataRow112\" class=\"dxgvDataRow\" bgcolor=\"#DCE8F1\">\\r\\n\\t\\t\\t\\t<td class=\"dxgv\" style=\"text-align:Left;\">1998.10</td><td class=\"dxgv\" style=\"text-align:Right;border-right-width:0px;\">148,1000</td>\\r\\n\\t\\t\\t</tr><tr id=\"grd_DXDataRow113\" class=\"dxgvDataRow dxgvDataRowAlt\" bgcolor=\"#ACC6DF\">\\r\\n\\t\\t\\t\\t<td class=\"dxgv\" style=\"text-align:Left;\">1998.11</td><td class=\"dxgv\" style=\"text-align:Right;border-right-width:0px;\">147,6280</td>\\r\\n\\t\\t\\t</tr><tr id=\"grd_DXDataRow114\" class=\"dxgvDataRow\" bgcolor=\"#DCE8F1\">\\r\\n\\t\\t\\t\\t<td class=\"dxgv\" style=\"text-align:Left;\">1998.12</td><td class=\"dxgv\" style=\"text-align:Right;border-right-width:0px;\">148,2910</td>\\r\\n\\t\\t\\t</tr><tr id=\"grd_DXDataRow115\" class=\"dxgvDataRow dxgvDataRowAlt\" bgcolor=\"#ACC6DF\">\\r\\n\\t\\t\\t\\t<td class=\"dxgv\" style=\"text-align:Left;\">1999.01</td><td class=\"dxgv\" style=\"text-align:Right;border-right-width:0px;\">149,5330</td>\\r\\n\\t\\t\\t</tr><tr id=\"grd_DXDataRow116\" class=\"dxgvDataRow\" bgcolor=\"#DCE8F1\">\\r\\n\\t\\t\\t\\t<td class=\"dxgv\" style=\"text-align:Left;\">1999.02</td><td class=\"dxgv\" style=\"text-align:Right;border-right-width:0px;\">154,9330</td>\\r\\n\\t\\t\\t</tr><tr id=\"grd_DXDataRow117\" class=\"dxgvDataRow dxgvDataRowAlt\" bgcolor=\"#ACC6DF\">\\r\\n\\t\\t\\t\\t<td class=\"dxgv\" style=\"text-align:Left;\">1999.03</td><td class=\"dxgv\" style=\"text-align:Right;border-right-width:0px;\">159,3250</td>\\r\\n\\t\\t\\t</tr><tr id=\"grd_DXDataRow118\" class=\"dxgvDataRow\" bgcolor=\"#DCE8F1\">\\r\\n\\t\\t\\t\\t<td class=\"dxgv\" style=\"text-align:Left;\">1999.04</td><td class=\"dxgv\" style=\"text-align:Right;border-right-width:0px;\">160,4590</td>\\r\\n\\t\\t\\t</tr><tr id=\"grd_DXDataRow119\" class=\"dxgvDataRow dxgvDataRowAlt\" bgcolor=\"#ACC6DF\">\\r\\n\\t\\t\\t\\t<td class=\"dxgv\" style=\"text-align:Left;\">1999.05</td><td class=\"dxgv\" style=\"text-align:Right;border-right-width:0px;\">159,9960</td>\\r\\n\\t\\t\\t</tr><tr id=\"grd_DXDataRow120\" class=\"dxgvDataRow\" bgcolor=\"#DCE8F1\">\\r\\n\\t\\t\\t\\t<td class=\"dxgv\" style=\"text-align:Left;\">1999.06</td><td class=\"dxgv\" style=\"text-align:Right;border-right-width:0px;\">160,5730</td>\\r\\n\\t\\t\\t</tr><tr id=\"grd_DXDataRow121\" class=\"dxgvDataRow dxgvDataRowAlt\" bgcolor=\"#ACC6DF\">\\r\\n\\t\\t\\t\\t<td class=\"dxgv\" style=\"text-align:Left;\">1999.07</td><td class=\"dxgv\" style=\"text-align:Right;border-right-width:0px;\">163,0600</td>\\r\\n\\t\\t\\t</tr><tr id=\"grd_DXDataRow122\" class=\"dxgvDataRow\" bgcolor=\"#DCE8F1\">\\r\\n\\t\\t\\t\\t<td class=\"dxgv\" style=\"text-align:Left;\">1999.08</td><td class=\"dxgv\" style=\"text-align:Right;border-right-width:0px;\">165,6030</td>\\r\\n\\t\\t\\t</tr><tr id=\"grd_DXDataRow123\" class=\"dxgvDataRow dxgvDataRowAlt\" bgcolor=\"#ACC6DF\">\\r\\n\\t\\t\\t\\t<td class=\"dxgv\" style=\"text-align:Left;\">1999.09</td><td class=\"dxgv\" style=\"text-align:Right;border-right-width:0px;\">167,9970</td>\\r\\n\\t\\t\\t</tr><tr id=\"grd_DXDataRow124\" class=\"dxgvDataRow\" bgcolor=\"#DCE8F1\">\\r\\n\\t\\t\\t\\t<td class=\"dxgv\" style=\"text-align:Left;\">1999.10</td><td class=\"dxgv\" style=\"text-align:Right;border-right-width:0px;\">170,8610</td>\\r\\n\\t\\t\\t</tr><tr id=\"grd_DXDataRow125\" class=\"dxgvDataRow dxgvDataRowAlt\" bgcolor=\"#ACC6DF\">\\r\\n\\t\\t\\t\\t<td class=\"dxgv\" style=\"text-align:Left;\">1999.11</td><td class=\"dxgv\" style=\"text-align:Right;border-right-width:0px;\">174,9390</td>\\r\\n\\t\\t\\t</tr><tr id=\"grd_DXDataRow126\" class=\"dxgvDataRow\" bgcolor=\"#DCE8F1\">\\r\\n\\t\\t\\t\\t<td class=\"dxgv\" style=\"text-align:Left;\">1999.12</td><td class=\"dxgv\" style=\"text-align:Right;border-right-width:0px;\">178,0990</td>\\r\\n\\t\\t\\t</tr><tr id=\"grd_DXDataRow127\" class=\"dxgvDataRow dxgvDataRowAlt\" bgcolor=\"#ACC6DF\">\\r\\n\\t\\t\\t\\t<td class=\"dxgv\" style=\"text-align:Left;\">2000.01</td><td class=\"dxgv\" style=\"text-align:Right;border-right-width:0px;\">180,3010</td>\\r\\n\\t\\t\\t</tr><tr id=\"grd_DXDataRow128\" class=\"dxgvDataRow\" bgcolor=\"#DCE8F1\">\\r\\n\\t\\t\\t\\t<td class=\"dxgv\" style=\"text-align:Left;\">2000.02</td><td class=\"dxgv\" style=\"text-align:Right;border-right-width:0px;\">180,9350</td>\\r\\n\\t\\t\\t</tr><tr id=\"grd_DXDataRow129\" class=\"dxgvDataRow dxgvDataRowAlt\" bgcolor=\"#ACC6DF\">\\r\\n\\t\\t\\t\\t<td class=\"dxgv\" style=\"text-align:Left;\">2000.03</td><td class=\"dxgv\" style=\"text-align:Right;border-right-width:0px;\">181,2140</td>\\r\\n\\t\\t\\t</tr><tr id=\"grd_DXDataRow130\" class=\"dxgvDataRow\" bgcolor=\"#DCE8F1\">\\r\\n\\t\\t\\t\\t<td class=\"dxgv\" style=\"text-align:Left;\">2000.04</td><td class=\"dxgv\" style=\"text-align:Right;border-right-width:0px;\">181,6350</td>\\r\\n\\t\\t\\t</tr><tr id=\"grd_DXDataRow131\" class=\"dxgvDataRow dxgvDataRowAlt\" bgcolor=\"#ACC6DF\">\\r\\n\\t\\t\\t\\t<td class=\"dxgv\" style=\"text-align:Left;\">2000.05</td><td class=\"dxgv\" style=\"text-align:Right;border-right-width:0px;\">182,1890</td>\\r\\n\\t\\t\\t</tr><tr id=\"grd_DXDataRow132\" class=\"dxgvDataRow\" bgcolor=\"#DCE8F1\">\\r\\n\\t\\t\\t\\t<td class=\"dxgv\" style=\"text-align:Left;\">2000.06</td><td class=\"dxgv\" style=\"text-align:Right;border-right-width:0px;\">183,7450</td>\\r\\n\\t\\t\\t</tr><tr id=\"grd_DXDataRow133\" class=\"dxgvDataRow dxgvDataRowAlt\" bgcolor=\"#ACC6DF\">\\r\\n\\t\\t\\t\\t<td class=\"dxgv\" style=\"text-align:Left;\">2000.07</td><td class=\"dxgv\" style=\"text-align:Right;border-right-width:0px;\">186,6340</td>\\r\\n\\t\\t\\t</tr><tr id=\"grd_DXDataRow134\" class=\"dxgvDataRow\" bgcolor=\"#DCE8F1\">\\r\\n\\t\\t\\t\\t<td class=\"dxgv\" style=\"text-align:Left;\">2000.08</td><td class=\"dxgv\" style=\"text-align:Right;border-right-width:0px;\">191,0870</td>\\r\\n\\t\\t\\t</tr><tr id=\"grd_DXDataRow135\" class=\"dxgvDataRow dxgvDataRowAlt\" bgcolor=\"#ACC6DF\">\\r\\n\\t\\t\\t\\t<td class=\"dxgv\" style=\"text-align:Left;\">2000.09</td><td class=\"dxgv\" style=\"text-align:Right;border-right-width:0px;\">193,2970</td>\\r\\n\\t\\t\\t</tr><tr id=\"grd_DXDataRow136\" class=\"dxgvDataRow\" bgcolor=\"#DCE8F1\">\\r\\n\\t\\t\\t\\t<td class=\"dxgv\" style=\"text-align:Left;\">2000.10</td><td class=\"dxgv\" style=\"text-align:Right;border-right-width:0px;\">194,0400</td>\\r\\n\\t\\t\\t</tr><tr id=\"grd_DXDataRow137\" class=\"dxgvDataRow dxgvDataRowAlt\" bgcolor=\"#ACC6DF\">\\r\\n\\t\\t\\t\\t<td class=\"dxgv\" style=\"text-align:Left;\">2000.11</td><td class=\"dxgv\" style=\"text-align:Right;border-right-width:0px;\">194,5990</td>\\r\\n\\t\\t\\t</tr><tr id=\"grd_DXDataRow138\" class=\"dxgvDataRow\" bgcolor=\"#DCE8F1\">\\r\\n\\t\\t\\t\\t<td class=\"dxgv\" style=\"text-align:Left;\">2000.12</td><td class=\"dxgv\" style=\"text-align:Right;border-right-width:0px;\">195,8270</td>\\r\\n\\t\\t\\t</tr><tr id=\"grd_DXDataRow139\" class=\"dxgvDataRow dxgvDataRowAlt\" bgcolor=\"#ACC6DF\">\\r\\n\\t\\t\\t\\t<td class=\"dxgv\" style=\"text-align:Left;\">2001.01</td><td class=\"dxgv\" style=\"text-align:Right;border-right-width:0px;\">197,0450</td>\\r\\n\\t\\t\\t</tr><tr id=\"grd_DXDataRow140\" class=\"dxgvDataRow\" bgcolor=\"#DCE8F1\">\\r\\n\\t\\t\\t\\t<td class=\"dxgv\" style=\"text-align:Left;\">2001.02</td><td class=\"dxgv\" style=\"text-align:Right;border-right-width:0px;\">197,4910</td>\\r\\n\\t\\t\\t</tr><tr id=\"grd_DXDataRow141\" class=\"dxgvDataRow dxgvDataRowAlt\" bgcolor=\"#ACC6DF\">\\r\\n\\t\\t\\t\\t<td class=\"dxgv\" style=\"text-align:Left;\">2001.03</td><td class=\"dxgv\" style=\"text-align:Right;border-right-width:0px;\">198,6060</td>\\r\\n\\t\\t\\t</tr><tr id=\"grd_DXDataRow142\" class=\"dxgvDataRow\" bgcolor=\"#DCE8F1\">\\r\\n\\t\\t\\t\\t<td class=\"dxgv\" style=\"text-align:Left;\">2001.04</td><td class=\"dxgv\" style=\"text-align:Right;border-right-width:0px;\">200,5910</td>\\r\\n\\t\\t\\t</tr><tr id=\"grd_DXDataRow143\" class=\"dxgvDataRow dxgvDataRowAlt\" bgcolor=\"#ACC6DF\">\\r\\n\\t\\t\\t\\t<td class=\"dxgv\" style=\"text-align:Left;\">2001.05</td><td class=\"dxgv\" style=\"text-align:Right;border-right-width:0px;\">202,3240</td>\\r\\n\\t\\t\\t</tr><tr id=\"grd_DXDataRow144\" class=\"dxgvDataRow\" bgcolor=\"#DCE8F1\">\\r\\n\\t\\t\\t\\t<td class=\"dxgv\" style=\"text-align:Left;\">2001.06</td><td class=\"dxgv\" style=\"text-align:Right;border-right-width:0px;\">204,3100</td>\\r\\n\\t\\t\\t</tr><tr id=\"grd_DXDataRow145\" class=\"dxgvDataRow dxgvDataRowAlt\" bgcolor=\"#ACC6DF\">\\r\\n\\t\\t\\t\\t<td class=\"dxgv\" style=\"text-align:Left;\">2001.07</td><td class=\"dxgv\" style=\"text-align:Right;border-right-width:0px;\">207,3410</td>\\r\\n\\t\\t\\t</tr><tr id=\"grd_DXDataRow146\" class=\"dxgvDataRow\" bgcolor=\"#DCE8F1\">\\r\\n\\t\\t\\t\\t<td class=\"dxgv\" style=\"text-align:Left;\">2001.08</td><td class=\"dxgv\" style=\"text-align:Right;border-right-width:0px;\">210,2110</td>\\r\\n\\t\\t\\t</tr><tr id=\"grd_DXDataRow147\" class=\"dxgvDataRow dxgvDataRowAlt\" bgcolor=\"#ACC6DF\">\\r\\n\\t\\t\\t\\t<td class=\"dxgv\" style=\"text-align:Left;\">2001.09</td><td class=\"dxgv\" style=\"text-align:Right;border-right-width:0px;\">210,8530</td>\\r\\n\\t\\t\\t</tr><tr id=\"grd_DXDataRow148\" class=\"dxgvDataRow\" bgcolor=\"#DCE8F1\">\\r\\n\\t\\t\\t\\t<td class=\"dxgv\" style=\"text-align:Left;\">2001.10</td><td class=\"dxgv\" style=\"text-align:Right;border-right-width:0px;\">213,3390</td>\\r\\n\\t\\t\\t</tr><tr id=\"grd_DXDataRow149\" class=\"dxgvDataRow dxgvDataRowAlt\" bgcolor=\"#ACC6DF\">\\r\\n\\t\\t\\t\\t<td class=\"dxgv\" style=\"text-align:Left;\">2001.11</td><td class=\"dxgv\" style=\"text-align:Right;border-right-width:0px;\">215,6850</td>\\r\\n\\t\\t\\t</tr><tr id=\"grd_DXDataRow150\" class=\"dxgvDataRow\" bgcolor=\"#DCE8F1\">\\r\\n\\t\\t\\t\\t<td class=\"dxgv\" style=\"text-align:Left;\">2001.12</td><td class=\"dxgv\" style=\"text-align:Right;border-right-width:0px;\">216,1630</td>\\r\\n\\t\\t\\t</tr><tr id=\"grd_DXDataRow151\" class=\"dxgvDataRow dxgvDataRowAlt\" bgcolor=\"#ACC6DF\">\\r\\n\\t\\t\\t\\t<td class=\"dxgv\" style=\"text-align:Left;\">2002.01</td><td class=\"dxgv\" style=\"text-align:Right;border-right-width:0px;\">216,9440</td>\\r\\n\\t\\t\\t</tr><tr id=\"grd_DXDataRow152\" class=\"dxgvDataRow\" bgcolor=\"#DCE8F1\">\\r\\n\\t\\t\\t\\t<td class=\"dxgv\" style=\"text-align:Left;\">2002.02</td><td class=\"dxgv\" style=\"text-align:Right;border-right-width:0px;\">217,0740</td>\\r\\n\\t\\t\\t</tr><tr id=\"grd_DXDataRow153\" class=\"dxgvDataRow dxgvDataRowAlt\" bgcolor=\"#ACC6DF\">\\r\\n\\t\\t\\t\\t<td class=\"dxgv\" style=\"text-align:Left;\">2002.03</td><td class=\"dxgv\" style=\"text-align:Right;border-right-width:0px;\">217,2760</td>\\r\\n\\t\\t\\t</tr><tr id=\"grd_DXDataRow154\" class=\"dxgvDataRow\" bgcolor=\"#DCE8F1\">\\r\\n\\t\\t\\t\\t<td class=\"dxgv\" style=\"text-align:Left;\">2002.04</td><td class=\"dxgv\" style=\"text-align:Right;border-right-width:0px;\">218,4860</td>\\r\\n\\t\\t\\t</tr><tr id=\"grd_DXDataRow155\" class=\"dxgvDataRow dxgvDataRowAlt\" bgcolor=\"#ACC6DF\">\\r\\n\\t\\t\\t\\t<td class=\"dxgv\" style=\"text-align:Left;\">2002.05</td><td class=\"dxgv\" style=\"text-align:Right;border-right-width:0px;\">220,2920</td>\\r\\n\\t\\t\\t</tr><tr id=\"grd_DXDataRow156\" class=\"dxgvDataRow\" bgcolor=\"#DCE8F1\">\\r\\n\\t\\t\\t\\t<td class=\"dxgv\" style=\"text-align:Left;\">2002.06</td><td class=\"dxgv\" style=\"text-align:Right;border-right-width:0px;\">223,6880</td>\\r\\n\\t\\t\\t</tr><tr id=\"grd_DXDataRow157\" class=\"dxgvDataRow dxgvDataRowAlt\" bgcolor=\"#ACC6DF\">\\r\\n\\t\\t\\t\\t<td class=\"dxgv\" style=\"text-align:Left;\">2002.07</td><td class=\"dxgv\" style=\"text-align:Right;border-right-width:0px;\">228,0570</td>\\r\\n\\t\\t\\t</tr><tr id=\"grd_DXDataRow158\" class=\"dxgvDataRow\" bgcolor=\"#DCE8F1\">\\r\\n\\t\\t\\t\\t<td class=\"dxgv\" style=\"text-align:Left;\">2002.08</td><td class=\"dxgv\" style=\"text-align:Right;border-right-width:0px;\">233,3480</td>\\r\\n\\t\\t\\t</tr><tr id=\"grd_DXDataRow159\" class=\"dxgvDataRow dxgvDataRowAlt\" bgcolor=\"#ACC6DF\">\\r\\n\\t\\t\\t\\t<td class=\"dxgv\" style=\"text-align:Left;\">2002.09</td><td class=\"dxgv\" style=\"text-align:Right;border-right-width:0px;\">238,9430</td>\\r\\n\\t\\t\\t</tr><tr id=\"grd_DXDataRow160\" class=\"dxgvDataRow\" bgcolor=\"#DCE8F1\">\\r\\n\\t\\t\\t\\t<td class=\"dxgv\" style=\"text-align:Left;\">2002.10</td><td class=\"dxgv\" style=\"text-align:Right;border-right-width:0px;\">248,1990</td>\\r\\n\\t\\t\\t</tr><tr id=\"grd_DXDataRow161\" class=\"dxgvDataRow dxgvDataRowAlt\" bgcolor=\"#ACC6DF\">\\r\\n\\t\\t\\t\\t<td class=\"dxgv\" style=\"text-align:Left;\">2002.11</td><td class=\"dxgv\" style=\"text-align:Right;border-right-width:0px;\">261,0800</td>\\r\\n\\t\\t\\t</tr><tr id=\"grd_DXDataRow162\" class=\"dxgvDataRow\" bgcolor=\"#DCE8F1\">\\r\\n\\t\\t\\t\\t<td class=\"dxgv\" style=\"text-align:Left;\">2002.12</td><td class=\"dxgv\" style=\"text-align:Right;border-right-width:0px;\">270,8670</td>\\r\\n\\t\\t\\t</tr><tr id=\"grd_DXDataRow163\" class=\"dxgvDataRow dxgvDataRowAlt\" bgcolor=\"#ACC6DF\">\\r\\n\\t\\t\\t\\t<td class=\"dxgv\" style=\"text-align:Left;\">2003.01</td><td class=\"dxgv\" style=\"text-align:Right;border-right-width:0px;\">277,1730</td>\\r\\n\\t\\t\\t</tr><tr id=\"grd_DXDataRow164\" class=\"dxgvDataRow\" bgcolor=\"#DCE8F1\">\\r\\n\\t\\t\\t\\t<td class=\"dxgv\" style=\"text-align:Left;\">2003.02</td><td class=\"dxgv\" style=\"text-align:Right;border-right-width:0px;\">283,5060</td>\\r\\n\\t\\t\\t</tr><tr id=\"grd_DXDataRow165\" class=\"dxgvDataRow dxgvDataRowAlt\" bgcolor=\"#ACC6DF\">\\r\\n\\t\\t\\t\\t<td class=\"dxgv\" style=\"text-align:Left;\">2003.03</td><td class=\"dxgv\" style=\"text-align:Right;border-right-width:0px;\">287,8550</td>\\r\\n\\t\\t\\t</tr><tr id=\"grd_DXDataRow166\" class=\"dxgvDataRow\" bgcolor=\"#DCE8F1\">\\r\\n\\t\\t\\t\\t<td class=\"dxgv\" style=\"text-align:Left;\">2003.04</td><td class=\"dxgv\" style=\"text-align:Right;border-right-width:0px;\">290,5120</td>\\r\\n\\t\\t\\t</tr><tr id=\"grd_DXDataRow167\" class=\"dxgvDataRow dxgvDataRowAlt\" bgcolor=\"#ACC6DF\">\\r\\n\\t\\t\\t\\t<td class=\"dxgv\" style=\"text-align:Left;\">2003.05</td><td class=\"dxgv\" style=\"text-align:Right;border-right-width:0px;\">289,7470</td>\\r\\n\\t\\t\\t</tr><tr id=\"grd_DXDataRow168\" class=\"dxgvDataRow\" bgcolor=\"#DCE8F1\">\\r\\n\\t\\t\\t\\t<td class=\"dxgv\" style=\"text-align:Left;\">2003.06</td><td class=\"dxgv\" style=\"text-align:Right;border-right-width:0px;\">286,8430</td>\\r\\n\\t\\t\\t</tr><tr id=\"grd_DXDataRow169\" class=\"dxgvDataRow dxgvDataRowAlt\" bgcolor=\"#ACC6DF\">\\r\\n\\t\\t\\t\\t<td class=\"dxgv\" style=\"text-align:Left;\">2003.07</td><td class=\"dxgv\" style=\"text-align:Right;border-right-width:0px;\">285,6490</td>\\r\\n\\t\\t\\t</tr><tr id=\"grd_DXDataRow170\" class=\"dxgvDataRow\" bgcolor=\"#DCE8F1\">\\r\\n\\t\\t\\t\\t<td class=\"dxgv\" style=\"text-align:Left;\">2003.08</td><td class=\"dxgv\" style=\"text-align:Right;border-right-width:0px;\">286,7350</td>\\r\\n\\t\\t\\t</tr><tr id=\"grd_DXDataRow171\" class=\"dxgvDataRow dxgvDataRowAlt\" bgcolor=\"#ACC6DF\">\\r\\n\\t\\t\\t\\t<td class=\"dxgv\" style=\"text-align:Left;\">2003.09</td><td class=\"dxgv\" style=\"text-align:Right;border-right-width:0px;\">290,1270</td>\\r\\n\\t\\t\\t</tr><tr id=\"grd_DXDataRow172\" class=\"dxgvDataRow\" bgcolor=\"#DCE8F1\">\\r\\n\\t\\t\\t\\t<td class=\"dxgv\" style=\"text-align:Left;\">2003.10</td><td class=\"dxgv\" style=\"text-align:Right;border-right-width:0px;\">291,2290</td>\\r\\n\\t\\t\\t</tr><tr id=\"grd_DXDataRow173\" class=\"dxgvDataRow dxgvDataRowAlt\" bgcolor=\"#ACC6DF\">\\r\\n\\t\\t\\t\\t<td class=\"dxgv\" style=\"text-align:Left;\">2003.11</td><td class=\"dxgv\" style=\"text-align:Right;border-right-width:0px;\">292,6570</td>\\r\\n\\t\\t\\t</tr><tr id=\"grd_DXDataRow174\" class=\"dxgvDataRow\" bgcolor=\"#DCE8F1\">\\r\\n\\t\\t\\t\\t<td class=\"dxgv\" style=\"text-align:Left;\">2003.12</td><td class=\"dxgv\" style=\"text-align:Right;border-right-width:0px;\">294,4550</td>\\r\\n\\t\\t\\t</tr><tr id=\"grd_DXDataRow175\" class=\"dxgvDataRow dxgvDataRowAlt\" bgcolor=\"#ACC6DF\">\\r\\n\\t\\t\\t\\t<td class=\"dxgv\" style=\"text-align:Left;\">2004.01</td><td class=\"dxgv\" style=\"text-align:Right;border-right-width:0px;\">297,0390</td>\\r\\n\\t\\t\\t</tr><tr id=\"grd_DXDataRow176\" class=\"dxgvDataRow\" bgcolor=\"#DCE8F1\">\\r\\n\\t\\t\\t\\t<td class=\"dxgv\" style=\"text-align:Left;\">2004.02</td><td class=\"dxgv\" style=\"text-align:Right;border-right-width:0px;\">299,0970</td>\\r\\n\\t\\t\\t</tr><tr id=\"grd_DXDataRow177\" class=\"dxgvDataRow dxgvDataRowAlt\" bgcolor=\"#ACC6DF\">\\r\\n\\t\\t\\t\\t<td class=\"dxgv\" style=\"text-align:Left;\">2004.03</td><td class=\"dxgv\" style=\"text-align:Right;border-right-width:0px;\">302,4840</td>\\r\\n\\t\\t\\t</tr><tr id=\"grd_DXDataRow178\" class=\"dxgvDataRow\" bgcolor=\"#DCE8F1\">\\r\\n\\t\\t\\t\\t<td class=\"dxgv\" style=\"text-align:Left;\">2004.04</td><td class=\"dxgv\" style=\"text-align:Right;border-right-width:0px;\">306,1510</td>\\r\\n\\t\\t\\t</tr><tr id=\"grd_DXDataRow179\" class=\"dxgvDataRow dxgvDataRowAlt\" bgcolor=\"#ACC6DF\">\\r\\n\\t\\t\\t\\t<td class=\"dxgv\" style=\"text-align:Left;\">2004.05</td><td class=\"dxgv\" style=\"text-align:Right;border-right-width:0px;\">310,1520</td>\\r\\n\\t\\t\\t</tr><tr id=\"grd_DXDataRow180\" class=\"dxgvDataRow\" bgcolor=\"#DCE8F1\">\\r\\n\\t\\t\\t\\t<td class=\"dxgv\" style=\"text-align:Left;\">2004.06</td><td class=\"dxgv\" style=\"text-align:Right;border-right-width:0px;\">314,4190</td>\\r\\n\\t\\t\\t</tr><tr id=\"grd_DXDataRow181\" class=\"dxgvDataRow dxgvDataRowAlt\" bgcolor=\"#ACC6DF\">\\r\\n\\t\\t\\t\\t<td class=\"dxgv\" style=\"text-align:Left;\">2004.07</td><td class=\"dxgv\" style=\"text-align:Right;border-right-width:0px;\">318,5320</td>\\r\\n\\t\\t\\t</tr><tr id=\"grd_DXDataRow182\" class=\"dxgvDataRow\" bgcolor=\"#DCE8F1\">\\r\\n\\t\\t\\t\\t<td class=\"dxgv\" style=\"text-align:Left;\">2004.08</td><td class=\"dxgv\" style=\"text-align:Right;border-right-width:0px;\">322,4120</td>\\r\\n\\t\\t\\t</tr><tr id=\"grd_DXDataRow183\" class=\"dxgvDataRow dxgvDataRowAlt\" bgcolor=\"#ACC6DF\">\\r\\n\\t\\t\\t\\t<td class=\"dxgv\" style=\"text-align:Left;\">2004.09</td><td class=\"dxgv\" style=\"text-align:Right;border-right-width:0px;\">324,6510</td>\\r\\n\\t\\t\\t</tr><tr id=\"grd_DXDataRow184\" class=\"dxgvDataRow\" bgcolor=\"#DCE8F1\">\\r\\n\\t\\t\\t\\t<td class=\"dxgv\" style=\"text-align:Left;\">2004.10</td><td class=\"dxgv\" style=\"text-align:Right;border-right-width:0px;\">325,9250</td>\\r\\n\\t\\t\\t</tr><tr id=\"grd_DXDataRow185\" class=\"dxgvDataRow dxgvDataRowAlt\" bgcolor=\"#ACC6DF\">\\r\\n\\t\\t\\t\\t<td class=\"dxgv\" style=\"text-align:Left;\">2004.11</td><td class=\"dxgv\" style=\"text-align:Right;border-right-width:0px;\">328,5880</td>\\r\\n\\t\\t\\t</tr><tr id=\"grd_DXDataRow186\" class=\"dxgvDataRow\" bgcolor=\"#DCE8F1\">\\r\\n\\t\\t\\t\\t<td class=\"dxgv\" style=\"text-align:Left;\">2004.12</td><td class=\"dxgv\" style=\"text-align:Right;border-right-width:0px;\">331,0050</td>\\r\\n\\t\\t\\t</tr><tr id=\"grd_DXDataRow187\" class=\"dxgvDataRow dxgvDataRowAlt\" bgcolor=\"#ACC6DF\">\\r\\n\\t\\t\\t\\t<td class=\"dxgv\" style=\"text-align:Left;\">2005.01</td><td class=\"dxgv\" style=\"text-align:Right;border-right-width:0px;\">332,2980</td>\\r\\n\\t\\t\\t</tr><tr id=\"grd_DXDataRow188\" class=\"dxgvDataRow\" bgcolor=\"#DCE8F1\">\\r\\n\\t\\t\\t\\t<td class=\"dxgv\" style=\"text-align:Left;\">2005.02</td><td class=\"dxgv\" style=\"text-align:Right;border-right-width:0px;\">333,2880</td>\\r\\n\\t\\t\\t</tr><tr id=\"grd_DXDataRow189\" class=\"dxgvDataRow dxgvDataRowAlt\" bgcolor=\"#ACC6DF\">\\r\\n\\t\\t\\t\\t<td class=\"dxgv\" style=\"text-align:Left;\">2005.03</td><td class=\"dxgv\" style=\"text-align:Right;border-right-width:0px;\">336,1230</td>\\r\\n\\t\\t\\t</tr><tr id=\"grd_DXDataRow190\" class=\"dxgvDataRow\" bgcolor=\"#DCE8F1\">\\r\\n\\t\\t\\t\\t<td class=\"dxgv\" style=\"text-align:Left;\">2005.04</td><td class=\"dxgv\" style=\"text-align:Right;border-right-width:0px;\">339,0300</td>\\r\\n\\t\\t\\t</tr><tr id=\"grd_DXDataRow191\" class=\"dxgvDataRow dxgvDataRowAlt\" bgcolor=\"#ACC6DF\">\\r\\n\\t\\t\\t\\t<td class=\"dxgv\" style=\"text-align:Left;\">2005.05</td><td class=\"dxgv\" style=\"text-align:Right;border-right-width:0px;\">338,2990</td>\\r\\n\\t\\t\\t</tr><tr id=\"grd_DXDataRow192\" class=\"dxgvDataRow\" bgcolor=\"#DCE8F1\">\\r\\n\\t\\t\\t\\t<td class=\"dxgv\" style=\"text-align:Left;\">2005.06</td><td class=\"dxgv\" style=\"text-align:Right;border-right-width:0px;\">336,8010</td>\\r\\n\\t\\t\\t</tr><tr id=\"grd_DXDataRow193\" class=\"dxgvDataRow dxgvDataRowAlt\" bgcolor=\"#ACC6DF\">\\r\\n\\t\\t\\t\\t<td class=\"dxgv\" style=\"text-align:Left;\">2005.07</td><td class=\"dxgv\" style=\"text-align:Right;border-right-width:0px;\">335,6630</td>\\r\\n\\t\\t\\t</tr><tr id=\"grd_DXDataRow194\" class=\"dxgvDataRow\" bgcolor=\"#DCE8F1\">\\r\\n\\t\\t\\t\\t<td class=\"dxgv\" style=\"text-align:Left;\">2005.08</td><td class=\"dxgv\" style=\"text-align:Right;border-right-width:0px;\">333,4740</td>\\r\\n\\t\\t\\t</tr><tr id=\"grd_DXDataRow195\" class=\"dxgvDataRow dxgvDataRowAlt\" bgcolor=\"#ACC6DF\">\\r\\n\\t\\t\\t\\t<td class=\"dxgv\" style=\"text-align:Left;\">2005.09</td><td class=\"dxgv\" style=\"text-align:Right;border-right-width:0px;\">331,6900</td>\\r\\n\\t\\t\\t</tr><tr id=\"grd_DXDataRow196\" class=\"dxgvDataRow\" bgcolor=\"#DCE8F1\">\\r\\n\\t\\t\\t\\t<td class=\"dxgv\" style=\"text-align:Left;\">2005.10</td><td class=\"dxgv\" style=\"text-align:Right;border-right-width:0px;\">333,6940</td>\\r\\n\\t\\t\\t</tr><tr id=\"grd_DXDataRow197\" class=\"dxgvDataRow dxgvDataRowAlt\" bgcolor=\"#ACC6DF\">\\r\\n\\t\\t\\t\\t<td class=\"dxgv\" style=\"text-align:Left;\">2005.11</td><td class=\"dxgv\" style=\"text-align:Right;border-right-width:0px;\">335,0330</td>\\r\\n\\t\\t\\t</tr><tr id=\"grd_DXDataRow198\" class=\"dxgvDataRow\" bgcolor=\"#DCE8F1\">\\r\\n\\t\\t\\t\\t<td class=\"dxgv\" style=\"text-align:Left;\">2005.12</td><td class=\"dxgv\" style=\"text-align:Right;border-right-width:0px;\">335,0060</td>\\r\\n\\t\\t\\t</tr><tr id=\"grd_DXDataRow199\" class=\"dxgvDataRow dxgvDataRowAlt\" bgcolor=\"#ACC6DF\">\\r\\n\\t\\t\\t\\t<td class=\"dxgv\" style=\"text-align:Left;\">2006.01</td><td class=\"dxgv\" style=\"text-align:Right;border-right-width:0px;\">338,0830</td>\\r\\n\\t\\t\\t</tr><tr id=\"grd_DXDataRow200\" class=\"dxgvDataRow\" bgcolor=\"#DCE8F1\">\\r\\n\\t\\t\\t\\t<td class=\"dxgv\" style=\"text-align:Left;\">2006.02</td><td class=\"dxgv\" style=\"text-align:Right;border-right-width:0px;\">338,1280</td>\\r\\n\\t\\t\\t</tr><tr id=\"grd_DXDataRow201\" class=\"dxgvDataRow dxgvDataRowAlt\" bgcolor=\"#ACC6DF\">\\r\\n\\t\\t\\t\\t<td class=\"dxgv\" style=\"text-align:Left;\">2006.03</td><td class=\"dxgv\" style=\"text-align:Right;border-right-width:0px;\">337,3390</td>\\r\\n\\t\\t\\t</tr><tr id=\"grd_DXDataRow202\" class=\"dxgvDataRow\" bgcolor=\"#DCE8F1\">\\r\\n\\t\\t\\t\\t<td class=\"dxgv\" style=\"text-align:Left;\">2006.04</td><td class=\"dxgv\" style=\"text-align:Right;border-right-width:0px;\">335,9210</td>\\r\\n\\t\\t\\t</tr><tr id=\"grd_DXDataRow203\" class=\"dxgvDataRow dxgvDataRowAlt\" bgcolor=\"#ACC6DF\">\\r\\n\\t\\t\\t\\t<td class=\"dxgv\" style=\"text-align:Left;\">2006.05</td><td class=\"dxgv\" style=\"text-align:Right;border-right-width:0px;\">337,1850</td>\\r\\n\\t\\t\\t</tr><tr id=\"grd_DXDataRow204\" class=\"dxgvDataRow\" bgcolor=\"#DCE8F1\">\\r\\n\\t\\t\\t\\t<td class=\"dxgv\" style=\"text-align:Left;\">2006.06</td><td class=\"dxgv\" style=\"text-align:Right;border-right-width:0px;\">339,7120</td>\\r\\n\\t\\t\\t</tr><tr id=\"grd_DXDataRow205\" class=\"dxgvDataRow dxgvDataRowAlt\" bgcolor=\"#ACC6DF\">\\r\\n\\t\\t\\t\\t<td class=\"dxgv\" style=\"text-align:Left;\">2006.07</td><td class=\"dxgv\" style=\"text-align:Right;border-right-width:0px;\">340,3120</td>\\r\\n\\t\\t\\t</tr><tr id=\"grd_DXDataRow206\" class=\"dxgvDataRow\" bgcolor=\"#DCE8F1\">\\r\\n\\t\\t\\t\\t<td class=\"dxgv\" style=\"text-align:Left;\">2006.08</td><td class=\"dxgv\" style=\"text-align:Right;border-right-width:0px;\">341,5740</td>\\r\\n\\t\\t\\t</tr><tr id=\"grd_DXDataRow207\" class=\"dxgvDataRow dxgvDataRowAlt\" bgcolor=\"#ACC6DF\">\\r\\n\\t\\t\\t\\t<td class=\"dxgv\" style=\"text-align:Left;\">2006.09</td><td class=\"dxgv\" style=\"text-align:Right;border-right-width:0px;\">342,5610</td>\\r\\n\\t\\t\\t</tr><tr id=\"grd_DXDataRow208\" class=\"dxgvDataRow\" bgcolor=\"#DCE8F1\">\\r\\n\\t\\t\\t\\t<td class=\"dxgv\" style=\"text-align:Left;\">2006.10</td><td class=\"dxgv\" style=\"text-align:Right;border-right-width:0px;\">344,1550</td>\\r\\n\\t\\t\\t</tr><tr id=\"grd_DXDataRow209\" class=\"dxgvDataRow dxgvDataRowAlt\" bgcolor=\"#ACC6DF\">\\r\\n\\t\\t\\t\\t<td class=\"dxgv\" style=\"text-align:Left;\">2006.11</td><td class=\"dxgv\" style=\"text-align:Right;border-right-width:0px;\">346,7460</td>\\r\\n\\t\\t\\t</tr><tr id=\"grd_DXDataRow210\" class=\"dxgvDataRow\" bgcolor=\"#DCE8F1\">\\r\\n\\t\\t\\t\\t<td class=\"dxgv\" style=\"text-align:Left;\">2006.12</td><td class=\"dxgv\" style=\"text-align:Right;border-right-width:0px;\">347,8420</td>\\r\\n\\t\\t\\t</tr><tr id=\"grd_DXDataRow211\" class=\"dxgvDataRow dxgvDataRowAlt\" bgcolor=\"#ACC6DF\">\\r\\n\\t\\t\\t\\t<td class=\"dxgv\" style=\"text-align:Left;\">2007.01</td><td class=\"dxgv\" style=\"text-align:Right;border-right-width:0px;\">349,5930</td>\\r\\n\\t\\t\\t</tr><tr id=\"grd_DXDataRow212\" class=\"dxgvDataRow\" bgcolor=\"#DCE8F1\">\\r\\n\\t\\t\\t\\t<td class=\"dxgv\" style=\"text-align:Left;\">2007.02</td><td class=\"dxgv\" style=\"text-align:Right;border-right-width:0px;\">350,5240</td>\\r\\n\\t\\t\\t</tr><tr id=\"grd_DXDataRow213\" class=\"dxgvDataRow dxgvDataRowAlt\" bgcolor=\"#ACC6DF\">\\r\\n\\t\\t\\t\\t<td class=\"dxgv\" style=\"text-align:Left;\">2007.03</td><td class=\"dxgv\" style=\"text-align:Right;border-right-width:0px;\">351,7170</td>\\r\\n\\t\\t\\t</tr><tr id=\"grd_DXDataRow214\" class=\"dxgvDataRow\" bgcolor=\"#DCE8F1\">\\r\\n\\t\\t\\t\\t<td class=\"dxgv\" style=\"text-align:Left;\">2007.04</td><td class=\"dxgv\" style=\"text-align:Right;border-right-width:0px;\">351,8690</td>\\r\\n\\t\\t\\t</tr><tr id=\"grd_DXDataRow215\" class=\"dxgvDataRow dxgvDataRowAlt\" bgcolor=\"#ACC6DF\">\\r\\n\\t\\t\\t\\t<td class=\"dxgv\" style=\"text-align:Left;\">2007.05</td><td class=\"dxgv\" style=\"text-align:Right;border-right-width:0px;\">352,0200</td>\\r\\n\\t\\t\\t</tr><tr id=\"grd_DXDataRow216\" class=\"dxgvDataRow\" bgcolor=\"#DCE8F1\">\\r\\n\\t\\t\\t\\t<td class=\"dxgv\" style=\"text-align:Left;\">2007.06</td><td class=\"dxgv\" style=\"text-align:Right;border-right-width:0px;\">352,9360</td>\\r\\n\\t\\t\\t</tr><tr id=\"grd_DXDataRow217\" class=\"dxgvDataRow dxgvDataRowAlt\" bgcolor=\"#ACC6DF\">\\r\\n\\t\\t\\t\\t<td class=\"dxgv\" style=\"text-align:Left;\">2007.07</td><td class=\"dxgv\" style=\"text-align:Right;border-right-width:0px;\">353,9200</td>\\r\\n\\t\\t\\t</tr><tr id=\"grd_DXDataRow218\" class=\"dxgvDataRow\" bgcolor=\"#DCE8F1\">\\r\\n\\t\\t\\t\\t<td class=\"dxgv\" style=\"text-align:Left;\">2007.08</td><td class=\"dxgv\" style=\"text-align:Right;border-right-width:0px;\">357,4040</td>\\r\\n\\t\\t\\t</tr><tr id=\"grd_DXDataRow219\" class=\"dxgvDataRow dxgvDataRowAlt\" bgcolor=\"#ACC6DF\">\\r\\n\\t\\t\\t\\t<td class=\"dxgv\" style=\"text-align:Left;\">2007.09</td><td class=\"dxgv\" style=\"text-align:Right;border-right-width:0px;\">361,9970</td>\\r\\n\\t\\t\\t</tr><tr id=\"grd_DXDataRow220\" class=\"dxgvDataRow\" bgcolor=\"#DCE8F1\">\\r\\n\\t\\t\\t\\t<td class=\"dxgv\" style=\"text-align:Left;\">2007.10</td><td class=\"dxgv\" style=\"text-align:Right;border-right-width:0px;\">365,7940</td>\\r\\n\\t\\t\\t</tr><tr id=\"grd_DXDataRow221\" class=\"dxgvDataRow dxgvDataRowAlt\" bgcolor=\"#ACC6DF\">\\r\\n\\t\\t\\t\\t<td class=\"dxgv\" style=\"text-align:Left;\">2007.11</td><td class=\"dxgv\" style=\"text-align:Right;border-right-width:0px;\">368,3340</td>\\r\\n\\t\\t\\t</tr><tr id=\"grd_DXDataRow222\" class=\"dxgvDataRow\" bgcolor=\"#DCE8F1\">\\r\\n\\t\\t\\t\\t<td class=\"dxgv\" style=\"text-align:Left;\">2007.12</td><td class=\"dxgv\" style=\"text-align:Right;border-right-width:0px;\">374,8150</td>\\r\\n\\t\\t\\t</tr><tr id=\"grd_DXDataRow223\" class=\"dxgvDataRow dxgvDataRowAlt\" bgcolor=\"#ACC6DF\">\\r\\n\\t\\t\\t\\t<td class=\"dxgv\" style=\"text-align:Left;\">2008.01</td><td class=\"dxgv\" style=\"text-align:Right;border-right-width:0px;\">378,9000</td>\\r\\n\\t\\t\\t</tr><tr id=\"grd_DXDataRow224\" class=\"dxgvDataRow\" bgcolor=\"#DCE8F1\">\\r\\n\\t\\t\\t\\t<td class=\"dxgv\" style=\"text-align:Left;\">2008.02</td><td class=\"dxgv\" style=\"text-align:Right;border-right-width:0px;\">380,9060</td>\\r\\n\\t\\t\\t</tr><tr id=\"grd_DXDataRow225\" class=\"dxgvDataRow dxgvDataRowAlt\" bgcolor=\"#ACC6DF\">\\r\\n\\t\\t\\t\\t<td class=\"dxgv\" style=\"text-align:Left;\">2008.03</td><td class=\"dxgv\" style=\"text-align:Right;border-right-width:0px;\">383,7310</td>\\r\\n\\t\\t\\t</tr><tr id=\"grd_DXDataRow226\" class=\"dxgvDataRow\" bgcolor=\"#DCE8F1\">\\r\\n\\t\\t\\t\\t<td class=\"dxgv\" style=\"text-align:Left;\">2008.04</td><td class=\"dxgv\" style=\"text-align:Right;border-right-width:0px;\">386,3800</td>\\r\\n\\t\\t\\t</tr><tr id=\"grd_DXDataRow227\" class=\"dxgvDataRow dxgvDataRowAlt\" bgcolor=\"#ACC6DF\">\\r\\n\\t\\t\\t\\t<td class=\"dxgv\" style=\"text-align:Left;\">2008.05</td><td class=\"dxgv\" style=\"text-align:Right;border-right-width:0px;\">392,5920</td>\\r\\n\\t\\t\\t</tr><tr id=\"grd_DXDataRow228\" class=\"dxgvDataRow\" bgcolor=\"#DCE8F1\">\\r\\n\\t\\t\\t\\t<td class=\"dxgv\" style=\"text-align:Left;\">2008.06</td><td class=\"dxgv\" style=\"text-align:Right;border-right-width:0px;\">400,3820</td>\\r\\n\\t\\t\\t</tr><tr id=\"grd_DXDataRow229\" class=\"dxgvDataRow dxgvDataRowAlt\" bgcolor=\"#ACC6DF\">\\r\\n\\t\\t\\t\\t<td class=\"dxgv\" style=\"text-align:Left;\">2008.07</td><td class=\"dxgv\" style=\"text-align:Right;border-right-width:0px;\">407,4460</td>\\r\\n\\t\\t\\t</tr><tr id=\"grd_DXDataRow230\" class=\"dxgvDataRow\" bgcolor=\"#DCE8F1\">\\r\\n\\t\\t\\t\\t<td class=\"dxgv\" style=\"text-align:Left;\">2008.08</td><td class=\"dxgv\" style=\"text-align:Right;border-right-width:0px;\">406,1270</td>\\r\\n\\t\\t\\t</tr><tr id=\"grd_DXDataRow231\" class=\"dxgvDataRow dxgvDataRowAlt\" bgcolor=\"#ACC6DF\">\\r\\n\\t\\t\\t\\t<td class=\"dxgv\" style=\"text-align:Left;\">2008.09</td><td class=\"dxgv\" style=\"text-align:Right;border-right-width:0px;\">406,5570</td>\\r\\n\\t\\t\\t</tr><tr id=\"grd_DXDataRow232\" class=\"dxgvDataRow\" bgcolor=\"#DCE8F1\">\\r\\n\\t\\t\\t\\t<td class=\"dxgv\" style=\"text-align:Left;\">2008.10</td><td class=\"dxgv\" style=\"text-align:Right;border-right-width:0px;\">410,5240</td>\\r\\n\\t\\t\\t</tr><tr id=\"grd_DXDataRow233\" class=\"dxgvDataRow dxgvDataRowAlt\" bgcolor=\"#ACC6DF\">\\r\\n\\t\\t\\t\\t<td class=\"dxgv\" style=\"text-align:Left;\">2008.11</td><td class=\"dxgv\" style=\"text-align:Right;border-right-width:0px;\">412,1040</td>\\r\\n\\t\\t\\t</tr><tr id=\"grd_DXDataRow234\" class=\"dxgvDataRow\" bgcolor=\"#DCE8F1\">\\r\\n\\t\\t\\t\\t<td class=\"dxgv\" style=\"text-align:Left;\">2008.12</td><td class=\"dxgv\" style=\"text-align:Right;border-right-width:0px;\">411,5750</td>\\r\\n\\t\\t\\t</tr><tr id=\"grd_DXDataRow235\" class=\"dxgvDataRow dxgvDataRowAlt\" bgcolor=\"#ACC6DF\">\\r\\n\\t\\t\\t\\t<td class=\"dxgv\" style=\"text-align:Left;\">2009.01</td><td class=\"dxgv\" style=\"text-align:Right;border-right-width:0px;\">409,7820</td>\\r\\n\\t\\t\\t</tr><tr id=\"grd_DXDataRow236\" class=\"dxgvDataRow\" bgcolor=\"#DCE8F1\">\\r\\n\\t\\t\\t\\t<td class=\"dxgv\" style=\"text-align:Left;\">2009.02</td><td class=\"dxgv\" style=\"text-align:Right;border-right-width:0px;\">410,8490</td>\\r\\n\\t\\t\\t</tr><tr id=\"grd_DXDataRow237\" class=\"dxgvDataRow dxgvDataRowAlt\" bgcolor=\"#ACC6DF\">\\r\\n\\t\\t\\t\\t<td class=\"dxgv\" style=\"text-align:Left;\">2009.03</td><td class=\"dxgv\" style=\"text-align:Right;border-right-width:0px;\">407,8080</td>\\r\\n\\t\\t\\t</tr><tr id=\"grd_DXDataRow238\" class=\"dxgvDataRow\" bgcolor=\"#DCE8F1\">\\r\\n\\t\\t\\t\\t<td class=\"dxgv\" style=\"text-align:Left;\">2009.04</td><td class=\"dxgv\" style=\"text-align:Right;border-right-width:0px;\">407,1810</td>\\r\\n\\t\\t\\t</tr><tr id=\"grd_DXDataRow239\" class=\"dxgvDataRow dxgvDataRowAlt\" bgcolor=\"#ACC6DF\">\\r\\n\\t\\t\\t\\t<td class=\"dxgv\" style=\"text-align:Left;\">2009.05</td><td class=\"dxgv\" style=\"text-align:Right;border-right-width:0px;\">406,8850</td>\\r\\n\\t\\t\\t</tr><tr id=\"grd_DXDataRow240\" class=\"dxgvDataRow\" bgcolor=\"#DCE8F1\">\\r\\n\\t\\t\\t\\t<td class=\"dxgv\" style=\"text-align:Left;\">2009.06</td><td class=\"dxgv\" style=\"text-align:Right;border-right-width:0px;\">406,4860</td>\\r\\n\\t\\t\\t</tr><tr id=\"grd_DXDataRow241\" class=\"dxgvDataRow dxgvDataRowAlt\" bgcolor=\"#ACC6DF\">\\r\\n\\t\\t\\t\\t<td class=\"dxgv\" style=\"text-align:Left;\">2009.07</td><td class=\"dxgv\" style=\"text-align:Right;border-right-width:0px;\">404,7180</td>\\r\\n\\t\\t\\t</tr><tr id=\"grd_DXDataRow242\" class=\"dxgvDataRow\" bgcolor=\"#DCE8F1\">\\r\\n\\t\\t\\t\\t<td class=\"dxgv\" style=\"text-align:Left;\">2009.08</td><td class=\"dxgv\" style=\"text-align:Right;border-right-width:0px;\">403,2530</td>\\r\\n\\t\\t\\t</tr><tr id=\"grd_DXDataRow243\" class=\"dxgvDataRow dxgvDataRowAlt\" bgcolor=\"#ACC6DF\">\\r\\n\\t\\t\\t\\t<td class=\"dxgv\" style=\"text-align:Left;\">2009.09</td><td class=\"dxgv\" style=\"text-align:Right;border-right-width:0px;\">404,9450</td>\\r\\n\\t\\t\\t</tr><tr id=\"grd_DXDataRow244\" class=\"dxgvDataRow\" bgcolor=\"#DCE8F1\">\\r\\n\\t\\t\\t\\t<td class=\"dxgv\" style=\"text-align:Left;\">2009.10</td><td class=\"dxgv\" style=\"text-align:Right;border-right-width:0px;\">405,1290</td>\\r\\n\\t\\t\\t</tr><tr id=\"grd_DXDataRow245\" class=\"dxgvDataRow dxgvDataRowAlt\" bgcolor=\"#ACC6DF\">\\r\\n\\t\\t\\t\\t<td class=\"dxgv\" style=\"text-align:Left;\">2009.11</td><td class=\"dxgv\" style=\"text-align:Right;border-right-width:0px;\">405,5480</td>\\r\\n\\t\\t\\t</tr><tr id=\"grd_DXDataRow246\" class=\"dxgvDataRow\" bgcolor=\"#DCE8F1\">\\r\\n\\t\\t\\t\\t<td class=\"dxgv\" style=\"text-align:Left;\">2009.12</td><td class=\"dxgv\" style=\"text-align:Right;border-right-width:0px;\">404,4990</td>\\r\\n\\t\\t\\t</tr><tr id=\"grd_DXDataRow247\" class=\"dxgvDataRow dxgvDataRowAlt\" bgcolor=\"#ACC6DF\">\\r\\n\\t\\t\\t\\t<td class=\"dxgv\" style=\"text-align:Left;\">2010.01</td><td class=\"dxgv\" style=\"text-align:Right;border-right-width:0px;\">407,0490</td>\\r\\n\\t\\t\\t</tr><tr id=\"grd_DXDataRow248\" class=\"dxgvDataRow\" bgcolor=\"#DCE8F1\">\\r\\n\\t\\t\\t\\t<td class=\"dxgv\" style=\"text-align:Left;\">2010.02</td><td class=\"dxgv\" style=\"text-align:Right;border-right-width:0px;\">411,8430</td>\\r\\n\\t\\t\\t</tr><tr id=\"grd_DXDataRow249\" class=\"dxgvDataRow dxgvDataRowAlt\" bgcolor=\"#ACC6DF\">\\r\\n\\t\\t\\t\\t<td class=\"dxgv\" style=\"text-align:Left;\">2010.03</td><td class=\"dxgv\" style=\"text-align:Right;border-right-width:0px;\">415,7340</td>\\r\\n\\t\\t\\t</tr><tr id=\"grd_DXDataRow250\" class=\"dxgvDataRow\" bgcolor=\"#DCE8F1\">\\r\\n\\t\\t\\t\\t<td class=\"dxgv\" style=\"text-align:Left;\">2010.04</td><td class=\"dxgv\" style=\"text-align:Right;border-right-width:0px;\">418,9170</td>\\r\\n\\t\\t\\t</tr><tr id=\"grd_DXDataRow251\" class=\"dxgvDataRow dxgvDataRowAlt\" bgcolor=\"#ACC6DF\">\\r\\n\\t\\t\\t\\t<td class=\"dxgv\" style=\"text-align:Left;\">2010.05</td><td class=\"dxgv\" style=\"text-align:Right;border-right-width:0px;\">423,8850</td>\\r\\n\\t\\t\\t</tr><tr id=\"grd_DXDataRow252\" class=\"dxgvDataRow\" bgcolor=\"#DCE8F1\">\\r\\n\\t\\t\\t\\t<td class=\"dxgv\" style=\"text-align:Left;\">2010.06</td><td class=\"dxgv\" style=\"text-align:Right;border-right-width:0px;\">427,4890</td>\\r\\n\\t\\t\\t</tr><tr id=\"grd_DXDataRow253\" class=\"dxgvDataRow dxgvDataRowAlt\" bgcolor=\"#ACC6DF\">\\r\\n\\t\\t\\t\\t<td class=\"dxgv\" style=\"text-align:Left;\">2010.07</td><td class=\"dxgv\" style=\"text-align:Right;border-right-width:0px;\">428,1500</td>\\r\\n\\t\\t\\t</tr><tr id=\"grd_DXDataRow254\" class=\"dxgvDataRow\" bgcolor=\"#DCE8F1\">\\r\\n\\t\\t\\t\\t<td class=\"dxgv\" style=\"text-align:Left;\">2010.08</td><td class=\"dxgv\" style=\"text-align:Right;border-right-width:0px;\">431,4450</td>\\r\\n\\t\\t\\t</tr><tr id=\"grd_DXDataRow255\" class=\"dxgvDataRow dxgvDataRowAlt\" bgcolor=\"#ACC6DF\">\\r\\n\\t\\t\\t\\t<td class=\"dxgv\" style=\"text-align:Left;\">2010.09</td><td class=\"dxgv\" style=\"text-align:Right;border-right-width:0px;\">436,4230</td>\\r\\n\\t\\t\\t</tr><tr id=\"grd_DXDataRow256\" class=\"dxgvDataRow\" bgcolor=\"#DCE8F1\">\\r\\n\\t\\t\\t\\t<td class=\"dxgv\" style=\"text-align:Left;\">2010.10</td><td class=\"dxgv\" style=\"text-align:Right;border-right-width:0px;\">440,8290</td>\\r\\n\\t\\t\\t</tr><tr id=\"grd_DXDataRow257\" class=\"dxgvDataRow dxgvDataRowAlt\" bgcolor=\"#ACC6DF\">\\r\\n\\t\\t\\t\\t<td class=\"dxgv\" style=\"text-align:Left;\">2010.11</td><td class=\"dxgv\" style=\"text-align:Right;border-right-width:0px;\">447,2060</td>\\r\\n\\t\\t\\t</tr><tr id=\"grd_DXDataRow258\" class=\"dxgvDataRow\" bgcolor=\"#DCE8F1\">\\r\\n\\t\\t\\t\\t<td class=\"dxgv\" style=\"text-align:Left;\">2010.12</td><td class=\"dxgv\" style=\"text-align:Right;border-right-width:0px;\">450,3010</td>\\r\\n\\t\\t\\t</tr><tr id=\"grd_DXDataRow259\" class=\"dxgvDataRow dxgvDataRowAlt\" bgcolor=\"#ACC6DF\">\\r\\n\\t\\t\\t\\t<td class=\"dxgv\" style=\"text-align:Left;\">2011.01</td><td class=\"dxgv\" style=\"text-align:Right;border-right-width:0px;\">453,8750</td>\\r\\n\\t\\t\\t</tr><tr id=\"grd_DXDataRow260\" class=\"dxgvDataRow\" bgcolor=\"#DCE8F1\">\\r\\n\\t\\t\\t\\t<td class=\"dxgv\" style=\"text-align:Left;\">2011.02</td><td class=\"dxgv\" style=\"text-align:Right;border-right-width:0px;\">458,3970</td>\\r\\n\\t\\t\\t</tr><tr id=\"grd_DXDataRow261\" class=\"dxgvDataRow dxgvDataRowAlt\" bgcolor=\"#ACC6DF\">\\r\\n\\t\\t\\t\\t<td class=\"dxgv\" style=\"text-align:Left;\">2011.03</td><td class=\"dxgv\" style=\"text-align:Right;border-right-width:0px;\">461,2490</td>\\r\\n\\t\\t\\t</tr><tr id=\"grd_DXDataRow262\" class=\"dxgvDataRow\" bgcolor=\"#DCE8F1\">\\r\\n\\t\\t\\t\\t<td class=\"dxgv\" style=\"text-align:Left;\">2011.04</td><td class=\"dxgv\" style=\"text-align:Right;border-right-width:0px;\">463,3110</td>\\r\\n\\t\\t\\t</tr><tr id=\"grd_DXDataRow263\" class=\"dxgvDataRow dxgvDataRowAlt\" bgcolor=\"#ACC6DF\">\\r\\n\\t\\t\\t\\t<td class=\"dxgv\" style=\"text-align:Left;\">2011.05</td><td class=\"dxgv\" style=\"text-align:Right;border-right-width:0px;\">465,3110</td>\\r\\n\\t\\t\\t</tr><tr id=\"grd_DXDataRow264\" class=\"dxgvDataRow\" bgcolor=\"#DCE8F1\">\\r\\n\\t\\t\\t\\t<td class=\"dxgv\" style=\"text-align:Left;\">2011.06</td><td class=\"dxgv\" style=\"text-align:Right;border-right-width:0px;\">464,4630</td>\\r\\n\\t\\t\\t</tr><tr id=\"grd_DXDataRow265\" class=\"dxgvDataRow dxgvDataRowAlt\" bgcolor=\"#ACC6DF\">\\r\\n\\t\\t\\t\\t<td class=\"dxgv\" style=\"text-align:Left;\">2011.07</td><td class=\"dxgv\" style=\"text-align:Right;border-right-width:0px;\">463,9270</td>\\r\\n\\t\\t\\t</tr><tr id=\"grd_DXDataRow266\" class=\"dxgvDataRow\" bgcolor=\"#DCE8F1\">\\r\\n\\t\\t\\t\\t<td class=\"dxgv\" style=\"text-align:Left;\">2011.08</td><td class=\"dxgv\" style=\"text-align:Right;border-right-width:0px;\">465,9680</td>\\r\\n\\t\\t\\t</tr><tr id=\"grd_DXDataRow267\" class=\"dxgvDataRow dxgvDataRowAlt\" bgcolor=\"#ACC6DF\">\\r\\n\\t\\t\\t\\t<td class=\"dxgv\" style=\"text-align:Left;\">2011.09</td><td class=\"dxgv\" style=\"text-align:Right;border-right-width:0px;\">468,9750</td>\\r\\n\\t\\t\\t</tr><tr id=\"grd_DXDataRow268\" class=\"dxgvDataRow\" bgcolor=\"#DCE8F1\">\\r\\n\\t\\t\\t\\t<td class=\"dxgv\" style=\"text-align:Left;\">2011.10</td><td class=\"dxgv\" style=\"text-align:Right;border-right-width:0px;\">471,4660</td>\\r\\n\\t\\t\\t</tr><tr id=\"grd_DXDataRow269\" class=\"dxgvDataRow dxgvDataRowAlt\" bgcolor=\"#ACC6DF\">\\r\\n\\t\\t\\t\\t<td class=\"dxgv\" style=\"text-align:Left;\">2011.11</td><td class=\"dxgv\" style=\"text-align:Right;border-right-width:0px;\">473,8080</td>\\r\\n\\t\\t\\t</tr><tr id=\"grd_DXDataRow270\" class=\"dxgvDataRow\" bgcolor=\"#DCE8F1\">\\r\\n\\t\\t\\t\\t<td class=\"dxgv\" style=\"text-align:Left;\">2011.12</td><td class=\"dxgv\" style=\"text-align:Right;border-right-width:0px;\">473,2520</td>\\r\\n\\t\\t\\t</tr><tr id=\"grd_DXDataRow271\" class=\"dxgvDataRow dxgvDataRowAlt\" bgcolor=\"#ACC6DF\">\\r\\n\\t\\t\\t\\t<td class=\"dxgv\" style=\"text-align:Left;\">2012.01</td><td class=\"dxgv\" style=\"text-align:Right;border-right-width:0px;\">474,4290</td>\\r\\n\\t\\t\\t</tr><tr id=\"grd_DXDataRow272\" class=\"dxgvDataRow\" bgcolor=\"#DCE8F1\">\\r\\n\\t\\t\\t\\t<td class=\"dxgv\" style=\"text-align:Left;\">2012.02</td><td class=\"dxgv\" style=\"text-align:Right;border-right-width:0px;\">474,1380</td>\\r\\n\\t\\t\\t</tr><tr id=\"grd_DXDataRow273\" class=\"dxgvDataRow dxgvDataRowAlt\" bgcolor=\"#ACC6DF\">\\r\\n\\t\\t\\t\\t<td class=\"dxgv\" style=\"text-align:Left;\">2012.03</td><td class=\"dxgv\" style=\"text-align:Right;border-right-width:0px;\">476,1660</td>\\r\\n\\t\\t\\t</tr><tr id=\"grd_DXDataRow274\" class=\"dxgvDataRow\" bgcolor=\"#DCE8F1\">\\r\\n\\t\\t\\t\\t<td class=\"dxgv\" style=\"text-align:Left;\">2012.04</td><td class=\"dxgv\" style=\"text-align:Right;border-right-width:0px;\">480,2290</td>\\r\\n\\t\\t\\t</tr><tr id=\"grd_DXDataRow275\" class=\"dxgvDataRow dxgvDataRowAlt\" bgcolor=\"#ACC6DF\">\\r\\n\\t\\t\\t\\t<td class=\"dxgv\" style=\"text-align:Left;\">2012.05</td><td class=\"dxgv\" style=\"text-align:Right;border-right-width:0px;\">485,1400</td>\\r\\n\\t\\t\\t</tr><tr id=\"grd_DXDataRow276\" class=\"dxgvDataRow\" bgcolor=\"#DCE8F1\">\\r\\n\\t\\t\\t\\t<td class=\"dxgv\" style=\"text-align:Left;\">2012.06</td><td class=\"dxgv\" style=\"text-align:Right;border-right-width:0px;\">488,3420</td>\\r\\n\\t\\t\\t</tr><tr id=\"grd_DXDataRow277\" class=\"dxgvDataRow dxgvDataRowAlt\" bgcolor=\"#ACC6DF\">\\r\\n\\t\\t\\t\\t<td class=\"dxgv\" style=\"text-align:Left;\">2012.07</td><td class=\"dxgv\" style=\"text-align:Right;border-right-width:0px;\">494,8910</td>\\r\\n\\t\\t\\t</tr><tr id=\"grd_DXDataRow278\" class=\"dxgvDataRow\" bgcolor=\"#DCE8F1\">\\r\\n\\t\\t\\t\\t<td class=\"dxgv\" style=\"text-align:Left;\">2012.08</td><td class=\"dxgv\" style=\"text-align:Right;border-right-width:0px;\">501,9570</td>\\r\\n\\t\\t\\t</tr><tr id=\"grd_DXDataRow279\" class=\"dxgvDataRow dxgvDataRowAlt\" bgcolor=\"#ACC6DF\">\\r\\n\\t\\t\\t\\t<td class=\"dxgv\" style=\"text-align:Left;\">2012.09</td><td class=\"dxgv\" style=\"text-align:Right;border-right-width:0px;\">506,8040</td>\\r\\n\\t\\t\\t</tr><tr id=\"grd_DXDataRow280\" class=\"dxgvDataRow\" bgcolor=\"#DCE8F1\">\\r\\n\\t\\t\\t\\t<td class=\"dxgv\" style=\"text-align:Left;\">2012.10</td><td class=\"dxgv\" style=\"text-align:Right;border-right-width:0px;\">506,9260</td>\\r\\n\\t\\t\\t</tr><tr id=\"grd_DXDataRow281\" class=\"dxgvDataRow dxgvDataRowAlt\" bgcolor=\"#ACC6DF\">\\r\\n\\t\\t\\t\\t<td class=\"dxgv\" style=\"text-align:Left;\">2012.11</td><td class=\"dxgv\" style=\"text-align:Right;border-right-width:0px;\">506,7950</td>\\r\\n\\t\\t\\t</tr><tr id=\"grd_DXDataRow282\" class=\"dxgvDataRow\" bgcolor=\"#DCE8F1\">\\r\\n\\t\\t\\t\\t<td class=\"dxgv\" style=\"text-align:Left;\">2012.12</td><td class=\"dxgv\" style=\"text-align:Right;border-right-width:0px;\">510,2520</td>\\r\\n\\t\\t\\t</tr><tr id=\"grd_DXDataRow283\" class=\"dxgvDataRow dxgvDataRowAlt\" bgcolor=\"#ACC6DF\">\\r\\n\\t\\t\\t\\t<td class=\"dxgv\" style=\"text-align:Left;\">2013.01</td><td class=\"dxgv\" style=\"text-align:Right;border-right-width:0px;\">511,9770</td>\\r\\n\\t\\t\\t</tr><tr id=\"grd_DXDataRow284\" class=\"dxgvDataRow\" bgcolor=\"#DCE8F1\">\\r\\n\\t\\t\\t\\t<td class=\"dxgv\" style=\"text-align:Left;\">2013.02</td><td class=\"dxgv\" style=\"text-align:Right;border-right-width:0px;\">513,4670</td>\\r\\n\\t\\t\\t</tr><tr id=\"grd_DXDataRow285\" class=\"dxgvDataRow dxgvDataRowAlt\" bgcolor=\"#ACC6DF\">\\r\\n\\t\\t\\t\\t<td class=\"dxgv\" style=\"text-align:Left;\">2013.03</td><td class=\"dxgv\" style=\"text-align:Right;border-right-width:0px;\">514,5260</td>\\r\\n\\t\\t\\t</tr><tr id=\"grd_DXDataRow286\" class=\"dxgvDataRow\" bgcolor=\"#DCE8F1\">\\r\\n\\t\\t\\t\\t<td class=\"dxgv\" style=\"text-align:Left;\">2013.04</td><td class=\"dxgv\" style=\"text-align:Right;border-right-width:0px;\">515,2760</td>\\r\\n\\t\\t\\t</tr><tr id=\"grd_DXDataRow287\" class=\"dxgvDataRow dxgvDataRowAlt\" bgcolor=\"#ACC6DF\">\\r\\n\\t\\t\\t\\t<td class=\"dxgv\" style=\"text-align:Left;\">2013.05</td><td class=\"dxgv\" style=\"text-align:Right;border-right-width:0px;\">515,2990</td>\\r\\n\\t\\t\\t</tr><tr id=\"grd_DXDataRow288\" class=\"dxgvDataRow\" bgcolor=\"#DCE8F1\">\\r\\n\\t\\t\\t\\t<td class=\"dxgv\" style=\"text-align:Left;\">2013.06</td><td class=\"dxgv\" style=\"text-align:Right;border-right-width:0px;\">519,1530</td>\\r\\n\\t\\t\\t</tr><tr id=\"grd_DXDataRow289\" class=\"dxgvDataRow dxgvDataRowAlt\" bgcolor=\"#ACC6DF\">\\r\\n\\t\\t\\t\\t<td class=\"dxgv\" style=\"text-align:Left;\">2013.07</td><td class=\"dxgv\" style=\"text-align:Right;border-right-width:0px;\">520,5080</td>\\r\\n\\t\\t\\t</tr><tr id=\"grd_DXDataRow290\" class=\"dxgvDataRow\" bgcolor=\"#DCE8F1\">\\r\\n\\t\\t\\t\\t<td class=\"dxgv\" style=\"text-align:Left;\">2013.08</td><td class=\"dxgv\" style=\"text-align:Right;border-right-width:0px;\">521,2700</td>\\r\\n\\t\\t\\t</tr><tr id=\"grd_DXDataRow291\" class=\"dxgvDataRow dxgvDataRowAlt\" bgcolor=\"#ACC6DF\">\\r\\n\\t\\t\\t\\t<td class=\"dxgv\" style=\"text-align:Left;\">2013.09</td><td class=\"dxgv\" style=\"text-align:Right;border-right-width:0px;\">529,0850</td>\\r\\n\\t\\t\\t</tr><tr id=\"grd_DXDataRow292\" class=\"dxgvDataRow\" bgcolor=\"#DCE8F1\">\\r\\n\\t\\t\\t\\t<td class=\"dxgv\" style=\"text-align:Left;\">2013.10</td><td class=\"dxgv\" style=\"text-align:Right;border-right-width:0px;\">533,6210</td>\\r\\n\\t\\t\\t</tr><tr id=\"grd_DXDataRow293\" class=\"dxgvDataRow dxgvDataRowAlt\" bgcolor=\"#ACC6DF\">\\r\\n\\t\\t\\t\\t<td class=\"dxgv\" style=\"text-align:Left;\">2013.11</td><td class=\"dxgv\" style=\"text-align:Right;border-right-width:0px;\">535,1680</td>\\r\\n\\t\\t\\t</tr><tr id=\"grd_DXDataRow294\" class=\"dxgvDataRow\" bgcolor=\"#DCE8F1\">\\r\\n\\t\\t\\t\\t<td class=\"dxgv\" style=\"text-align:Left;\">2013.12</td><td class=\"dxgv\" style=\"text-align:Right;border-right-width:0px;\">538,3700</td>\\r\\n\\t\\t\\t</tr><tr id=\"grd_DXDataRow295\" class=\"dxgvDataRow dxgvDataRowAlt\" bgcolor=\"#ACC6DF\">\\r\\n\\t\\t\\t\\t<td class=\"dxgv\" style=\"text-align:Left;\">2014.01</td><td class=\"dxgv\" style=\"text-align:Right;border-right-width:0px;\">540,9590</td>\\r\\n\\t\\t\\t</tr><tr id=\"grd_DXDataRow296\" class=\"dxgvDataRow\" bgcolor=\"#DCE8F1\">\\r\\n\\t\\t\\t\\t<td class=\"dxgv\" style=\"text-align:Left;\">2014.02</td><td class=\"dxgv\" style=\"text-align:Right;border-right-width:0px;\">543,0380</td>\\r\\n\\t\\t\\t</tr><tr id=\"grd_DXDataRow297\" class=\"dxgvDataRow dxgvDataRowAlt\" bgcolor=\"#ACC6DF\">\\r\\n\\t\\t\\t\\t<td class=\"dxgv\" style=\"text-align:Left;\">2014.03</td><td class=\"dxgv\" style=\"text-align:Right;border-right-width:0px;\">552,0870</td>\\r\\n\\t\\t\\t</tr><tr id=\"grd_DXDataRow298\" class=\"dxgvDataRow\" bgcolor=\"#DCE8F1\">\\r\\n\\t\\t\\t\\t<td class=\"dxgv\" style=\"text-align:Left;\">2014.04</td><td class=\"dxgv\" style=\"text-align:Right;border-right-width:0px;\">556,4200</td>\\r\\n\\t\\t\\t</tr><tr id=\"grd_DXDataRow299\" class=\"dxgvDataRow dxgvDataRowAlt\" bgcolor=\"#ACC6DF\">\\r\\n\\t\\t\\t\\t<td class=\"dxgv\" style=\"text-align:Left;\">2014.05</td><td class=\"dxgv\" style=\"text-align:Right;border-right-width:0px;\">555,6790</td>\\r\\n\\t\\t\\t</tr><tr id=\"grd_DXDataRow300\" class=\"dxgvDataRow\" bgcolor=\"#DCE8F1\">\\r\\n\\t\\t\\t\\t<td class=\"dxgv\" style=\"text-align:Left;\">2014.06</td><td class=\"dxgv\" style=\"text-align:Right;border-right-width:0px;\">551,5540</td>\\r\\n\\t\\t\\t</tr><tr id=\"grd_DXDataRow301\" class=\"dxgvDataRow dxgvDataRowAlt\" bgcolor=\"#ACC6DF\">\\r\\n\\t\\t\\t\\t<td class=\"dxgv\" style=\"text-align:Left;\">2014.07</td><td class=\"dxgv\" style=\"text-align:Right;border-right-width:0px;\">548,2020</td>\\r\\n\\t\\t\\t</tr><tr id=\"grd_DXDataRow302\" class=\"dxgvDataRow\" bgcolor=\"#DCE8F1\">\\r\\n\\t\\t\\t\\t<td class=\"dxgv\" style=\"text-align:Left;\">2014.08</td><td class=\"dxgv\" style=\"text-align:Right;border-right-width:0px;\">546,7450</td>\\r\\n\\t\\t\\t</tr><tr id=\"grd_DXDataRow303\" class=\"dxgvDataRow dxgvDataRowAlt\" bgcolor=\"#ACC6DF\">\\r\\n\\t\\t\\t\\t<td class=\"dxgv\" style=\"text-align:Left;\">2014.09</td><td class=\"dxgv\" style=\"text-align:Right;border-right-width:0px;\">547,8390</td>\\r\\n\\t\\t\\t</tr><tr id=\"grd_DXDataRow304\" class=\"dxgvDataRow\" bgcolor=\"#DCE8F1\">\\r\\n\\t\\t\\t\\t<td class=\"dxgv\" style=\"text-align:Left;\">2014.10</td><td class=\"dxgv\" style=\"text-align:Right;border-right-width:0px;\">549,3960</td>\\r\\n\\t\\t\\t</tr><tr id=\"grd_DXDataRow305\" class=\"dxgvDataRow dxgvDataRowAlt\" bgcolor=\"#ACC6DF\">\\r\\n\\t\\t\\t\\t<td class=\"dxgv\" style=\"text-align:Left;\">2014.11</td><td class=\"dxgv\" style=\"text-align:Right;border-right-width:0px;\">554,7690</td>\\r\\n\\t\\t\\t</tr><tr id=\"grd_DXDataRow306\" class=\"dxgvDataRow\" bgcolor=\"#DCE8F1\">\\r\\n\\t\\t\\t\\t<td class=\"dxgv\" style=\"text-align:Left;\">2014.12</td><td class=\"dxgv\" style=\"text-align:Right;border-right-width:0px;\">558,2130</td>\\r\\n\\t\\t\\t</tr><tr id=\"grd_DXDataRow307\" class=\"dxgvDataRow dxgvDataRowAlt\" bgcolor=\"#ACC6DF\">\\r\\n\\t\\t\\t\\t<td class=\"dxgv\" style=\"text-align:Left;\">2015.01</td><td class=\"dxgv\" style=\"text-align:Right;border-right-width:0px;\">562,4820</td>\\r\\n\\t\\t\\t</tr><tr id=\"grd_DXDataRow308\" class=\"dxgvDataRow\" bgcolor=\"#DCE8F1\">\\r\\n\\t\\t\\t\\t<td class=\"dxgv\" style=\"text-align:Left;\">2015.02</td><td class=\"dxgv\" style=\"text-align:Right;border-right-width:0px;\">564,0040</td>\\r\\n\\t\\t\\t</tr><tr id=\"grd_DXDataRow309\" class=\"dxgvDataRow dxgvDataRowAlt\" bgcolor=\"#ACC6DF\">\\r\\n\\t\\t\\t\\t<td class=\"dxgv\" style=\"text-align:Left;\">2015.03</td><td class=\"dxgv\" style=\"text-align:Right;border-right-width:0px;\">569,5360</td>\\r\\n\\t\\t\\t</tr><tr id=\"grd_DXDataRow310\" class=\"dxgvDataRow\" bgcolor=\"#DCE8F1\">\\r\\n\\t\\t\\t\\t<td class=\"dxgv\" style=\"text-align:Left;\">2015.04</td><td class=\"dxgv\" style=\"text-align:Right;border-right-width:0px;\">576,1750</td>\\r\\n\\t\\t\\t</tr><tr id=\"grd_DXDataRow311\" class=\"dxgvDataRow dxgvDataRowAlt\" bgcolor=\"#ACC6DF\">\\r\\n\\t\\t\\t\\t<td class=\"dxgv\" style=\"text-align:Left;\">2015.05</td><td class=\"dxgv\" style=\"text-align:Right;border-right-width:0px;\">578,5160</td>\\r\\n\\t\\t\\t</tr><tr id=\"grd_DXDataRow312\" class=\"dxgvDataRow\" bgcolor=\"#DCE8F1\">\\r\\n\\t\\t\\t\\t<td class=\"dxgv\" style=\"text-align:Left;\">2015.06</td><td class=\"dxgv\" style=\"text-align:Right;border-right-width:0px;\">582,4010</td>\\r\\n\\t\\t\\t</tr><tr id=\"grd_DXDataRow313\" class=\"dxgvDataRow dxgvDataRowAlt\" bgcolor=\"#ACC6DF\">\\r\\n\\t\\t\\t\\t<td class=\"dxgv\" style=\"text-align:Left;\">2015.07</td><td class=\"dxgv\" style=\"text-align:Right;border-right-width:0px;\">586,4260</td>\\r\\n\\t\\t\\t</tr><tr id=\"grd_DXDataRow314\" class=\"dxgvDataRow\" bgcolor=\"#DCE8F1\">\\r\\n\\t\\t\\t\\t<td class=\"dxgv\" style=\"text-align:Left;\">2015.08</td><td class=\"dxgv\" style=\"text-align:Right;border-right-width:0px;\">588,0420</td>\\r\\n\\t\\t\\t</tr><tr id=\"grd_DXDataRow315\" class=\"dxgvDataRow dxgvDataRowAlt\" bgcolor=\"#ACC6DF\">\\r\\n\\t\\t\\t\\t<td class=\"dxgv\" style=\"text-align:Left;\">2015.09</td><td class=\"dxgv\" style=\"text-align:Right;border-right-width:0px;\">593,6060</td>\\r\\n\\t\\t\\t</tr><tr id=\"grd_DXDataRow316\" class=\"dxgvDataRow\" bgcolor=\"#DCE8F1\">\\r\\n\\t\\t\\t\\t<td class=\"dxgv\" style=\"text-align:Left;\">2015.10</td><td class=\"dxgv\" style=\"text-align:Right;border-right-width:0px;\">604,8320</td>\\r\\n\\t\\t\\t</tr><tr id=\"grd_DXDataRow317\" class=\"dxgvDataRow dxgvDataRowAlt\" bgcolor=\"#ACC6DF\">\\r\\n\\t\\t\\t\\t<td class=\"dxgv\" style=\"text-align:Left;\">2015.11</td><td class=\"dxgv\" style=\"text-align:Right;border-right-width:0px;\">614,0510</td>\\r\\n\\t\\t\\t</tr><tr id=\"grd_DXDataRow318\" class=\"dxgvDataRow\" bgcolor=\"#DCE8F1\">\\r\\n\\t\\t\\t\\t<td class=\"dxgv\" style=\"text-align:Left;\">2015.12</td><td class=\"dxgv\" style=\"text-align:Right;border-right-width:0px;\">617,0440</td>\\r\\n\\t\\t\\t</tr><tr id=\"grd_DXDataRow319\" class=\"dxgvDataRow dxgvDataRowAlt\" bgcolor=\"#ACC6DF\">\\r\\n\\t\\t\\t\\t<td class=\"dxgv\" style=\"text-align:Left;\">2016.01</td><td class=\"dxgv\" style=\"text-align:Right;border-right-width:0px;\">624,0600</td>\\r\\n\\t\\t\\t</tr><tr id=\"grd_DXDataRow320\" class=\"dxgvDataRow\" bgcolor=\"#DCE8F1\">\\r\\n\\t\\t\\t\\t<td class=\"dxgv\" style=\"text-align:Left;\">2016.02</td><td class=\"dxgv\" style=\"text-align:Right;border-right-width:0px;\">632,1140</td>\\r\\n\\t\\t\\t</tr><tr id=\"grd_DXDataRow321\" class=\"dxgvDataRow dxgvDataRowAlt\" bgcolor=\"#ACC6DF\">\\r\\n\\t\\t\\t\\t<td class=\"dxgv\" style=\"text-align:Left;\">2016.03</td><td class=\"dxgv\" style=\"text-align:Right;border-right-width:0px;\">635,3490</td>\\r\\n\\t\\t\\t</tr><tr id=\"grd_DXDataRow322\" class=\"dxgvDataRow\" bgcolor=\"#DCE8F1\">\\r\\n\\t\\t\\t\\t<td class=\"dxgv\" style=\"text-align:Left;\">2016.04</td><td class=\"dxgv\" style=\"text-align:Right;border-right-width:0px;\">637,4340</td>\\r\\n\\t\\t\\t</tr><tr id=\"grd_DXDataRow323\" class=\"dxgvDataRow dxgvDataRowAlt\" bgcolor=\"#ACC6DF\">\\r\\n\\t\\t\\t\\t<td class=\"dxgv\" style=\"text-align:Left;\">2016.05</td><td class=\"dxgv\" style=\"text-align:Right;border-right-width:0px;\">642,6510</td>\\r\\n\\t\\t\\t</tr><tr id=\"grd_DXDataRow324\" class=\"dxgvDataRow\" bgcolor=\"#DCE8F1\">\\r\\n\\t\\t\\t\\t<td class=\"dxgv\" style=\"text-align:Left;\">2016.06</td><td class=\"dxgv\" style=\"text-align:Right;border-right-width:0px;\">653,4960</td>\\r\\n\\t\\t\\t</tr><tr id=\"grd_DXDataRow325\" class=\"dxgvDataRow dxgvDataRowAlt\" bgcolor=\"#ACC6DF\">\\r\\n\\t\\t\\t\\t<td class=\"dxgv\" style=\"text-align:Left;\">2016.07</td><td class=\"dxgv\" style=\"text-align:Right;border-right-width:0px;\">654,6410</td>\\r\\n\\t\\t\\t</tr><tr id=\"grd_DXDataRow326\" class=\"dxgvDataRow\" bgcolor=\"#DCE8F1\">\\r\\n\\t\\t\\t\\t<td class=\"dxgv\" style=\"text-align:Left;\">2016.08</td><td class=\"dxgv\" style=\"text-align:Right;border-right-width:0px;\">655,6020</td>\\r\\n\\t\\t\\t</tr><tr id=\"grd_DXDataRow327\" class=\"dxgvDataRow dxgvDataRowAlt\" bgcolor=\"#ACC6DF\">\\r\\n\\t\\t\\t\\t<td class=\"dxgv\" style=\"text-align:Left;\">2016.09</td><td class=\"dxgv\" style=\"text-align:Right;border-right-width:0px;\">656,8940</td>\\r\\n\\t\\t\\t</tr><tr id=\"grd_DXDataRow328\" class=\"dxgvDataRow\" bgcolor=\"#DCE8F1\">\\r\\n\\t\\t\\t\\t<td class=\"dxgv\" style=\"text-align:Left;\">2016.10</td><td class=\"dxgv\" style=\"text-align:Right;border-right-width:0px;\">657,9270</td>\\r\\n\\t\\t\\t</tr><tr id=\"grd_DXDataRow329\" class=\"dxgvDataRow dxgvDataRowAlt\" bgcolor=\"#ACC6DF\">\\r\\n\\t\\t\\t\\t<td class=\"dxgv\" style=\"text-align:Left;\">2016.11</td><td class=\"dxgv\" style=\"text-align:Right;border-right-width:0px;\">657,7520</td>\\r\\n\\t\\t\\t</tr><tr id=\"grd_DXDataRow330\" class=\"dxgvDataRow\" bgcolor=\"#DCE8F1\">\\r\\n\\t\\t\\t\\t<td class=\"dxgv\" style=\"text-align:Left;\">2016.12</td><td class=\"dxgv\" style=\"text-align:Right;border-right-width:0px;\">661,3040</td>\\r\\n\\t\\t\\t</tr><tr id=\"grd_DXDataRow331\" class=\"dxgvDataRow dxgvDataRowAlt\" bgcolor=\"#ACC6DF\">\\r\\n\\t\\t\\t\\t<td class=\"dxgv\" style=\"text-align:Left;\">2017.01</td><td class=\"dxgv\" style=\"text-align:Right;border-right-width:0px;\">665,5420</td>\\r\\n\\t\\t\\t</tr><tr id=\"grd_DXDataRow332\" class=\"dxgvDataRow\" bgcolor=\"#DCE8F1\">\\r\\n\\t\\t\\t\\t<td class=\"dxgv\" style=\"text-align:Left;border-bottom-width:0px;\">2017.02</td><td class=\"dxgv\" style=\"text-align:Right;border-right-width:0px;border-bottom-width:0px;\">666,0990</td>\\r\\n\\t\\t\\t</tr>\\r\\n\\t\\t</table><img id=\"grd_IADD\" src=\"/WebResource.axd?d=Er52kN7Ju0uNxV0JcrTQQNFmdPOrRv_IIU2quDhooEtylETiMtwPXry-hNiAhCva1yyyvrgAyyX8M7NhOIeurDTPOoXyhsssNxZPCcqEKhQ9Cj9NeWXhwYmum8D-gNk59XoSe4Mzf30rZvhexV5JInMQWs8z_gzTiM3HBZinPNnTC3StSt5XB_BZiIO6sU7A71kySA2&amp;t=633976415089673292\" alt=\"|\" border=\"0\" style=\"position:absolute;visibility:hidden;top:-100px;\" /><img id=\"grd_IADU\" src=\"/WebResource.axd?d=Na1UzGHL5pxs5fgVc44R4jdJqdY9oFHF4eerVcDFj0f1SbrU-jHq0w9oCHnoLokoRm9xT_NySXOvJ8SmUOFSTZgogWeGiPkK_l6gqkeK3A3hCaMtx-WQDFcKV6PGXRRU_5Egl5iB-KroOSBkrTBfEZLVhjXSMQeO-nn22vKx8zQZ25WbKAoMhDuRNPEaogKBHWoV3w2&amp;t=633976415089673292\" alt=\"|\" border=\"0\" style=\"position:absolute;visibility:hidden;top:-100px;\" /><img id=\"grd_IDHF\" src=\"/WebResource.axd?d=f6_aoKRqMaLSDCGvG0JOZwJl-yo1MlD3Oz0DJcZVglNDqHy1YzchkdqZquT38wZbKIdZyDs2fPJAc1NuPuu5OcQssYpJ7tjfgOp1w3dkRjCuX4RhIaLHkad_Ms0u5AfuMPKxbllzOXqUIyP7SgFLL99FXMHW4qBrDQPHpBFoQaWACpR2rhCzjdGeLmcoB_U-YAqAGrXcGB5ZvYpwSdR9GQ-UgHc1&amp;t=633976415089673292\" alt=\"Hide\" border=\"0\" style=\"position:absolute;visibility:hidden;top:-100px;\" /><table id=\"grd_LP\" class=\"dxgvLoadingPanel\" cellspacing=\"0\" cellpadding=\"0\" border=\"0\" style=\"left:0px;top:0px;z-index:30000;display:none;\">\\r\\n\\t\\t\\t<tr>\\r\\n\\t\\t\\t\\t<td class=\"dx\"><img src=\"/WebResource.axd?d=ekQAdHRm1Ju39P8Me4b-d4JhkIxyHkpxkCgGVQ1PzarX_N-TREENLYfpU3dWu4YPm7B3pp3LaQPasEJZdSnevzipHwUIbNz1MPbis9bhWrlhnH1FErbF4RtGllgBEMC5pJIrIccNPM0gGc-Afb3-x-tVkNhChUr1osPmbXQRebe3w_Z1xI6okHbYWgTAlipr8Wg2kQ2&amp;t=633976415089673292\" alt=\"\" align=\"middle\" border=\"0\" /></td><td class=\"dx\" style=\"padding-left:0px;\">Loading&hellip;</td>\\r\\n\\t\\t\\t</tr>\\r\\n\\t\\t</table><div id=\"grd_LD\" class=\"dxgvLoadingDiv\" style=\"display:none;z-index:29999;position:absolute;\">\\r\\n\\r\\n\\t\\t</div><input type=\"hidden\" name=\"grd$DXSelInput\" id=\"grd_DXSelInput\" /><input type=\"hidden\" name=\"grd$DXFocusedRowInput\" id=\"grd_DXFocusedRowInput\" /><table id=\"grd_DXStyleTable\" border=\"0\" style=\"display:none;\">\\r\\n\\t\\t\\t<tr>\\r\\n\\t\\t\\t\\t<td></td>\\r\\n\\t\\t\\t</tr><tr class=\"dxgvEditingErrorRow\">\\r\\n\\t\\t\\t\\t<td class=\"dxgv\" colspan=\"2\" style=\"border-right-width:0px;\"></td>\\r\\n\\t\\t\\t</tr><tr class=\"dxgvSelectedRow\" bgcolor=\"#DCE8F1\">\\r\\n\\t\\t\\t\\t<td></td>\\r\\n\\t\\t\\t</tr><tr class=\"dxgvFocusedRow\" bgcolor=\"#91AAB1\">\\r\\n\\t\\t\\t\\t<td><font color=\"Black\"></font></td>\\r\\n\\t\\t\\t</tr><tr class=\"dxgvFocusedGroupRow\">\\r\\n\\t\\t\\t\\t<td></td>\\r\\n\\t\\t\\t</tr><tr class=\"dxgvDataRow\" bgcolor=\"#DCE8F1\">\\r\\n\\t\\t\\t\\t<td></td>\\r\\n\\t\\t\\t</tr><tr class=\"dxgvDataRow dxgvDataRowAlt\" bgcolor=\"#ACC6DF\">\\r\\n\\t\\t\\t\\t<td></td>\\r\\n\\t\\t\\t</tr><tr class=\"dxgvDataRow\" bgcolor=\"#DCE8F1\">\\r\\n\\t\\t\\t\\t<td></td>\\r\\n\\t\\t\\t</tr><tr class=\"dxgvDataRow dxgvDataRowAlt\" bgcolor=\"#ACC6DF\">\\r\\n\\t\\t\\t\\t<td></td>\\r\\n\\t\\t\\t</tr><tr class=\"dxgvDataRow\" bgcolor=\"#DCE8F1\">\\r\\n\\t\\t\\t\\t<td></td>\\r\\n\\t\\t\\t</tr><tr class=\"dxgvDataRow dxgvDataRowAlt\" bgcolor=\"#ACC6DF\">\\r\\n\\t\\t\\t\\t<td></td>\\r\\n\\t\\t\\t</tr><tr class=\"dxgvDataRow\" bgcolor=\"#DCE8F1\">\\r\\n\\t\\t\\t\\t<td></td>\\r\\n\\t\\t\\t</tr><tr class=\"dxgvDataRow dxgvDataRowAlt\" bgcolor=\"#ACC6DF\">\\r\\n\\t\\t\\t\\t<td></td>\\r\\n\\t\\t\\t</tr><tr class=\"dxgvDataRow\" bgcolor=\"#DCE8F1\">\\r\\n\\t\\t\\t\\t<td></td>\\r\\n\\t\\t\\t</tr><tr class=\"dxgvDataRow dxgvDataRowAlt\" bgcolor=\"#ACC6DF\">\\r\\n\\t\\t\\t\\t<td></td>\\r\\n\\t\\t\\t</tr><tr class=\"dxgvDataRow\" bgcolor=\"#DCE8F1\">\\r\\n\\t\\t\\t\\t<td></td>\\r\\n\\t\\t\\t</tr><tr class=\"dxgvDataRow dxgvDataRowAlt\" bgcolor=\"#ACC6DF\">\\r\\n\\t\\t\\t\\t<td></td>\\r\\n\\t\\t\\t</tr><tr class=\"dxgvDataRow\" bgcolor=\"#DCE8F1\">\\r\\n\\t\\t\\t\\t<td></td>\\r\\n\\t\\t\\t</tr><tr class=\"dxgvDataRow dxgvDataRowAlt\" bgcolor=\"#ACC6DF\">\\r\\n\\t\\t\\t\\t<td></td>\\r\\n\\t\\t\\t</tr><tr class=\"dxgvDataRow\" bgcolor=\"#DCE8F1\">\\r\\n\\t\\t\\t\\t<td></td>\\r\\n\\t\\t\\t</tr><tr class=\"dxgvDataRow dxgvDataRowAlt\" bgcolor=\"#ACC6DF\">\\r\\n\\t\\t\\t\\t<td></td>\\r\\n\\t\\t\\t</tr><tr class=\"dxgvDataRow\" bgcolor=\"#DCE8F1\">\\r\\n\\t\\t\\t\\t<td></td>\\r\\n\\t\\t\\t</tr><tr class=\"dxgvDataRow dxgvDataRowAlt\" bgcolor=\"#ACC6DF\">\\r\\n\\t\\t\\t\\t<td></td>\\r\\n\\t\\t\\t</tr><tr class=\"dxgvDataRow\" bgcolor=\"#DCE8F1\">\\r\\n\\t\\t\\t\\t<td></td>\\r\\n\\t\\t\\t</tr><tr class=\"dxgvDataRow dxgvDataRowAlt\" bgcolor=\"#ACC6DF\">\\r\\n\\t\\t\\t\\t<td></td>\\r\\n\\t\\t\\t</tr><tr class=\"dxgvDataRow\" bgcolor=\"#DCE8F1\">\\r\\n\\t\\t\\t\\t<td></td>\\r\\n\\t\\t\\t</tr><tr class=\"dxgvDataRow dxgvDataRowAlt\" bgcolor=\"#ACC6DF\">\\r\\n\\t\\t\\t\\t<td></td>\\r\\n\\t\\t\\t</tr><tr class=\"dxgvDataRow\" bgcolor=\"#DCE8F1\">\\r\\n\\t\\t\\t\\t<td></td>\\r\\n\\t\\t\\t</tr><tr class=\"dxgvDataRow dxgvDataRowAlt\" bgcolor=\"#ACC6DF\">\\r\\n\\t\\t\\t\\t<td></td>\\r\\n\\t\\t\\t</tr><tr class=\"dxgvDataRow\" bgcolor=\"#DCE8F1\">\\r\\n\\t\\t\\t\\t<td></td>\\r\\n\\t\\t\\t</tr><tr class=\"dxgvDataRow dxgvDataRowAlt\" bgcolor=\"#ACC6DF\">\\r\\n\\t\\t\\t\\t<td></td>\\r\\n\\t\\t\\t</tr><tr class=\"dxgvDataRow\" bgcolor=\"#DCE8F1\">\\r\\n\\t\\t\\t\\t<td></td>\\r\\n\\t\\t\\t</tr><tr class=\"dxgvDataRow dxgvDataRowAlt\" bgcolor=\"#ACC6DF\">\\r\\n\\t\\t\\t\\t<td></td>\\r\\n\\t\\t\\t</tr><tr class=\"dxgvDataRow\" bgcolor=\"#DCE8F1\">\\r\\n\\t\\t\\t\\t<td></td>\\r\\n\\t\\t\\t</tr><tr class=\"dxgvDataRow dxgvDataRowAlt\" bgcolor=\"#ACC6DF\">\\r\\n\\t\\t\\t\\t<td></td>\\r\\n\\t\\t\\t</tr><tr class=\"dxgvDataRow\" bgcolor=\"#DCE8F1\">\\r\\n\\t\\t\\t\\t<td></td>\\r\\n\\t\\t\\t</tr><tr class=\"dxgvDataRow dxgvDataRowAlt\" bgcolor=\"#ACC6DF\">\\r\\n\\t\\t\\t\\t<td></td>\\r\\n\\t\\t\\t</tr><tr class=\"dxgvDataRow\" bgcolor=\"#DCE8F1\">\\r\\n\\t\\t\\t\\t<td></td>\\r\\n\\t\\t\\t</tr><tr class=\"dxgvDataRow dxgvDataRowAlt\" bgcolor=\"#ACC6DF\">\\r\\n\\t\\t\\t\\t<td></td>\\r\\n\\t\\t\\t</tr><tr class=\"dxgvDataRow\" bgcolor=\"#DCE8F1\">\\r\\n\\t\\t\\t\\t<td></td>\\r\\n\\t\\t\\t</tr><tr class=\"dxgvDataRow dxgvDataRowAlt\" bgcolor=\"#ACC6DF\">\\r\\n\\t\\t\\t\\t<td></td>\\r\\n\\t\\t\\t</tr><tr class=\"dxgvDataRow\" bgcolor=\"#DCE8F1\">\\r\\n\\t\\t\\t\\t<td></td>\\r\\n\\t\\t\\t</tr><tr class=\"dxgvDataRow dxgvDataRowAlt\" bgcolor=\"#ACC6DF\">\\r\\n\\t\\t\\t\\t<td></td>\\r\\n\\t\\t\\t</tr><tr class=\"dxgvDataRow\" bgcolor=\"#DCE8F1\">\\r\\n\\t\\t\\t\\t<td></td>\\r\\n\\t\\t\\t</tr><tr class=\"dxgvDataRow dxgvDataRowAlt\" bgcolor=\"#ACC6DF\">\\r\\n\\t\\t\\t\\t<td></td>\\r\\n\\t\\t\\t</tr><tr class=\"dxgvDataRow\" bgcolor=\"#DCE8F1\">\\r\\n\\t\\t\\t\\t<td></td>\\r\\n\\t\\t\\t</tr><tr class=\"dxgvDataRow dxgvDataRowAlt\" bgcolor=\"#ACC6DF\">\\r\\n\\t\\t\\t\\t<td></td>\\r\\n\\t\\t\\t</tr><tr class=\"dxgvDataRow\" bgcolor=\"#DCE8F1\">\\r\\n\\t\\t\\t\\t<td></td>\\r\\n\\t\\t\\t</tr><tr class=\"dxgvDataRow dxgvDataRowAlt\" bgcolor=\"#ACC6DF\">\\r\\n\\t\\t\\t\\t<td></td>\\r\\n\\t\\t\\t</tr><tr class=\"dxgvDataRow\" bgcolor=\"#DCE8F1\">\\r\\n\\t\\t\\t\\t<td></td>\\r\\n\\t\\t\\t</tr><tr class=\"dxgvDataRow dxgvDataRowAlt\" bgcolor=\"#ACC6DF\">\\r\\n\\t\\t\\t\\t<td></td>\\r\\n\\t\\t\\t</tr><tr class=\"dxgvDataRow\" bgcolor=\"#DCE8F1\">\\r\\n\\t\\t\\t\\t<td></td>\\r\\n\\t\\t\\t</tr><tr class=\"dxgvDataRow dxgvDataRowAlt\" bgcolor=\"#ACC6DF\">\\r\\n\\t\\t\\t\\t<td></td>\\r\\n\\t\\t\\t</tr><tr class=\"dxgvDataRow\" bgcolor=\"#DCE8F1\">\\r\\n\\t\\t\\t\\t<td></td>\\r\\n\\t\\t\\t</tr><tr class=\"dxgvDataRow dxgvDataRowAlt\" bgcolor=\"#ACC6DF\">\\r\\n\\t\\t\\t\\t<td></td>\\r\\n\\t\\t\\t</tr><tr class=\"dxgvDataRow\" bgcolor=\"#DCE8F1\">\\r\\n\\t\\t\\t\\t<td></td>\\r\\n\\t\\t\\t</tr><tr class=\"dxgvDataRow dxgvDataRowAlt\" bgcolor=\"#ACC6DF\">\\r\\n\\t\\t\\t\\t<td></td>\\r\\n\\t\\t\\t</tr><tr class=\"dxgvDataRow\" bgcolor=\"#DCE8F1\">\\r\\n\\t\\t\\t\\t<td></td>\\r\\n\\t\\t\\t</tr><tr class=\"dxgvDataRow dxgvDataRowAlt\" bgcolor=\"#ACC6DF\">\\r\\n\\t\\t\\t\\t<td></td>\\r\\n\\t\\t\\t</tr><tr class=\"dxgvDataRow\" bgcolor=\"#DCE8F1\">\\r\\n\\t\\t\\t\\t<td></td>\\r\\n\\t\\t\\t</tr><tr class=\"dxgvDataRow dxgvDataRowAlt\" bgcolor=\"#ACC6DF\">\\r\\n\\t\\t\\t\\t<td></td>\\r\\n\\t\\t\\t</tr><tr class=\"dxgvDataRow\" bgcolor=\"#DCE8F1\">\\r\\n\\t\\t\\t\\t<td></td>\\r\\n\\t\\t\\t</tr><tr class=\"dxgvDataRow dxgvDataRowAlt\" bgcolor=\"#ACC6DF\">\\r\\n\\t\\t\\t\\t<td></td>\\r\\n\\t\\t\\t</tr><tr class=\"dxgvDataRow\" bgcolor=\"#DCE8F1\">\\r\\n\\t\\t\\t\\t<td></td>\\r\\n\\t\\t\\t</tr><tr class=\"dxgvDataRow dxgvDataRowAlt\" bgcolor=\"#ACC6DF\">\\r\\n\\t\\t\\t\\t<td></td>\\r\\n\\t\\t\\t</tr><tr class=\"dxgvDataRow\" bgcolor=\"#DCE8F1\">\\r\\n\\t\\t\\t\\t<td></td>\\r\\n\\t\\t\\t</tr><tr class=\"dxgvDataRow dxgvDataRowAlt\" bgcolor=\"#ACC6DF\">\\r\\n\\t\\t\\t\\t<td></td>\\r\\n\\t\\t\\t</tr><tr class=\"dxgvDataRow\" bgcolor=\"#DCE8F1\">\\r\\n\\t\\t\\t\\t<td></td>\\r\\n\\t\\t\\t</tr><tr class=\"dxgvDataRow dxgvDataRowAlt\" bgcolor=\"#ACC6DF\">\\r\\n\\t\\t\\t\\t<td></td>\\r\\n\\t\\t\\t</tr><tr class=\"dxgvDataRow\" bgcolor=\"#DCE8F1\">\\r\\n\\t\\t\\t\\t<td></td>\\r\\n\\t\\t\\t</tr><tr class=\"dxgvDataRow dxgvDataRowAlt\" bgcolor=\"#ACC6DF\">\\r\\n\\t\\t\\t\\t<td></td>\\r\\n\\t\\t\\t</tr><tr class=\"dxgvDataRow\" bgcolor=\"#DCE8F1\">\\r\\n\\t\\t\\t\\t<td></td>\\r\\n\\t\\t\\t</tr><tr class=\"dxgvDataRow dxgvDataRowAlt\" bgcolor=\"#ACC6DF\">\\r\\n\\t\\t\\t\\t<td></td>\\r\\n\\t\\t\\t</tr><tr class=\"dxgvDataRow\" bgcolor=\"#DCE8F1\">\\r\\n\\t\\t\\t\\t<td></td>\\r\\n\\t\\t\\t</tr><tr class=\"dxgvDataRow dxgvDataRowAlt\" bgcolor=\"#ACC6DF\">\\r\\n\\t\\t\\t\\t<td></td>\\r\\n\\t\\t\\t</tr><tr class=\"dxgvDataRow\" bgcolor=\"#DCE8F1\">\\r\\n\\t\\t\\t\\t<td></td>\\r\\n\\t\\t\\t</tr><tr class=\"dxgvDataRow dxgvDataRowAlt\" bgcolor=\"#ACC6DF\">\\r\\n\\t\\t\\t\\t<td></td>\\r\\n\\t\\t\\t</tr><tr class=\"dxgvDataRow\" bgcolor=\"#DCE8F1\">\\r\\n\\t\\t\\t\\t<td></td>\\r\\n\\t\\t\\t</tr><tr class=\"dxgvDataRow dxgvDataRowAlt\" bgcolor=\"#ACC6DF\">\\r\\n\\t\\t\\t\\t<td></td>\\r\\n\\t\\t\\t</tr><tr class=\"dxgvDataRow\" bgcolor=\"#DCE8F1\">\\r\\n\\t\\t\\t\\t<td></td>\\r\\n\\t\\t\\t</tr><tr class=\"dxgvDataRow dxgvDataRowAlt\" bgcolor=\"#ACC6DF\">\\r\\n\\t\\t\\t\\t<td></td>\\r\\n\\t\\t\\t</tr><tr class=\"dxgvDataRow\" bgcolor=\"#DCE8F1\">\\r\\n\\t\\t\\t\\t<td></td>\\r\\n\\t\\t\\t</tr><tr class=\"dxgvDataRow dxgvDataRowAlt\" bgcolor=\"#ACC6DF\">\\r\\n\\t\\t\\t\\t<td></td>\\r\\n\\t\\t\\t</tr><tr class=\"dxgvDataRow\" bgcolor=\"#DCE8F1\">\\r\\n\\t\\t\\t\\t<td></td>\\r\\n\\t\\t\\t</tr><tr class=\"dxgvDataRow dxgvDataRowAlt\" bgcolor=\"#ACC6DF\">\\r\\n\\t\\t\\t\\t<td></td>\\r\\n\\t\\t\\t</tr><tr class=\"dxgvDataRow\" bgcolor=\"#DCE8F1\">\\r\\n\\t\\t\\t\\t<td></td>\\r\\n\\t\\t\\t</tr><tr class=\"dxgvDataRow dxgvDataRowAlt\" bgcolor=\"#ACC6DF\">\\r\\n\\t\\t\\t\\t<td></td>\\r\\n\\t\\t\\t</tr><tr class=\"dxgvDataRow\" bgcolor=\"#DCE8F1\">\\r\\n\\t\\t\\t\\t<td></td>\\r\\n\\t\\t\\t</tr><tr class=\"dxgvDataRow dxgvDataRowAlt\" bgcolor=\"#ACC6DF\">\\r\\n\\t\\t\\t\\t<td></td>\\r\\n\\t\\t\\t</tr><tr class=\"dxgvDataRow\" bgcolor=\"#DCE8F1\">\\r\\n\\t\\t\\t\\t<td></td>\\r\\n\\t\\t\\t</tr><tr class=\"dxgvDataRow dxgvDataRowAlt\" bgcolor=\"#ACC6DF\">\\r\\n\\t\\t\\t\\t<td></td>\\r\\n\\t\\t\\t</tr><tr class=\"dxgvDataRow\" bgcolor=\"#DCE8F1\">\\r\\n\\t\\t\\t\\t<td></td>\\r\\n\\t\\t\\t</tr><tr class=\"dxgvDataRow dxgvDataRowAlt\" bgcolor=\"#ACC6DF\">\\r\\n\\t\\t\\t\\t<td></td>\\r\\n\\t\\t\\t</tr><tr class=\"dxgvDataRow\" bgcolor=\"#DCE8F1\">\\r\\n\\t\\t\\t\\t<td></td>\\r\\n\\t\\t\\t</tr><tr class=\"dxgvDataRow dxgvDataRowAlt\" bgcolor=\"#ACC6DF\">\\r\\n\\t\\t\\t\\t<td></td>\\r\\n\\t\\t\\t</tr><tr class=\"dxgvDataRow\" bgcolor=\"#DCE8F1\">\\r\\n\\t\\t\\t\\t<td></td>\\r\\n\\t\\t\\t</tr><tr class=\"dxgvDataRow dxgvDataRowAlt\" bgcolor=\"#ACC6DF\">\\r\\n\\t\\t\\t\\t<td></td>\\r\\n\\t\\t\\t</tr><tr class=\"dxgvDataRow\" bgcolor=\"#DCE8F1\">\\r\\n\\t\\t\\t\\t<td></td>\\r\\n\\t\\t\\t</tr><tr class=\"dxgvDataRow dxgvDataRowAlt\" bgcolor=\"#ACC6DF\">\\r\\n\\t\\t\\t\\t<td></td>\\r\\n\\t\\t\\t</tr><tr class=\"dxgvDataRow\" bgcolor=\"#DCE8F1\">\\r\\n\\t\\t\\t\\t<td></td>\\r\\n\\t\\t\\t</tr><tr class=\"dxgvDataRow dxgvDataRowAlt\" bgcolor=\"#ACC6DF\">\\r\\n\\t\\t\\t\\t<td></td>\\r\\n\\t\\t\\t</tr><tr class=\"dxgvDataRow\" bgcolor=\"#DCE8F1\">\\r\\n\\t\\t\\t\\t<td></td>\\r\\n\\t\\t\\t</tr><tr class=\"dxgvDataRow dxgvDataRowAlt\" bgcolor=\"#ACC6DF\">\\r\\n\\t\\t\\t\\t<td></td>\\r\\n\\t\\t\\t</tr><tr class=\"dxgvDataRow\" bgcolor=\"#DCE8F1\">\\r\\n\\t\\t\\t\\t<td></td>\\r\\n\\t\\t\\t</tr><tr class=\"dxgvDataRow dxgvDataRowAlt\" bgcolor=\"#ACC6DF\">\\r\\n\\t\\t\\t\\t<td></td>\\r\\n\\t\\t\\t</tr><tr class=\"dxgvDataRow\" bgcolor=\"#DCE8F1\">\\r\\n\\t\\t\\t\\t<td></td>\\r\\n\\t\\t\\t</tr><tr class=\"dxgvDataRow dxgvDataRowAlt\" bgcolor=\"#ACC6DF\">\\r\\n\\t\\t\\t\\t<td></td>\\r\\n\\t\\t\\t</tr><tr class=\"dxgvDataRow\" bgcolor=\"#DCE8F1\">\\r\\n\\t\\t\\t\\t<td></td>\\r\\n\\t\\t\\t</tr><tr class=\"dxgvDataRow dxgvDataRowAlt\" bgcolor=\"#ACC6DF\">\\r\\n\\t\\t\\t\\t<td></td>\\r\\n\\t\\t\\t</tr><tr class=\"dxgvDataRow\" bgcolor=\"#DCE8F1\">\\r\\n\\t\\t\\t\\t<td></td>\\r\\n\\t\\t\\t</tr><tr class=\"dxgvDataRow dxgvDataRowAlt\" bgcolor=\"#ACC6DF\">\\r\\n\\t\\t\\t\\t<td></td>\\r\\n\\t\\t\\t</tr><tr class=\"dxgvDataRow\" bgcolor=\"#DCE8F1\">\\r\\n\\t\\t\\t\\t<td></td>\\r\\n\\t\\t\\t</tr><tr class=\"dxgvDataRow dxgvDataRowAlt\" bgcolor=\"#ACC6DF\">\\r\\n\\t\\t\\t\\t<td></td>\\r\\n\\t\\t\\t</tr><tr class=\"dxgvDataRow\" bgcolor=\"#DCE8F1\">\\r\\n\\t\\t\\t\\t<td></td>\\r\\n\\t\\t\\t</tr><tr class=\"dxgvDataRow dxgvDataRowAlt\" bgcolor=\"#ACC6DF\">\\r\\n\\t\\t\\t\\t<td></td>\\r\\n\\t\\t\\t</tr><tr class=\"dxgvDataRow\" bgcolor=\"#DCE8F1\">\\r\\n\\t\\t\\t\\t<td></td>\\r\\n\\t\\t\\t</tr><tr class=\"dxgvDataRow dxgvDataRowAlt\" bgcolor=\"#ACC6DF\">\\r\\n\\t\\t\\t\\t<td></td>\\r\\n\\t\\t\\t</tr><tr class=\"dxgvDataRow\" bgcolor=\"#DCE8F1\">\\r\\n\\t\\t\\t\\t<td></td>\\r\\n\\t\\t\\t</tr><tr class=\"dxgvDataRow dxgvDataRowAlt\" bgcolor=\"#ACC6DF\">\\r\\n\\t\\t\\t\\t<td></td>\\r\\n\\t\\t\\t</tr><tr class=\"dxgvDataRow\" bgcolor=\"#DCE8F1\">\\r\\n\\t\\t\\t\\t<td></td>\\r\\n\\t\\t\\t</tr><tr class=\"dxgvDataRow dxgvDataRowAlt\" bgcolor=\"#ACC6DF\">\\r\\n\\t\\t\\t\\t<td></td>\\r\\n\\t\\t\\t</tr><tr class=\"dxgvDataRow\" bgcolor=\"#DCE8F1\">\\r\\n\\t\\t\\t\\t<td></td>\\r\\n\\t\\t\\t</tr><tr class=\"dxgvDataRow dxgvDataRowAlt\" bgcolor=\"#ACC6DF\">\\r\\n\\t\\t\\t\\t<td></td>\\r\\n\\t\\t\\t</tr><tr class=\"dxgvDataRow\" bgcolor=\"#DCE8F1\">\\r\\n\\t\\t\\t\\t<td></td>\\r\\n\\t\\t\\t</tr><tr class=\"dxgvDataRow dxgvDataRowAlt\" bgcolor=\"#ACC6DF\">\\r\\n\\t\\t\\t\\t<td></td>\\r\\n\\t\\t\\t</tr><tr class=\"dxgvDataRow\" bgcolor=\"#DCE8F1\">\\r\\n\\t\\t\\t\\t<td></td>\\r\\n\\t\\t\\t</tr><tr class=\"dxgvDataRow dxgvDataRowAlt\" bgcolor=\"#ACC6DF\">\\r\\n\\t\\t\\t\\t<td></td>\\r\\n\\t\\t\\t</tr><tr class=\"dxgvDataRow\" bgcolor=\"#DCE8F1\">\\r\\n\\t\\t\\t\\t<td></td>\\r\\n\\t\\t\\t</tr><tr class=\"dxgvDataRow dxgvDataRowAlt\" bgcolor=\"#ACC6DF\">\\r\\n\\t\\t\\t\\t<td></td>\\r\\n\\t\\t\\t</tr><tr class=\"dxgvDataRow\" bgcolor=\"#DCE8F1\">\\r\\n\\t\\t\\t\\t<td></td>\\r\\n\\t\\t\\t</tr><tr class=\"dxgvDataRow dxgvDataRowAlt\" bgcolor=\"#ACC6DF\">\\r\\n\\t\\t\\t\\t<td></td>\\r\\n\\t\\t\\t</tr><tr class=\"dxgvDataRow\" bgcolor=\"#DCE8F1\">\\r\\n\\t\\t\\t\\t<td></td>\\r\\n\\t\\t\\t</tr><tr class=\"dxgvDataRow dxgvDataRowAlt\" bgcolor=\"#ACC6DF\">\\r\\n\\t\\t\\t\\t<td></td>\\r\\n\\t\\t\\t</tr><tr class=\"dxgvDataRow\" bgcolor=\"#DCE8F1\">\\r\\n\\t\\t\\t\\t<td></td>\\r\\n\\t\\t\\t</tr><tr class=\"dxgvDataRow dxgvDataRowAlt\" bgcolor=\"#ACC6DF\">\\r\\n\\t\\t\\t\\t<td></td>\\r\\n\\t\\t\\t</tr><tr class=\"dxgvDataRow\" bgcolor=\"#DCE8F1\">\\r\\n\\t\\t\\t\\t<td></td>\\r\\n\\t\\t\\t</tr><tr class=\"dxgvDataRow dxgvDataRowAlt\" bgcolor=\"#ACC6DF\">\\r\\n\\t\\t\\t\\t<td></td>\\r\\n\\t\\t\\t</tr><tr class=\"dxgvDataRow\" bgcolor=\"#DCE8F1\">\\r\\n\\t\\t\\t\\t<td></td>\\r\\n\\t\\t\\t</tr><tr class=\"dxgvDataRow dxgvDataRowAlt\" bgcolor=\"#ACC6DF\">\\r\\n\\t\\t\\t\\t<td></td>\\r\\n\\t\\t\\t</tr><tr class=\"dxgvDataRow\" bgcolor=\"#DCE8F1\">\\r\\n\\t\\t\\t\\t<td></td>\\r\\n\\t\\t\\t</tr><tr class=\"dxgvDataRow dxgvDataRowAlt\" bgcolor=\"#ACC6DF\">\\r\\n\\t\\t\\t\\t<td></td>\\r\\n\\t\\t\\t</tr><tr class=\"dxgvDataRow\" bgcolor=\"#DCE8F1\">\\r\\n\\t\\t\\t\\t<td></td>\\r\\n\\t\\t\\t</tr><tr class=\"dxgvDataRow dxgvDataRowAlt\" bgcolor=\"#ACC6DF\">\\r\\n\\t\\t\\t\\t<td></td>\\r\\n\\t\\t\\t</tr><tr class=\"dxgvDataRow\" bgcolor=\"#DCE8F1\">\\r\\n\\t\\t\\t\\t<td></td>\\r\\n\\t\\t\\t</tr><tr class=\"dxgvDataRow dxgvDataRowAlt\" bgcolor=\"#ACC6DF\">\\r\\n\\t\\t\\t\\t<td></td>\\r\\n\\t\\t\\t</tr><tr class=\"dxgvDataRow\" bgcolor=\"#DCE8F1\">\\r\\n\\t\\t\\t\\t<td></td>\\r\\n\\t\\t\\t</tr><tr class=\"dxgvDataRow dxgvDataRowAlt\" bgcolor=\"#ACC6DF\">\\r\\n\\t\\t\\t\\t<td></td>\\r\\n\\t\\t\\t</tr><tr class=\"dxgvDataRow\" bgcolor=\"#DCE8F1\">\\r\\n\\t\\t\\t\\t<td></td>\\r\\n\\t\\t\\t</tr><tr class=\"dxgvDataRow dxgvDataRowAlt\" bgcolor=\"#ACC6DF\">\\r\\n\\t\\t\\t\\t<td></td>\\r\\n\\t\\t\\t</tr><tr class=\"dxgvDataRow\" bgcolor=\"#DCE8F1\">\\r\\n\\t\\t\\t\\t<td></td>\\r\\n\\t\\t\\t</tr><tr class=\"dxgvDataRow dxgvDataRowAlt\" bgcolor=\"#ACC6DF\">\\r\\n\\t\\t\\t\\t<td></td>\\r\\n\\t\\t\\t</tr><tr class=\"dxgvDataRow\" bgcolor=\"#DCE8F1\">\\r\\n\\t\\t\\t\\t<td></td>\\r\\n\\t\\t\\t</tr><tr class=\"dxgvDataRow dxgvDataRowAlt\" bgcolor=\"#ACC6DF\">\\r\\n\\t\\t\\t\\t<td></td>\\r\\n\\t\\t\\t</tr><tr class=\"dxgvDataRow\" bgcolor=\"#DCE8F1\">\\r\\n\\t\\t\\t\\t<td></td>\\r\\n\\t\\t\\t</tr><tr class=\"dxgvDataRow dxgvDataRowAlt\" bgcolor=\"#ACC6DF\">\\r\\n\\t\\t\\t\\t<td></td>\\r\\n\\t\\t\\t</tr><tr class=\"dxgvDataRow\" bgcolor=\"#DCE8F1\">\\r\\n\\t\\t\\t\\t<td></td>\\r\\n\\t\\t\\t</tr><tr class=\"dxgvDataRow dxgvDataRowAlt\" bgcolor=\"#ACC6DF\">\\r\\n\\t\\t\\t\\t<td></td>\\r\\n\\t\\t\\t</tr><tr class=\"dxgvDataRow\" bgcolor=\"#DCE8F1\">\\r\\n\\t\\t\\t\\t<td></td>\\r\\n\\t\\t\\t</tr><tr class=\"dxgvDataRow dxgvDataRowAlt\" bgcolor=\"#ACC6DF\">\\r\\n\\t\\t\\t\\t<td></td>\\r\\n\\t\\t\\t</tr><tr class=\"dxgvDataRow\" bgcolor=\"#DCE8F1\">\\r\\n\\t\\t\\t\\t<td></td>\\r\\n\\t\\t\\t</tr><tr class=\"dxgvDataRow dxgvDataRowAlt\" bgcolor=\"#ACC6DF\">\\r\\n\\t\\t\\t\\t<td></td>\\r\\n\\t\\t\\t</tr><tr class=\"dxgvDataRow\" bgcolor=\"#DCE8F1\">\\r\\n\\t\\t\\t\\t<td></td>\\r\\n\\t\\t\\t</tr><tr class=\"dxgvDataRow dxgvDataRowAlt\" bgcolor=\"#ACC6DF\">\\r\\n\\t\\t\\t\\t<td></td>\\r\\n\\t\\t\\t</tr><tr class=\"dxgvDataRow\" bgcolor=\"#DCE8F1\">\\r\\n\\t\\t\\t\\t<td></td>\\r\\n\\t\\t\\t</tr><tr class=\"dxgvDataRow dxgvDataRowAlt\" bgcolor=\"#ACC6DF\">\\r\\n\\t\\t\\t\\t<td></td>\\r\\n\\t\\t\\t</tr><tr class=\"dxgvDataRow\" bgcolor=\"#DCE8F1\">\\r\\n\\t\\t\\t\\t<td></td>\\r\\n\\t\\t\\t</tr><tr class=\"dxgvDataRow dxgvDataRowAlt\" bgcolor=\"#ACC6DF\">\\r\\n\\t\\t\\t\\t<td></td>\\r\\n\\t\\t\\t</tr><tr class=\"dxgvDataRow\" bgcolor=\"#DCE8F1\">\\r\\n\\t\\t\\t\\t<td></td>\\r\\n\\t\\t\\t</tr><tr class=\"dxgvDataRow dxgvDataRowAlt\" bgcolor=\"#ACC6DF\">\\r\\n\\t\\t\\t\\t<td></td>\\r\\n\\t\\t\\t</tr><tr class=\"dxgvDataRow\" bgcolor=\"#DCE8F1\">\\r\\n\\t\\t\\t\\t<td></td>\\r\\n\\t\\t\\t</tr><tr class=\"dxgvDataRow dxgvDataRowAlt\" bgcolor=\"#ACC6DF\">\\r\\n\\t\\t\\t\\t<td></td>\\r\\n\\t\\t\\t</tr><tr class=\"dxgvDataRow\" bgcolor=\"#DCE8F1\">\\r\\n\\t\\t\\t\\t<td></td>\\r\\n\\t\\t\\t</tr><tr class=\"dxgvDataRow dxgvDataRowAlt\" bgcolor=\"#ACC6DF\">\\r\\n\\t\\t\\t\\t<td></td>\\r\\n\\t\\t\\t</tr><tr class=\"dxgvDataRow\" bgcolor=\"#DCE8F1\">\\r\\n\\t\\t\\t\\t<td></td>\\r\\n\\t\\t\\t</tr><tr class=\"dxgvDataRow dxgvDataRowAlt\" bgcolor=\"#ACC6DF\">\\r\\n\\t\\t\\t\\t<td></td>\\r\\n\\t\\t\\t</tr><tr class=\"dxgvDataRow\" bgcolor=\"#DCE8F1\">\\r\\n\\t\\t\\t\\t<td></td>\\r\\n\\t\\t\\t</tr><tr class=\"dxgvDataRow dxgvDataRowAlt\" bgcolor=\"#ACC6DF\">\\r\\n\\t\\t\\t\\t<td></td>\\r\\n\\t\\t\\t</tr><tr class=\"dxgvDataRow\" bgcolor=\"#DCE8F1\">\\r\\n\\t\\t\\t\\t<td></td>\\r\\n\\t\\t\\t</tr><tr class=\"dxgvDataRow dxgvDataRowAlt\" bgcolor=\"#ACC6DF\">\\r\\n\\t\\t\\t\\t<td></td>\\r\\n\\t\\t\\t</tr><tr class=\"dxgvDataRow\" bgcolor=\"#DCE8F1\">\\r\\n\\t\\t\\t\\t<td></td>\\r\\n\\t\\t\\t</tr><tr class=\"dxgvDataRow dxgvDataRowAlt\" bgcolor=\"#ACC6DF\">\\r\\n\\t\\t\\t\\t<td></td>\\r\\n\\t\\t\\t</tr><tr class=\"dxgvDataRow\" bgcolor=\"#DCE8F1\">\\r\\n\\t\\t\\t\\t<td></td>\\r\\n\\t\\t\\t</tr><tr class=\"dxgvDataRow dxgvDataRowAlt\" bgcolor=\"#ACC6DF\">\\r\\n\\t\\t\\t\\t<td></td>\\r\\n\\t\\t\\t</tr><tr class=\"dxgvDataRow\" bgcolor=\"#DCE8F1\">\\r\\n\\t\\t\\t\\t<td></td>\\r\\n\\t\\t\\t</tr><tr class=\"dxgvDataRow dxgvDataRowAlt\" bgcolor=\"#ACC6DF\">\\r\\n\\t\\t\\t\\t<td></td>\\r\\n\\t\\t\\t</tr><tr class=\"dxgvDataRow\" bgcolor=\"#DCE8F1\">\\r\\n\\t\\t\\t\\t<td></td>\\r\\n\\t\\t\\t</tr><tr class=\"dxgvDataRow dxgvDataRowAlt\" bgcolor=\"#ACC6DF\">\\r\\n\\t\\t\\t\\t<td></td>\\r\\n\\t\\t\\t</tr><tr class=\"dxgvDataRow\" bgcolor=\"#DCE8F1\">\\r\\n\\t\\t\\t\\t<td></td>\\r\\n\\t\\t\\t</tr><tr class=\"dxgvDataRow dxgvDataRowAlt\" bgcolor=\"#ACC6DF\">\\r\\n\\t\\t\\t\\t<td></td>\\r\\n\\t\\t\\t</tr><tr class=\"dxgvDataRow\" bgcolor=\"#DCE8F1\">\\r\\n\\t\\t\\t\\t<td></td>\\r\\n\\t\\t\\t</tr><tr class=\"dxgvDataRow dxgvDataRowAlt\" bgcolor=\"#ACC6DF\">\\r\\n\\t\\t\\t\\t<td></td>\\r\\n\\t\\t\\t</tr><tr class=\"dxgvDataRow\" bgcolor=\"#DCE8F1\">\\r\\n\\t\\t\\t\\t<td></td>\\r\\n\\t\\t\\t</tr><tr class=\"dxgvDataRow dxgvDataRowAlt\" bgcolor=\"#ACC6DF\">\\r\\n\\t\\t\\t\\t<td></td>\\r\\n\\t\\t\\t</tr><tr class=\"dxgvDataRow\" bgcolor=\"#DCE8F1\">\\r\\n\\t\\t\\t\\t<td></td>\\r\\n\\t\\t\\t</tr><tr class=\"dxgvDataRow dxgvDataRowAlt\" bgcolor=\"#ACC6DF\">\\r\\n\\t\\t\\t\\t<td></td>\\r\\n\\t\\t\\t</tr><tr class=\"dxgvDataRow\" bgcolor=\"#DCE8F1\">\\r\\n\\t\\t\\t\\t<td></td>\\r\\n\\t\\t\\t</tr><tr class=\"dxgvDataRow dxgvDataRowAlt\" bgcolor=\"#ACC6DF\">\\r\\n\\t\\t\\t\\t<td></td>\\r\\n\\t\\t\\t</tr><tr class=\"dxgvDataRow\" bgcolor=\"#DCE8F1\">\\r\\n\\t\\t\\t\\t<td></td>\\r\\n\\t\\t\\t</tr><tr class=\"dxgvDataRow dxgvDataRowAlt\" bgcolor=\"#ACC6DF\">\\r\\n\\t\\t\\t\\t<td></td>\\r\\n\\t\\t\\t</tr><tr class=\"dxgvDataRow\" bgcolor=\"#DCE8F1\">\\r\\n\\t\\t\\t\\t<td></td>\\r\\n\\t\\t\\t</tr><tr class=\"dxgvDataRow dxgvDataRowAlt\" bgcolor=\"#ACC6DF\">\\r\\n\\t\\t\\t\\t<td></td>\\r\\n\\t\\t\\t</tr><tr class=\"dxgvDataRow\" bgcolor=\"#DCE8F1\">\\r\\n\\t\\t\\t\\t<td></td>\\r\\n\\t\\t\\t</tr><tr class=\"dxgvDataRow dxgvDataRowAlt\" bgcolor=\"#ACC6DF\">\\r\\n\\t\\t\\t\\t<td></td>\\r\\n\\t\\t\\t</tr><tr class=\"dxgvDataRow\" bgcolor=\"#DCE8F1\">\\r\\n\\t\\t\\t\\t<td></td>\\r\\n\\t\\t\\t</tr><tr class=\"dxgvDataRow dxgvDataRowAlt\" bgcolor=\"#ACC6DF\">\\r\\n\\t\\t\\t\\t<td></td>\\r\\n\\t\\t\\t</tr><tr class=\"dxgvDataRow\" bgcolor=\"#DCE8F1\">\\r\\n\\t\\t\\t\\t<td></td>\\r\\n\\t\\t\\t</tr><tr class=\"dxgvDataRow dxgvDataRowAlt\" bgcolor=\"#ACC6DF\">\\r\\n\\t\\t\\t\\t<td></td>\\r\\n\\t\\t\\t</tr><tr class=\"dxgvDataRow\" bgcolor=\"#DCE8F1\">\\r\\n\\t\\t\\t\\t<td></td>\\r\\n\\t\\t\\t</tr><tr class=\"dxgvDataRow dxgvDataRowAlt\" bgcolor=\"#ACC6DF\">\\r\\n\\t\\t\\t\\t<td></td>\\r\\n\\t\\t\\t</tr><tr class=\"dxgvDataRow\" bgcolor=\"#DCE8F1\">\\r\\n\\t\\t\\t\\t<td></td>\\r\\n\\t\\t\\t</tr><tr class=\"dxgvDataRow dxgvDataRowAlt\" bgcolor=\"#ACC6DF\">\\r\\n\\t\\t\\t\\t<td></td>\\r\\n\\t\\t\\t</tr><tr class=\"dxgvDataRow\" bgcolor=\"#DCE8F1\">\\r\\n\\t\\t\\t\\t<td></td>\\r\\n\\t\\t\\t</tr><tr class=\"dxgvDataRow dxgvDataRowAlt\" bgcolor=\"#ACC6DF\">\\r\\n\\t\\t\\t\\t<td></td>\\r\\n\\t\\t\\t</tr><tr class=\"dxgvDataRow\" bgcolor=\"#DCE8F1\">\\r\\n\\t\\t\\t\\t<td></td>\\r\\n\\t\\t\\t</tr><tr class=\"dxgvDataRow dxgvDataRowAlt\" bgcolor=\"#ACC6DF\">\\r\\n\\t\\t\\t\\t<td></td>\\r\\n\\t\\t\\t</tr><tr class=\"dxgvDataRow\" bgcolor=\"#DCE8F1\">\\r\\n\\t\\t\\t\\t<td></td>\\r\\n\\t\\t\\t</tr><tr class=\"dxgvDataRow dxgvDataRowAlt\" bgcolor=\"#ACC6DF\">\\r\\n\\t\\t\\t\\t<td></td>\\r\\n\\t\\t\\t</tr><tr class=\"dxgvDataRow\" bgcolor=\"#DCE8F1\">\\r\\n\\t\\t\\t\\t<td></td>\\r\\n\\t\\t\\t</tr><tr class=\"dxgvDataRow dxgvDataRowAlt\" bgcolor=\"#ACC6DF\">\\r\\n\\t\\t\\t\\t<td></td>\\r\\n\\t\\t\\t</tr><tr class=\"dxgvDataRow\" bgcolor=\"#DCE8F1\">\\r\\n\\t\\t\\t\\t<td></td>\\r\\n\\t\\t\\t</tr><tr class=\"dxgvDataRow dxgvDataRowAlt\" bgcolor=\"#ACC6DF\">\\r\\n\\t\\t\\t\\t<td></td>\\r\\n\\t\\t\\t</tr><tr class=\"dxgvDataRow\" bgcolor=\"#DCE8F1\">\\r\\n\\t\\t\\t\\t<td></td>\\r\\n\\t\\t\\t</tr><tr class=\"dxgvDataRow dxgvDataRowAlt\" bgcolor=\"#ACC6DF\">\\r\\n\\t\\t\\t\\t<td></td>\\r\\n\\t\\t\\t</tr><tr class=\"dxgvDataRow\" bgcolor=\"#DCE8F1\">\\r\\n\\t\\t\\t\\t<td></td>\\r\\n\\t\\t\\t</tr><tr class=\"dxgvDataRow dxgvDataRowAlt\" bgcolor=\"#ACC6DF\">\\r\\n\\t\\t\\t\\t<td></td>\\r\\n\\t\\t\\t</tr><tr class=\"dxgvDataRow\" bgcolor=\"#DCE8F1\">\\r\\n\\t\\t\\t\\t<td></td>\\r\\n\\t\\t\\t</tr><tr class=\"dxgvDataRow dxgvDataRowAlt\" bgcolor=\"#ACC6DF\">\\r\\n\\t\\t\\t\\t<td></td>\\r\\n\\t\\t\\t</tr><tr class=\"dxgvDataRow\" bgcolor=\"#DCE8F1\">\\r\\n\\t\\t\\t\\t<td></td>\\r\\n\\t\\t\\t</tr><tr class=\"dxgvDataRow dxgvDataRowAlt\" bgcolor=\"#ACC6DF\">\\r\\n\\t\\t\\t\\t<td></td>\\r\\n\\t\\t\\t</tr><tr class=\"dxgvDataRow\" bgcolor=\"#DCE8F1\">\\r\\n\\t\\t\\t\\t<td></td>\\r\\n\\t\\t\\t</tr><tr class=\"dxgvDataRow dxgvDataRowAlt\" bgcolor=\"#ACC6DF\">\\r\\n\\t\\t\\t\\t<td></td>\\r\\n\\t\\t\\t</tr><tr class=\"dxgvDataRow\" bgcolor=\"#DCE8F1\">\\r\\n\\t\\t\\t\\t<td></td>\\r\\n\\t\\t\\t</tr><tr class=\"dxgvDataRow dxgvDataRowAlt\" bgcolor=\"#ACC6DF\">\\r\\n\\t\\t\\t\\t<td></td>\\r\\n\\t\\t\\t</tr><tr class=\"dxgvDataRow\" bgcolor=\"#DCE8F1\">\\r\\n\\t\\t\\t\\t<td></td>\\r\\n\\t\\t\\t</tr><tr class=\"dxgvDataRow dxgvDataRowAlt\" bgcolor=\"#ACC6DF\">\\r\\n\\t\\t\\t\\t<td></td>\\r\\n\\t\\t\\t</tr><tr class=\"dxgvDataRow\" bgcolor=\"#DCE8F1\">\\r\\n\\t\\t\\t\\t<td></td>\\r\\n\\t\\t\\t</tr><tr class=\"dxgvDataRow dxgvDataRowAlt\" bgcolor=\"#ACC6DF\">\\r\\n\\t\\t\\t\\t<td></td>\\r\\n\\t\\t\\t</tr><tr class=\"dxgvDataRow\" bgcolor=\"#DCE8F1\">\\r\\n\\t\\t\\t\\t<td></td>\\r\\n\\t\\t\\t</tr><tr class=\"dxgvDataRow dxgvDataRowAlt\" bgcolor=\"#ACC6DF\">\\r\\n\\t\\t\\t\\t<td></td>\\r\\n\\t\\t\\t</tr><tr class=\"dxgvDataRow\" bgcolor=\"#DCE8F1\">\\r\\n\\t\\t\\t\\t<td></td>\\r\\n\\t\\t\\t</tr><tr class=\"dxgvDataRow dxgvDataRowAlt\" bgcolor=\"#ACC6DF\">\\r\\n\\t\\t\\t\\t<td></td>\\r\\n\\t\\t\\t</tr><tr class=\"dxgvDataRow\" bgcolor=\"#DCE8F1\">\\r\\n\\t\\t\\t\\t<td></td>\\r\\n\\t\\t\\t</tr><tr class=\"dxgvDataRow dxgvDataRowAlt\" bgcolor=\"#ACC6DF\">\\r\\n\\t\\t\\t\\t<td></td>\\r\\n\\t\\t\\t</tr><tr class=\"dxgvDataRow\" bgcolor=\"#DCE8F1\">\\r\\n\\t\\t\\t\\t<td></td>\\r\\n\\t\\t\\t</tr><tr class=\"dxgvDataRow dxgvDataRowAlt\" bgcolor=\"#ACC6DF\">\\r\\n\\t\\t\\t\\t<td></td>\\r\\n\\t\\t\\t</tr><tr class=\"dxgvDataRow\" bgcolor=\"#DCE8F1\">\\r\\n\\t\\t\\t\\t<td></td>\\r\\n\\t\\t\\t</tr><tr class=\"dxgvDataRow dxgvDataRowAlt\" bgcolor=\"#ACC6DF\">\\r\\n\\t\\t\\t\\t<td></td>\\r\\n\\t\\t\\t</tr><tr class=\"dxgvDataRow\" bgcolor=\"#DCE8F1\">\\r\\n\\t\\t\\t\\t<td></td>\\r\\n\\t\\t\\t</tr><tr class=\"dxgvDataRow dxgvDataRowAlt\" bgcolor=\"#ACC6DF\">\\r\\n\\t\\t\\t\\t<td></td>\\r\\n\\t\\t\\t</tr><tr class=\"dxgvDataRow\" bgcolor=\"#DCE8F1\">\\r\\n\\t\\t\\t\\t<td></td>\\r\\n\\t\\t\\t</tr><tr class=\"dxgvDataRow dxgvDataRowAlt\" bgcolor=\"#ACC6DF\">\\r\\n\\t\\t\\t\\t<td></td>\\r\\n\\t\\t\\t</tr><tr class=\"dxgvDataRow\" bgcolor=\"#DCE8F1\">\\r\\n\\t\\t\\t\\t<td></td>\\r\\n\\t\\t\\t</tr><tr class=\"dxgvDataRow dxgvDataRowAlt\" bgcolor=\"#ACC6DF\">\\r\\n\\t\\t\\t\\t<td></td>\\r\\n\\t\\t\\t</tr><tr class=\"dxgvDataRow\" bgcolor=\"#DCE8F1\">\\r\\n\\t\\t\\t\\t<td></td>\\r\\n\\t\\t\\t</tr><tr class=\"dxgvDataRow dxgvDataRowAlt\" bgcolor=\"#ACC6DF\">\\r\\n\\t\\t\\t\\t<td></td>\\r\\n\\t\\t\\t</tr><tr class=\"dxgvDataRow\" bgcolor=\"#DCE8F1\">\\r\\n\\t\\t\\t\\t<td></td>\\r\\n\\t\\t\\t</tr><tr class=\"dxgvDataRow dxgvDataRowAlt\" bgcolor=\"#ACC6DF\">\\r\\n\\t\\t\\t\\t<td></td>\\r\\n\\t\\t\\t</tr><tr class=\"dxgvDataRow\" bgcolor=\"#DCE8F1\">\\r\\n\\t\\t\\t\\t<td></td>\\r\\n\\t\\t\\t</tr><tr class=\"dxgvDataRow dxgvDataRowAlt\" bgcolor=\"#ACC6DF\">\\r\\n\\t\\t\\t\\t<td></td>\\r\\n\\t\\t\\t</tr><tr class=\"dxgvDataRow\" bgcolor=\"#DCE8F1\">\\r\\n\\t\\t\\t\\t<td></td>\\r\\n\\t\\t\\t</tr><tr class=\"dxgvDataRow dxgvDataRowAlt\" bgcolor=\"#ACC6DF\">\\r\\n\\t\\t\\t\\t<td></td>\\r\\n\\t\\t\\t</tr><tr class=\"dxgvDataRow\" bgcolor=\"#DCE8F1\">\\r\\n\\t\\t\\t\\t<td></td>\\r\\n\\t\\t\\t</tr><tr class=\"dxgvDataRow dxgvDataRowAlt\" bgcolor=\"#ACC6DF\">\\r\\n\\t\\t\\t\\t<td></td>\\r\\n\\t\\t\\t</tr><tr class=\"dxgvDataRow\" bgcolor=\"#DCE8F1\">\\r\\n\\t\\t\\t\\t<td></td>\\r\\n\\t\\t\\t</tr><tr class=\"dxgvDataRow dxgvDataRowAlt\" bgcolor=\"#ACC6DF\">\\r\\n\\t\\t\\t\\t<td></td>\\r\\n\\t\\t\\t</tr><tr class=\"dxgvDataRow\" bgcolor=\"#DCE8F1\">\\r\\n\\t\\t\\t\\t<td></td>\\r\\n\\t\\t\\t</tr><tr class=\"dxgvDataRow dxgvDataRowAlt\" bgcolor=\"#ACC6DF\">\\r\\n\\t\\t\\t\\t<td></td>\\r\\n\\t\\t\\t</tr><tr class=\"dxgvDataRow\" bgcolor=\"#DCE8F1\">\\r\\n\\t\\t\\t\\t<td></td>\\r\\n\\t\\t\\t</tr><tr class=\"dxgvDataRow dxgvDataRowAlt\" bgcolor=\"#ACC6DF\">\\r\\n\\t\\t\\t\\t<td></td>\\r\\n\\t\\t\\t</tr><tr class=\"dxgvDataRow\" bgcolor=\"#DCE8F1\">\\r\\n\\t\\t\\t\\t<td></td>\\r\\n\\t\\t\\t</tr><tr class=\"dxgvDataRow dxgvDataRowAlt\" bgcolor=\"#ACC6DF\">\\r\\n\\t\\t\\t\\t<td></td>\\r\\n\\t\\t\\t</tr><tr class=\"dxgvDataRow\" bgcolor=\"#DCE8F1\">\\r\\n\\t\\t\\t\\t<td></td>\\r\\n\\t\\t\\t</tr><tr class=\"dxgvDataRow dxgvDataRowAlt\" bgcolor=\"#ACC6DF\">\\r\\n\\t\\t\\t\\t<td></td>\\r\\n\\t\\t\\t</tr><tr class=\"dxgvDataRow\" bgcolor=\"#DCE8F1\">\\r\\n\\t\\t\\t\\t<td></td>\\r\\n\\t\\t\\t</tr><tr class=\"dxgvDataRow dxgvDataRowAlt\" bgcolor=\"#ACC6DF\">\\r\\n\\t\\t\\t\\t<td></td>\\r\\n\\t\\t\\t</tr><tr class=\"dxgvDataRow\" bgcolor=\"#DCE8F1\">\\r\\n\\t\\t\\t\\t<td></td>\\r\\n\\t\\t\\t</tr><tr class=\"dxgvDataRow dxgvDataRowAlt\" bgcolor=\"#ACC6DF\">\\r\\n\\t\\t\\t\\t<td></td>\\r\\n\\t\\t\\t</tr><tr class=\"dxgvDataRow\" bgcolor=\"#DCE8F1\">\\r\\n\\t\\t\\t\\t<td></td>\\r\\n\\t\\t\\t</tr><tr class=\"dxgvDataRow dxgvDataRowAlt\" bgcolor=\"#ACC6DF\">\\r\\n\\t\\t\\t\\t<td></td>\\r\\n\\t\\t\\t</tr><tr class=\"dxgvDataRow\" bgcolor=\"#DCE8F1\">\\r\\n\\t\\t\\t\\t<td></td>\\r\\n\\t\\t\\t</tr><tr class=\"dxgvDataRow dxgvDataRowAlt\" bgcolor=\"#ACC6DF\">\\r\\n\\t\\t\\t\\t<td></td>\\r\\n\\t\\t\\t</tr><tr class=\"dxgvDataRow\" bgcolor=\"#DCE8F1\">\\r\\n\\t\\t\\t\\t<td></td>\\r\\n\\t\\t\\t</tr><tr class=\"dxgvDataRow dxgvDataRowAlt\" bgcolor=\"#ACC6DF\">\\r\\n\\t\\t\\t\\t<td></td>\\r\\n\\t\\t\\t</tr><tr class=\"dxgvDataRow\" bgcolor=\"#DCE8F1\">\\r\\n\\t\\t\\t\\t<td></td>\\r\\n\\t\\t\\t</tr><tr class=\"dxgvDataRow dxgvDataRowAlt\" bgcolor=\"#ACC6DF\">\\r\\n\\t\\t\\t\\t<td></td>\\r\\n\\t\\t\\t</tr><tr class=\"dxgvDataRow\" bgcolor=\"#DCE8F1\">\\r\\n\\t\\t\\t\\t<td></td>\\r\\n\\t\\t\\t</tr><tr class=\"dxgvDataRow dxgvDataRowAlt\" bgcolor=\"#ACC6DF\">\\r\\n\\t\\t\\t\\t<td></td>\\r\\n\\t\\t\\t</tr><tr class=\"dxgvDataRow\" bgcolor=\"#DCE8F1\">\\r\\n\\t\\t\\t\\t<td></td>\\r\\n\\t\\t\\t</tr><tr class=\"dxgvDataRow dxgvDataRowAlt\" bgcolor=\"#ACC6DF\">\\r\\n\\t\\t\\t\\t<td></td>\\r\\n\\t\\t\\t</tr><tr class=\"dxgvDataRow\" bgcolor=\"#DCE8F1\">\\r\\n\\t\\t\\t\\t<td></td>\\r\\n\\t\\t\\t</tr><tr class=\"dxgvDataRow dxgvDataRowAlt\" bgcolor=\"#ACC6DF\">\\r\\n\\t\\t\\t\\t<td></td>\\r\\n\\t\\t\\t</tr><tr class=\"dxgvDataRow\" bgcolor=\"#DCE8F1\">\\r\\n\\t\\t\\t\\t<td></td>\\r\\n\\t\\t\\t</tr><tr class=\"dxgvDataRow dxgvDataRowAlt\" bgcolor=\"#ACC6DF\">\\r\\n\\t\\t\\t\\t<td></td>\\r\\n\\t\\t\\t</tr><tr class=\"dxgvDataRow\" bgcolor=\"#DCE8F1\">\\r\\n\\t\\t\\t\\t<td></td>\\r\\n\\t\\t\\t</tr><tr class=\"dxgvDataRow dxgvDataRowAlt\" bgcolor=\"#ACC6DF\">\\r\\n\\t\\t\\t\\t<td></td>\\r\\n\\t\\t\\t</tr><tr class=\"dxgvDataRow\" bgcolor=\"#DCE8F1\">\\r\\n\\t\\t\\t\\t<td></td>\\r\\n\\t\\t\\t</tr><tr class=\"dxgvDataRow dxgvDataRowAlt\" bgcolor=\"#ACC6DF\">\\r\\n\\t\\t\\t\\t<td></td>\\r\\n\\t\\t\\t</tr><tr class=\"dxgvDataRow\" bgcolor=\"#DCE8F1\">\\r\\n\\t\\t\\t\\t<td></td>\\r\\n\\t\\t\\t</tr><tr class=\"dxgvDataRow dxgvDataRowAlt\" bgcolor=\"#ACC6DF\">\\r\\n\\t\\t\\t\\t<td></td>\\r\\n\\t\\t\\t</tr><tr class=\"dxgvDataRow\" bgcolor=\"#DCE8F1\">\\r\\n\\t\\t\\t\\t<td></td>\\r\\n\\t\\t\\t</tr><tr class=\"dxgvDataRow dxgvDataRowAlt\" bgcolor=\"#ACC6DF\">\\r\\n\\t\\t\\t\\t<td></td>\\r\\n\\t\\t\\t</tr><tr class=\"dxgvDataRow\" bgcolor=\"#DCE8F1\">\\r\\n\\t\\t\\t\\t<td></td>\\r\\n\\t\\t\\t</tr><tr class=\"dxgvDataRow dxgvDataRowAlt\" bgcolor=\"#ACC6DF\">\\r\\n\\t\\t\\t\\t<td></td>\\r\\n\\t\\t\\t</tr><tr class=\"dxgvDataRow\" bgcolor=\"#DCE8F1\">\\r\\n\\t\\t\\t\\t<td></td>\\r\\n\\t\\t\\t</tr><tr class=\"dxgvDataRow dxgvDataRowAlt\" bgcolor=\"#ACC6DF\">\\r\\n\\t\\t\\t\\t<td></td>\\r\\n\\t\\t\\t</tr><tr class=\"dxgvDataRow\" bgcolor=\"#DCE8F1\">\\r\\n\\t\\t\\t\\t<td></td>\\r\\n\\t\\t\\t</tr><tr class=\"dxgvDataRow dxgvDataRowAlt\" bgcolor=\"#ACC6DF\">\\r\\n\\t\\t\\t\\t<td></td>\\r\\n\\t\\t\\t</tr><tr class=\"dxgvDataRow\" bgcolor=\"#DCE8F1\">\\r\\n\\t\\t\\t\\t<td></td>\\r\\n\\t\\t\\t</tr><tr class=\"dxgvDataRow dxgvDataRowAlt\" bgcolor=\"#ACC6DF\">\\r\\n\\t\\t\\t\\t<td></td>\\r\\n\\t\\t\\t</tr><tr class=\"dxgvDataRow\" bgcolor=\"#DCE8F1\">\\r\\n\\t\\t\\t\\t<td></td>\\r\\n\\t\\t\\t</tr><tr class=\"dxgvDataRow dxgvDataRowAlt\" bgcolor=\"#ACC6DF\">\\r\\n\\t\\t\\t\\t<td></td>\\r\\n\\t\\t\\t</tr><tr class=\"dxgvDataRow\" bgcolor=\"#DCE8F1\">\\r\\n\\t\\t\\t\\t<td></td>\\r\\n\\t\\t\\t</tr><tr class=\"dxgvDataRow dxgvDataRowAlt\" bgcolor=\"#ACC6DF\">\\r\\n\\t\\t\\t\\t<td></td>\\r\\n\\t\\t\\t</tr><tr class=\"dxgvDataRow\" bgcolor=\"#DCE8F1\">\\r\\n\\t\\t\\t\\t<td></td>\\r\\n\\t\\t\\t</tr><tr class=\"dxgvDataRow dxgvDataRowAlt\" bgcolor=\"#ACC6DF\">\\r\\n\\t\\t\\t\\t<td></td>\\r\\n\\t\\t\\t</tr><tr class=\"dxgvDataRow\" bgcolor=\"#DCE8F1\">\\r\\n\\t\\t\\t\\t<td></td>\\r\\n\\t\\t\\t</tr><tr class=\"dxgvDataRow dxgvDataRowAlt\" bgcolor=\"#ACC6DF\">\\r\\n\\t\\t\\t\\t<td></td>\\r\\n\\t\\t\\t</tr><tr class=\"dxgvDataRow\" bgcolor=\"#DCE8F1\">\\r\\n\\t\\t\\t\\t<td></td>\\r\\n\\t\\t\\t</tr><tr class=\"dxgvDataRow dxgvDataRowAlt\" bgcolor=\"#ACC6DF\">\\r\\n\\t\\t\\t\\t<td></td>\\r\\n\\t\\t\\t</tr><tr class=\"dxgvDataRow\" bgcolor=\"#DCE8F1\">\\r\\n\\t\\t\\t\\t<td></td>\\r\\n\\t\\t\\t</tr><tr class=\"dxgvDataRow dxgvDataRowAlt\" bgcolor=\"#ACC6DF\">\\r\\n\\t\\t\\t\\t<td></td>\\r\\n\\t\\t\\t</tr><tr class=\"dxgvDataRow\" bgcolor=\"#DCE8F1\">\\r\\n\\t\\t\\t\\t<td></td>\\r\\n\\t\\t\\t</tr><tr class=\"dxgvDataRow dxgvDataRowAlt\" bgcolor=\"#ACC6DF\">\\r\\n\\t\\t\\t\\t<td></td>\\r\\n\\t\\t\\t</tr><tr class=\"dxgvDataRow\" bgcolor=\"#DCE8F1\">\\r\\n\\t\\t\\t\\t<td></td>\\r\\n\\t\\t\\t</tr><tr class=\"dxgvDataRow dxgvDataRowAlt\" bgcolor=\"#ACC6DF\">\\r\\n\\t\\t\\t\\t<td></td>\\r\\n\\t\\t\\t</tr><tr class=\"dxgvDataRow\" bgcolor=\"#DCE8F1\">\\r\\n\\t\\t\\t\\t<td></td>\\r\\n\\t\\t\\t</tr><tr class=\"dxgvDataRow dxgvDataRowAlt\" bgcolor=\"#ACC6DF\">\\r\\n\\t\\t\\t\\t<td></td>\\r\\n\\t\\t\\t</tr><tr class=\"dxgvDataRow\" bgcolor=\"#DCE8F1\">\\r\\n\\t\\t\\t\\t<td></td>\\r\\n\\t\\t\\t</tr><tr class=\"dxgvDataRow dxgvDataRowAlt\" bgcolor=\"#ACC6DF\">\\r\\n\\t\\t\\t\\t<td></td>\\r\\n\\t\\t\\t</tr><tr class=\"dxgvDataRow\" bgcolor=\"#DCE8F1\">\\r\\n\\t\\t\\t\\t<td></td>\\r\\n\\t\\t\\t</tr><tr class=\"dxgvDataRow dxgvDataRowAlt\" bgcolor=\"#ACC6DF\">\\r\\n\\t\\t\\t\\t<td></td>\\r\\n\\t\\t\\t</tr><tr class=\"dxgvDataRow\" bgcolor=\"#DCE8F1\">\\r\\n\\t\\t\\t\\t<td></td>\\r\\n\\t\\t\\t</tr><tr class=\"dxgvDataRow dxgvDataRowAlt\" bgcolor=\"#ACC6DF\">\\r\\n\\t\\t\\t\\t<td></td>\\r\\n\\t\\t\\t</tr><tr class=\"dxgvDataRow\" bgcolor=\"#DCE8F1\">\\r\\n\\t\\t\\t\\t<td></td>\\r\\n\\t\\t\\t</tr><tr class=\"dxgvDataRow dxgvDataRowAlt\" bgcolor=\"#ACC6DF\">\\r\\n\\t\\t\\t\\t<td></td>\\r\\n\\t\\t\\t</tr><tr class=\"dxgvDataRow\" bgcolor=\"#DCE8F1\">\\r\\n\\t\\t\\t\\t<td></td>\\r\\n\\t\\t\\t</tr><tr class=\"dxgvDataRow dxgvDataRowAlt\" bgcolor=\"#ACC6DF\">\\r\\n\\t\\t\\t\\t<td></td>\\r\\n\\t\\t\\t</tr><tr class=\"dxgvDataRow\" bgcolor=\"#DCE8F1\">\\r\\n\\t\\t\\t\\t<td></td>\\r\\n\\t\\t\\t</tr>\\r\\n\\t\\t</table><input type=\"hidden\" name=\"grd$CallbackState\" id=\"grd_CallbackState\" value=\"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\" /></td>\\r\\n\\t</tr>\\r\\n</table><script id=\"dxss_1508737810\" type=\"text/javascript\">\\n<!--\\n\\nvar dxo = new ASPxClientGridView(\\'grd\\');\\nwindow[\\'grd\\'] = dxo;\\ndxo.callBack = function(arg) { WebForm_DoCallback(\\'grd\\',arg,aspxCallback,\\'grd\\',aspxCallbackError,true); };\\ndxo.callBacksEnabled=true;\\ndxo.pageRowCount=333;\\ndxo.selectedWithoutPageRowCount=0;\\ndxo.visibleStartIndex=0;\\ndxo.focusedRowIndex=0;\\ndxo.allowFocusedRow=true;\\ndxo.allowMultiSelection=false;\\ndxo.isColumnsResizable=false;\\ndxo.isVerticalScrolling=false;\\ndxo.isMainControlResizable=false;\\ndxo.callbackOnFocusedRowChanged=false;\\ndxo.callbackOnSelectionChanged=false;\\ndxo.autoFilterDelay=\\'1200\\';\\ndxo.ClearColumns();\\ndxo.CreateColumn(\\'VALDATA\\',0,\\'VALDATA\\',1);\\ndxo.CreateColumn(\\'\\',1,\\'VALVALOR0\\',1);\\nwindow.setTimeout(\"aspxGVFocusedRowChanged(\\\\\"grd\\\\\")\", 0);dxo.keys=[\\'1989-06-01\\',\\'1989-07-01\\',\\'1989-08-01\\',\\'1989-09-01\\',\\'1989-10-01\\',\\'1989-11-01\\',\\'1989-12-01\\',\\'1990-01-01\\',\\'1990-02-01\\',\\'1990-03-01\\',\\'1990-04-01\\',\\'1990-05-01\\',\\'1990-06-01\\',\\'1990-07-01\\',\\'1990-08-01\\',\\'1990-09-01\\',\\'1990-10-01\\',\\'1990-11-01\\',\\'1990-12-01\\',\\'1991-01-01\\',\\'1991-02-01\\',\\'1991-03-01\\',\\'1991-04-01\\',\\'1991-05-01\\',\\'1991-06-01\\',\\'1991-07-01\\',\\'1991-08-01\\',\\'1991-09-01\\',\\'1991-10-01\\',\\'1991-11-01\\',\\'1991-12-01\\',\\'1992-01-01\\',\\'1992-02-01\\',\\'1992-03-01\\',\\'1992-04-01\\',\\'1992-05-01\\',\\'1992-06-01\\',\\'1992-07-01\\',\\'1992-08-01\\',\\'1992-09-01\\',\\'1992-10-01\\',\\'1992-11-01\\',\\'1992-12-01\\',\\'1993-01-01\\',\\'1993-02-01\\',\\'1993-03-01\\',\\'1993-04-01\\',\\'1993-05-01\\',\\'1993-06-01\\',\\'1993-07-01\\',\\'1993-08-01\\',\\'1993-09-01\\',\\'1993-10-01\\',\\'1993-11-01\\',\\'1993-12-01\\',\\'1994-01-01\\',\\'1994-02-01\\',\\'1994-03-01\\',\\'1994-04-01\\',\\'1994-05-01\\',\\'1994-06-01\\',\\'1994-07-01\\',\\'1994-08-01\\',\\'1994-09-01\\',\\'1994-10-01\\',\\'1994-11-01\\',\\'1994-12-01\\',\\'1995-01-01\\',\\'1995-02-01\\',\\'1995-03-01\\',\\'1995-04-01\\',\\'1995-05-01\\',\\'1995-06-01\\',\\'1995-07-01\\',\\'1995-08-01\\',\\'1995-09-01\\',\\'1995-10-01\\',\\'1995-11-01\\',\\'1995-12-01\\',\\'1996-01-01\\',\\'1996-02-01\\',\\'1996-03-01\\',\\'1996-04-01\\',\\'1996-05-01\\',\\'1996-06-01\\',\\'1996-07-01\\',\\'1996-08-01\\',\\'1996-09-01\\',\\'1996-10-01\\',\\'1996-11-01\\',\\'1996-12-01\\',\\'1997-01-01\\',\\'1997-02-01\\',\\'1997-03-01\\',\\'1997-04-01\\',\\'1997-05-01\\',\\'1997-06-01\\',\\'1997-07-01\\',\\'1997-08-01\\',\\'1997-09-01\\',\\'1997-10-01\\',\\'1997-11-01\\',\\'1997-12-01\\',\\'1998-01-01\\',\\'1998-02-01\\',\\'1998-03-01\\',\\'1998-04-01\\',\\'1998-05-01\\',\\'1998-06-01\\',\\'1998-07-01\\',\\'1998-08-01\\',\\'1998-09-01\\',\\'1998-10-01\\',\\'1998-11-01\\',\\'1998-12-01\\',\\'1999-01-01\\',\\'1999-02-01\\',\\'1999-03-01\\',\\'1999-04-01\\',\\'1999-05-01\\',\\'1999-06-01\\',\\'1999-07-01\\',\\'1999-08-01\\',\\'1999-09-01\\',\\'1999-10-01\\',\\'1999-11-01\\',\\'1999-12-01\\',\\'2000-01-01\\',\\'2000-02-01\\',\\'2000-03-01\\',\\'2000-04-01\\',\\'2000-05-01\\',\\'2000-06-01\\',\\'2000-07-01\\',\\'2000-08-01\\',\\'2000-09-01\\',\\'2000-10-01\\',\\'2000-11-01\\',\\'2000-12-01\\',\\'2001-01-01\\',\\'2001-02-01\\',\\'2001-03-01\\',\\'2001-04-01\\',\\'2001-05-01\\',\\'2001-06-01\\',\\'2001-07-01\\',\\'2001-08-01\\',\\'2001-09-01\\',\\'2001-10-01\\',\\'2001-11-01\\',\\'2001-12-01\\',\\'2002-01-01\\',\\'2002-02-01\\',\\'2002-03-01\\',\\'2002-04-01\\',\\'2002-05-01\\',\\'2002-06-01\\',\\'2002-07-01\\',\\'2002-08-01\\',\\'2002-09-01\\',\\'2002-10-01\\',\\'2002-11-01\\',\\'2002-12-01\\',\\'2003-01-01\\',\\'2003-02-01\\',\\'2003-03-01\\',\\'2003-04-01\\',\\'2003-05-01\\',\\'2003-06-01\\',\\'2003-07-01\\',\\'2003-08-01\\',\\'2003-09-01\\',\\'2003-10-01\\',\\'2003-11-01\\',\\'2003-12-01\\',\\'2004-01-01\\',\\'2004-02-01\\',\\'2004-03-01\\',\\'2004-04-01\\',\\'2004-05-01\\',\\'2004-06-01\\',\\'2004-07-01\\',\\'2004-08-01\\',\\'2004-09-01\\',\\'2004-10-01\\',\\'2004-11-01\\',\\'2004-12-01\\',\\'2005-01-01\\',\\'2005-02-01\\',\\'2005-03-01\\',\\'2005-04-01\\',\\'2005-05-01\\',\\'2005-06-01\\',\\'2005-07-01\\',\\'2005-08-01\\',\\'2005-09-01\\',\\'2005-10-01\\',\\'2005-11-01\\',\\'2005-12-01\\',\\'2006-01-01\\',\\'2006-02-01\\',\\'2006-03-01\\',\\'2006-04-01\\',\\'2006-05-01\\',\\'2006-06-01\\',\\'2006-07-01\\',\\'2006-08-01\\',\\'2006-09-01\\',\\'2006-10-01\\',\\'2006-11-01\\',\\'2006-12-01\\',\\'2007-01-01\\',\\'2007-02-01\\',\\'2007-03-01\\',\\'2007-04-01\\',\\'2007-05-01\\',\\'2007-06-01\\',\\'2007-07-01\\',\\'2007-08-01\\',\\'2007-09-01\\',\\'2007-10-01\\',\\'2007-11-01\\',\\'2007-12-01\\',\\'2008-01-01\\',\\'2008-02-01\\',\\'2008-03-01\\',\\'2008-04-01\\',\\'2008-05-01\\',\\'2008-06-01\\',\\'2008-07-01\\',\\'2008-08-01\\',\\'2008-09-01\\',\\'2008-10-01\\',\\'2008-11-01\\',\\'2008-12-01\\',\\'2009-01-01\\',\\'2009-02-01\\',\\'2009-03-01\\',\\'2009-04-01\\',\\'2009-05-01\\',\\'2009-06-01\\',\\'2009-07-01\\',\\'2009-08-01\\',\\'2009-09-01\\',\\'2009-10-01\\',\\'2009-11-01\\',\\'2009-12-01\\',\\'2010-01-01\\',\\'2010-02-01\\',\\'2010-03-01\\',\\'2010-04-01\\',\\'2010-05-01\\',\\'2010-06-01\\',\\'2010-07-01\\',\\'2010-08-01\\',\\'2010-09-01\\',\\'2010-10-01\\',\\'2010-11-01\\',\\'2010-12-01\\',\\'2011-01-01\\',\\'2011-02-01\\',\\'2011-03-01\\',\\'2011-04-01\\',\\'2011-05-01\\',\\'2011-06-01\\',\\'2011-07-01\\',\\'2011-08-01\\',\\'2011-09-01\\',\\'2011-10-01\\',\\'2011-11-01\\',\\'2011-12-01\\',\\'2012-01-01\\',\\'2012-02-01\\',\\'2012-03-01\\',\\'2012-04-01\\',\\'2012-05-01\\',\\'2012-06-01\\',\\'2012-07-01\\',\\'2012-08-01\\',\\'2012-09-01\\',\\'2012-10-01\\',\\'2012-11-01\\',\\'2012-12-01\\',\\'2013-01-01\\',\\'2013-02-01\\',\\'2013-03-01\\',\\'2013-04-01\\',\\'2013-05-01\\',\\'2013-06-01\\',\\'2013-07-01\\',\\'2013-08-01\\',\\'2013-09-01\\',\\'2013-10-01\\',\\'2013-11-01\\',\\'2013-12-01\\',\\'2014-01-01\\',\\'2014-02-01\\',\\'2014-03-01\\',\\'2014-04-01\\',\\'2014-05-01\\',\\'2014-06-01\\',\\'2014-07-01\\',\\'2014-08-01\\',\\'2014-09-01\\',\\'2014-10-01\\',\\'2014-11-01\\',\\'2014-12-01\\',\\'2015-01-01\\',\\'2015-02-01\\',\\'2015-03-01\\',\\'2015-04-01\\',\\'2015-05-01\\',\\'2015-06-01\\',\\'2015-07-01\\',\\'2015-08-01\\',\\'2015-09-01\\',\\'2015-10-01\\',\\'2015-11-01\\',\\'2015-12-01\\',\\'2016-01-01\\',\\'2016-02-01\\',\\'2016-03-01\\',\\'2016-04-01\\',\\'2016-05-01\\',\\'2016-06-01\\',\\'2016-07-01\\',\\'2016-08-01\\',\\'2016-09-01\\',\\'2016-10-01\\',\\'2016-11-01\\',\\'2016-12-01\\',\\'2017-01-01\\',\\'2017-02-01\\'];\\ndxo.InlineInitialize();\\n\\n//-->\\n</script>\\n\\r\\n        &nbsp;\\r\\n        \\r\\n    </center>\\r\\n    </form>\\r\\n    <script language=\"javascript\"> top.debugTime(\\'0.124\\', false);</script>\\r\\n</body>\\r\\n</html>\\r\\n'\n"
     ]
    }
   ],
   "source": [
    "# Imprimindo html\n",
    "print(html)"
   ]
  },
  {
   "cell_type": "code",
   "execution_count": 27,
   "metadata": {
    "collapsed": false,
    "deletable": true,
    "editable": true
   },
   "outputs": [
    {
     "data": {
      "image/png": "[encoded data removed]",
      "text/plain": [
       "<matplotlib.figure.Figure at 0x117e3deb8>"
      ]
     },
     "metadata": {},
     "output_type": "display_data"
    }
   ],
   "source": [
    "# Importando o arquivo com a cotação das ações da Petrobras, lendo o \n",
    "# arquivo com o Pandas e gerando um gráfico com Matplotlib\n",
    "from urllib.request import urlopen\n",
    "import matplotlib.pyplot as plt\n",
    "import pandas\n",
    "%matplotlib inline\n",
    " \n",
    "endereco = 'http://real-chart.finance.yahoo.com/table.csv?s=PETR4.SA&d=9&e=17&f=2015&g=d&a=0&b=3&c=2000&ignore=.csv'\n",
    "arquivo = urlopen(endereco)\n",
    " \n",
    "petrobras = pandas.read_csv(arquivo, index_col=0, parse_dates=True)\n",
    "petrobras.plot(y='Adj Close')\n",
    " \n",
    "plt.xlabel('Ano')\n",
    "plt.ylabel('Cotação')\n",
    "plt.legend().set_visible(False)\n",
    "plt.show()"
   ]
  },
  {
   "cell_type": "code",
   "execution_count": 28,
   "metadata": {
    "collapsed": true,
    "deletable": true,
    "editable": true
   },
   "outputs": [],
   "source": [
    "import pandas "
   ]
  },
  {
   "cell_type": "code",
   "execution_count": 29,
   "metadata": {
    "collapsed": true,
    "deletable": true,
    "editable": true
   },
   "outputs": [],
   "source": [
    "import pandas as pd"
   ]
  },
  {
   "cell_type": "code",
   "execution_count": 30,
   "metadata": {
    "collapsed": true,
    "deletable": true,
    "editable": true
   },
   "outputs": [],
   "source": [
    "from pandas import DataFrame"
   ]
  },
  {
   "cell_type": "code",
   "execution_count": 31,
   "metadata": {
    "collapsed": false,
    "deletable": true,
    "editable": true
   },
   "outputs": [
    {
     "data": {
      "text/html": [
       "<div>\n",
       "<table border=\"1\" class=\"dataframe\">\n",
       "  <thead>\n",
       "    <tr style=\"text-align: right;\">\n",
       "      <th></th>\n",
       "      <th>Open</th>\n",
       "      <th>High</th>\n",
       "      <th>Low</th>\n",
       "      <th>Close</th>\n",
       "      <th>Volume</th>\n",
       "      <th>Adj Close</th>\n",
       "    </tr>\n",
       "    <tr>\n",
       "      <th>Date</th>\n",
       "      <th></th>\n",
       "      <th></th>\n",
       "      <th></th>\n",
       "      <th></th>\n",
       "      <th></th>\n",
       "      <th></th>\n",
       "    </tr>\n",
       "  </thead>\n",
       "  <tbody>\n",
       "    <tr>\n",
       "      <th>2015-10-16</th>\n",
       "      <td>7.99</td>\n",
       "      <td>8.08</td>\n",
       "      <td>7.81</td>\n",
       "      <td>7.95</td>\n",
       "      <td>42963800</td>\n",
       "      <td>7.95</td>\n",
       "    </tr>\n",
       "    <tr>\n",
       "      <th>2015-10-15</th>\n",
       "      <td>8.00</td>\n",
       "      <td>8.07</td>\n",
       "      <td>7.67</td>\n",
       "      <td>8.00</td>\n",
       "      <td>61444100</td>\n",
       "      <td>8.00</td>\n",
       "    </tr>\n",
       "    <tr>\n",
       "      <th>2015-10-14</th>\n",
       "      <td>8.07</td>\n",
       "      <td>8.23</td>\n",
       "      <td>7.89</td>\n",
       "      <td>7.96</td>\n",
       "      <td>75339100</td>\n",
       "      <td>7.96</td>\n",
       "    </tr>\n",
       "    <tr>\n",
       "      <th>2015-10-13</th>\n",
       "      <td>8.36</td>\n",
       "      <td>8.47</td>\n",
       "      <td>8.07</td>\n",
       "      <td>8.13</td>\n",
       "      <td>56100600</td>\n",
       "      <td>8.13</td>\n",
       "    </tr>\n",
       "    <tr>\n",
       "      <th>2015-10-12</th>\n",
       "      <td>8.80</td>\n",
       "      <td>8.80</td>\n",
       "      <td>8.80</td>\n",
       "      <td>8.80</td>\n",
       "      <td>0</td>\n",
       "      <td>8.80</td>\n",
       "    </tr>\n",
       "  </tbody>\n",
       "</table>\n",
       "</div>"
      ],
      "text/plain": [
       "            Open  High   Low  Close    Volume  Adj Close\n",
       "Date                                                    \n",
       "2015-10-16  7.99  8.08  7.81   7.95  42963800       7.95\n",
       "2015-10-15  8.00  8.07  7.67   8.00  61444100       8.00\n",
       "2015-10-14  8.07  8.23  7.89   7.96  75339100       7.96\n",
       "2015-10-13  8.36  8.47  8.07   8.13  56100600       8.13\n",
       "2015-10-12  8.80  8.80  8.80   8.80         0       8.80"
      ]
     },
     "execution_count": 31,
     "metadata": {},
     "output_type": "execute_result"
    }
   ],
   "source": [
    "petrobras.head()"
   ]
  },
  {
   "cell_type": "code",
   "execution_count": 32,
   "metadata": {
    "collapsed": false,
    "deletable": true,
    "editable": true
   },
   "outputs": [],
   "source": [
    "df = pd.DataFrame(petrobras)"
   ]
  },
  {
   "cell_type": "code",
   "execution_count": 33,
   "metadata": {
    "collapsed": false,
    "deletable": true,
    "editable": true
   },
   "outputs": [
    {
     "data": {
      "text/html": [
       "<div>\n",
       "<table border=\"1\" class=\"dataframe\">\n",
       "  <thead>\n",
       "    <tr style=\"text-align: right;\">\n",
       "      <th></th>\n",
       "      <th>Open</th>\n",
       "      <th>High</th>\n",
       "      <th>Low</th>\n",
       "      <th>Close</th>\n",
       "      <th>Volume</th>\n",
       "      <th>Adj Close</th>\n",
       "    </tr>\n",
       "    <tr>\n",
       "      <th>Date</th>\n",
       "      <th></th>\n",
       "      <th></th>\n",
       "      <th></th>\n",
       "      <th></th>\n",
       "      <th></th>\n",
       "      <th></th>\n",
       "    </tr>\n",
       "  </thead>\n",
       "  <tbody>\n",
       "    <tr>\n",
       "      <th>2015-10-16</th>\n",
       "      <td>7.99000</td>\n",
       "      <td>8.08000</td>\n",
       "      <td>7.81000</td>\n",
       "      <td>7.95000</td>\n",
       "      <td>42963800</td>\n",
       "      <td>7.95000</td>\n",
       "    </tr>\n",
       "    <tr>\n",
       "      <th>2015-10-15</th>\n",
       "      <td>8.00000</td>\n",
       "      <td>8.07000</td>\n",
       "      <td>7.67000</td>\n",
       "      <td>8.00000</td>\n",
       "      <td>61444100</td>\n",
       "      <td>8.00000</td>\n",
       "    </tr>\n",
       "    <tr>\n",
       "      <th>2015-10-14</th>\n",
       "      <td>8.07000</td>\n",
       "      <td>8.23000</td>\n",
       "      <td>7.89000</td>\n",
       "      <td>7.96000</td>\n",
       "      <td>75339100</td>\n",
       "      <td>7.96000</td>\n",
       "    </tr>\n",
       "    <tr>\n",
       "      <th>2015-10-13</th>\n",
       "      <td>8.36000</td>\n",
       "      <td>8.47000</td>\n",
       "      <td>8.07000</td>\n",
       "      <td>8.13000</td>\n",
       "      <td>56100600</td>\n",
       "      <td>8.13000</td>\n",
       "    </tr>\n",
       "    <tr>\n",
       "      <th>2015-10-12</th>\n",
       "      <td>8.80000</td>\n",
       "      <td>8.80000</td>\n",
       "      <td>8.80000</td>\n",
       "      <td>8.80000</td>\n",
       "      <td>0</td>\n",
       "      <td>8.80000</td>\n",
       "    </tr>\n",
       "    <tr>\n",
       "      <th>2015-10-09</th>\n",
       "      <td>9.02000</td>\n",
       "      <td>9.07000</td>\n",
       "      <td>8.58000</td>\n",
       "      <td>8.80000</td>\n",
       "      <td>71885200</td>\n",
       "      <td>8.80000</td>\n",
       "    </tr>\n",
       "    <tr>\n",
       "      <th>2015-10-08</th>\n",
       "      <td>8.46000</td>\n",
       "      <td>8.84000</td>\n",
       "      <td>8.28000</td>\n",
       "      <td>8.75000</td>\n",
       "      <td>68670000</td>\n",
       "      <td>8.75000</td>\n",
       "    </tr>\n",
       "    <tr>\n",
       "      <th>2015-10-07</th>\n",
       "      <td>8.51000</td>\n",
       "      <td>8.90000</td>\n",
       "      <td>8.27000</td>\n",
       "      <td>8.47000</td>\n",
       "      <td>116610600</td>\n",
       "      <td>8.47000</td>\n",
       "    </tr>\n",
       "    <tr>\n",
       "      <th>2015-10-06</th>\n",
       "      <td>7.86000</td>\n",
       "      <td>8.34000</td>\n",
       "      <td>7.84000</td>\n",
       "      <td>8.19000</td>\n",
       "      <td>81259300</td>\n",
       "      <td>8.19000</td>\n",
       "    </tr>\n",
       "    <tr>\n",
       "      <th>2015-10-05</th>\n",
       "      <td>7.90000</td>\n",
       "      <td>8.14000</td>\n",
       "      <td>7.75000</td>\n",
       "      <td>7.82000</td>\n",
       "      <td>68350300</td>\n",
       "      <td>7.82000</td>\n",
       "    </tr>\n",
       "    <tr>\n",
       "      <th>2015-10-02</th>\n",
       "      <td>6.99000</td>\n",
       "      <td>7.83000</td>\n",
       "      <td>6.90000</td>\n",
       "      <td>7.77000</td>\n",
       "      <td>88891400</td>\n",
       "      <td>7.77000</td>\n",
       "    </tr>\n",
       "    <tr>\n",
       "      <th>2015-10-01</th>\n",
       "      <td>7.31000</td>\n",
       "      <td>7.46000</td>\n",
       "      <td>6.99000</td>\n",
       "      <td>7.02000</td>\n",
       "      <td>69296500</td>\n",
       "      <td>7.02000</td>\n",
       "    </tr>\n",
       "    <tr>\n",
       "      <th>2015-09-30</th>\n",
       "      <td>7.25000</td>\n",
       "      <td>7.26000</td>\n",
       "      <td>6.97000</td>\n",
       "      <td>7.24000</td>\n",
       "      <td>107779500</td>\n",
       "      <td>7.24000</td>\n",
       "    </tr>\n",
       "    <tr>\n",
       "      <th>2015-09-29</th>\n",
       "      <td>6.54000</td>\n",
       "      <td>6.79000</td>\n",
       "      <td>6.50000</td>\n",
       "      <td>6.59000</td>\n",
       "      <td>52387600</td>\n",
       "      <td>6.59000</td>\n",
       "    </tr>\n",
       "    <tr>\n",
       "      <th>2015-09-28</th>\n",
       "      <td>6.74000</td>\n",
       "      <td>6.75000</td>\n",
       "      <td>6.44000</td>\n",
       "      <td>6.44000</td>\n",
       "      <td>37466900</td>\n",
       "      <td>6.44000</td>\n",
       "    </tr>\n",
       "    <tr>\n",
       "      <th>2015-09-25</th>\n",
       "      <td>7.12000</td>\n",
       "      <td>7.22000</td>\n",
       "      <td>6.77000</td>\n",
       "      <td>6.82000</td>\n",
       "      <td>44843100</td>\n",
       "      <td>6.82000</td>\n",
       "    </tr>\n",
       "    <tr>\n",
       "      <th>2015-09-24</th>\n",
       "      <td>6.61000</td>\n",
       "      <td>7.14000</td>\n",
       "      <td>6.60000</td>\n",
       "      <td>6.96000</td>\n",
       "      <td>56577300</td>\n",
       "      <td>6.96000</td>\n",
       "    </tr>\n",
       "    <tr>\n",
       "      <th>2015-09-23</th>\n",
       "      <td>6.96000</td>\n",
       "      <td>7.16000</td>\n",
       "      <td>6.70000</td>\n",
       "      <td>6.82000</td>\n",
       "      <td>64774800</td>\n",
       "      <td>6.82000</td>\n",
       "    </tr>\n",
       "    <tr>\n",
       "      <th>2015-09-22</th>\n",
       "      <td>7.24000</td>\n",
       "      <td>7.24000</td>\n",
       "      <td>6.81000</td>\n",
       "      <td>6.97000</td>\n",
       "      <td>66720700</td>\n",
       "      <td>6.97000</td>\n",
       "    </tr>\n",
       "    <tr>\n",
       "      <th>2015-09-21</th>\n",
       "      <td>7.66000</td>\n",
       "      <td>7.68000</td>\n",
       "      <td>7.30000</td>\n",
       "      <td>7.30000</td>\n",
       "      <td>41063600</td>\n",
       "      <td>7.30000</td>\n",
       "    </tr>\n",
       "    <tr>\n",
       "      <th>2015-09-18</th>\n",
       "      <td>7.75000</td>\n",
       "      <td>7.76000</td>\n",
       "      <td>7.50000</td>\n",
       "      <td>7.60000</td>\n",
       "      <td>68097000</td>\n",
       "      <td>7.60000</td>\n",
       "    </tr>\n",
       "    <tr>\n",
       "      <th>2015-09-17</th>\n",
       "      <td>8.05000</td>\n",
       "      <td>8.11000</td>\n",
       "      <td>7.86000</td>\n",
       "      <td>7.86000</td>\n",
       "      <td>72887600</td>\n",
       "      <td>7.86000</td>\n",
       "    </tr>\n",
       "    <tr>\n",
       "      <th>2015-09-16</th>\n",
       "      <td>7.77000</td>\n",
       "      <td>8.24000</td>\n",
       "      <td>7.74000</td>\n",
       "      <td>8.14000</td>\n",
       "      <td>66613400</td>\n",
       "      <td>8.14000</td>\n",
       "    </tr>\n",
       "    <tr>\n",
       "      <th>2015-09-15</th>\n",
       "      <td>7.65000</td>\n",
       "      <td>7.87000</td>\n",
       "      <td>7.54000</td>\n",
       "      <td>7.65000</td>\n",
       "      <td>35102900</td>\n",
       "      <td>7.65000</td>\n",
       "    </tr>\n",
       "    <tr>\n",
       "      <th>2015-09-14</th>\n",
       "      <td>7.70000</td>\n",
       "      <td>7.82000</td>\n",
       "      <td>7.46000</td>\n",
       "      <td>7.72000</td>\n",
       "      <td>52851400</td>\n",
       "      <td>7.72000</td>\n",
       "    </tr>\n",
       "    <tr>\n",
       "      <th>2015-09-11</th>\n",
       "      <td>7.94000</td>\n",
       "      <td>7.99000</td>\n",
       "      <td>7.59000</td>\n",
       "      <td>7.66000</td>\n",
       "      <td>53647300</td>\n",
       "      <td>7.66000</td>\n",
       "    </tr>\n",
       "    <tr>\n",
       "      <th>2015-09-10</th>\n",
       "      <td>7.90000</td>\n",
       "      <td>8.15000</td>\n",
       "      <td>7.81000</td>\n",
       "      <td>7.97000</td>\n",
       "      <td>62858700</td>\n",
       "      <td>7.97000</td>\n",
       "    </tr>\n",
       "    <tr>\n",
       "      <th>2015-09-09</th>\n",
       "      <td>8.81000</td>\n",
       "      <td>8.90000</td>\n",
       "      <td>8.36000</td>\n",
       "      <td>8.39000</td>\n",
       "      <td>38706300</td>\n",
       "      <td>8.39000</td>\n",
       "    </tr>\n",
       "    <tr>\n",
       "      <th>2015-09-08</th>\n",
       "      <td>8.70000</td>\n",
       "      <td>8.79000</td>\n",
       "      <td>8.58000</td>\n",
       "      <td>8.64000</td>\n",
       "      <td>29383000</td>\n",
       "      <td>8.64000</td>\n",
       "    </tr>\n",
       "    <tr>\n",
       "      <th>2015-09-07</th>\n",
       "      <td>8.51000</td>\n",
       "      <td>8.51000</td>\n",
       "      <td>8.51000</td>\n",
       "      <td>8.51000</td>\n",
       "      <td>0</td>\n",
       "      <td>8.51000</td>\n",
       "    </tr>\n",
       "    <tr>\n",
       "      <th>...</th>\n",
       "      <td>...</td>\n",
       "      <td>...</td>\n",
       "      <td>...</td>\n",
       "      <td>...</td>\n",
       "      <td>...</td>\n",
       "      <td>...</td>\n",
       "    </tr>\n",
       "    <tr>\n",
       "      <th>2000-02-11</th>\n",
       "      <td>0.42304</td>\n",
       "      <td>0.42304</td>\n",
       "      <td>0.42304</td>\n",
       "      <td>0.42304</td>\n",
       "      <td>25297920000</td>\n",
       "      <td>3.92447</td>\n",
       "    </tr>\n",
       "    <tr>\n",
       "      <th>2000-02-10</th>\n",
       "      <td>0.43704</td>\n",
       "      <td>0.43704</td>\n",
       "      <td>0.43704</td>\n",
       "      <td>0.43704</td>\n",
       "      <td>18600960000</td>\n",
       "      <td>4.05435</td>\n",
       "    </tr>\n",
       "    <tr>\n",
       "      <th>2000-02-09</th>\n",
       "      <td>0.45000</td>\n",
       "      <td>0.45000</td>\n",
       "      <td>0.45000</td>\n",
       "      <td>0.45000</td>\n",
       "      <td>15600640000</td>\n",
       "      <td>4.17458</td>\n",
       "    </tr>\n",
       "    <tr>\n",
       "      <th>2000-02-08</th>\n",
       "      <td>0.46000</td>\n",
       "      <td>0.46000</td>\n",
       "      <td>0.46000</td>\n",
       "      <td>0.46000</td>\n",
       "      <td>31498240000</td>\n",
       "      <td>4.26735</td>\n",
       "    </tr>\n",
       "    <tr>\n",
       "      <th>2000-02-07</th>\n",
       "      <td>0.45000</td>\n",
       "      <td>0.45000</td>\n",
       "      <td>0.45000</td>\n",
       "      <td>0.45000</td>\n",
       "      <td>20613120000</td>\n",
       "      <td>4.17458</td>\n",
       "    </tr>\n",
       "    <tr>\n",
       "      <th>2000-02-04</th>\n",
       "      <td>0.44704</td>\n",
       "      <td>0.44704</td>\n",
       "      <td>0.44704</td>\n",
       "      <td>0.44704</td>\n",
       "      <td>21199360000</td>\n",
       "      <td>4.14712</td>\n",
       "    </tr>\n",
       "    <tr>\n",
       "      <th>2000-02-03</th>\n",
       "      <td>0.43600</td>\n",
       "      <td>0.43600</td>\n",
       "      <td>0.43600</td>\n",
       "      <td>0.43600</td>\n",
       "      <td>25950720000</td>\n",
       "      <td>4.04470</td>\n",
       "    </tr>\n",
       "    <tr>\n",
       "      <th>2000-02-02</th>\n",
       "      <td>0.42400</td>\n",
       "      <td>0.42400</td>\n",
       "      <td>0.42400</td>\n",
       "      <td>0.42400</td>\n",
       "      <td>14272000000</td>\n",
       "      <td>3.93338</td>\n",
       "    </tr>\n",
       "    <tr>\n",
       "      <th>2000-02-01</th>\n",
       "      <td>0.41600</td>\n",
       "      <td>0.41600</td>\n",
       "      <td>0.41600</td>\n",
       "      <td>0.41600</td>\n",
       "      <td>23672320000</td>\n",
       "      <td>3.85917</td>\n",
       "    </tr>\n",
       "    <tr>\n",
       "      <th>2000-01-31</th>\n",
       "      <td>0.40808</td>\n",
       "      <td>0.40808</td>\n",
       "      <td>0.40808</td>\n",
       "      <td>0.40808</td>\n",
       "      <td>32266240000</td>\n",
       "      <td>3.78569</td>\n",
       "    </tr>\n",
       "    <tr>\n",
       "      <th>2000-01-28</th>\n",
       "      <td>0.41504</td>\n",
       "      <td>0.41504</td>\n",
       "      <td>0.41504</td>\n",
       "      <td>0.41504</td>\n",
       "      <td>17894400000</td>\n",
       "      <td>3.85026</td>\n",
       "    </tr>\n",
       "    <tr>\n",
       "      <th>2000-01-27</th>\n",
       "      <td>0.41504</td>\n",
       "      <td>0.41504</td>\n",
       "      <td>0.41504</td>\n",
       "      <td>0.41504</td>\n",
       "      <td>38379520000</td>\n",
       "      <td>3.85026</td>\n",
       "    </tr>\n",
       "    <tr>\n",
       "      <th>2000-01-26</th>\n",
       "      <td>0.41800</td>\n",
       "      <td>0.41800</td>\n",
       "      <td>0.41800</td>\n",
       "      <td>0.41800</td>\n",
       "      <td>25917440000</td>\n",
       "      <td>3.87772</td>\n",
       "    </tr>\n",
       "    <tr>\n",
       "      <th>2000-01-25</th>\n",
       "      <td>0.41304</td>\n",
       "      <td>0.41304</td>\n",
       "      <td>0.41304</td>\n",
       "      <td>0.41304</td>\n",
       "      <td>0</td>\n",
       "      <td>3.83171</td>\n",
       "    </tr>\n",
       "    <tr>\n",
       "      <th>2000-01-24</th>\n",
       "      <td>0.41304</td>\n",
       "      <td>0.41304</td>\n",
       "      <td>0.41304</td>\n",
       "      <td>0.41304</td>\n",
       "      <td>18385920000</td>\n",
       "      <td>3.83171</td>\n",
       "    </tr>\n",
       "    <tr>\n",
       "      <th>2000-01-21</th>\n",
       "      <td>0.41600</td>\n",
       "      <td>0.41600</td>\n",
       "      <td>0.41600</td>\n",
       "      <td>0.41600</td>\n",
       "      <td>17512960000</td>\n",
       "      <td>3.85917</td>\n",
       "    </tr>\n",
       "    <tr>\n",
       "      <th>2000-01-20</th>\n",
       "      <td>0.42504</td>\n",
       "      <td>0.42504</td>\n",
       "      <td>0.42504</td>\n",
       "      <td>0.42504</td>\n",
       "      <td>26268160000</td>\n",
       "      <td>3.94303</td>\n",
       "    </tr>\n",
       "    <tr>\n",
       "      <th>2000-01-19</th>\n",
       "      <td>0.42600</td>\n",
       "      <td>0.42600</td>\n",
       "      <td>0.42600</td>\n",
       "      <td>0.42600</td>\n",
       "      <td>38883840000</td>\n",
       "      <td>3.95193</td>\n",
       "    </tr>\n",
       "    <tr>\n",
       "      <th>2000-01-18</th>\n",
       "      <td>0.42904</td>\n",
       "      <td>0.42904</td>\n",
       "      <td>0.42904</td>\n",
       "      <td>0.42904</td>\n",
       "      <td>17925120000</td>\n",
       "      <td>3.98014</td>\n",
       "    </tr>\n",
       "    <tr>\n",
       "      <th>2000-01-17</th>\n",
       "      <td>0.42704</td>\n",
       "      <td>0.42704</td>\n",
       "      <td>0.42704</td>\n",
       "      <td>0.42704</td>\n",
       "      <td>16573440000</td>\n",
       "      <td>3.96158</td>\n",
       "    </tr>\n",
       "    <tr>\n",
       "      <th>2000-01-14</th>\n",
       "      <td>0.43200</td>\n",
       "      <td>0.43200</td>\n",
       "      <td>0.43200</td>\n",
       "      <td>0.43200</td>\n",
       "      <td>16657920000</td>\n",
       "      <td>4.00760</td>\n",
       "    </tr>\n",
       "    <tr>\n",
       "      <th>2000-01-13</th>\n",
       "      <td>0.42600</td>\n",
       "      <td>0.42600</td>\n",
       "      <td>0.42600</td>\n",
       "      <td>0.42600</td>\n",
       "      <td>26383360000</td>\n",
       "      <td>3.95193</td>\n",
       "    </tr>\n",
       "    <tr>\n",
       "      <th>2000-01-12</th>\n",
       "      <td>0.43864</td>\n",
       "      <td>0.43864</td>\n",
       "      <td>0.43864</td>\n",
       "      <td>0.43864</td>\n",
       "      <td>23301120000</td>\n",
       "      <td>4.06919</td>\n",
       "    </tr>\n",
       "    <tr>\n",
       "      <th>2000-01-11</th>\n",
       "      <td>0.43800</td>\n",
       "      <td>0.43800</td>\n",
       "      <td>0.43800</td>\n",
       "      <td>0.43800</td>\n",
       "      <td>23987200000</td>\n",
       "      <td>4.06326</td>\n",
       "    </tr>\n",
       "    <tr>\n",
       "      <th>2000-01-10</th>\n",
       "      <td>0.44904</td>\n",
       "      <td>0.44904</td>\n",
       "      <td>0.44904</td>\n",
       "      <td>0.44904</td>\n",
       "      <td>19563520000</td>\n",
       "      <td>4.16567</td>\n",
       "    </tr>\n",
       "    <tr>\n",
       "      <th>2000-01-07</th>\n",
       "      <td>0.44000</td>\n",
       "      <td>0.44000</td>\n",
       "      <td>0.44000</td>\n",
       "      <td>0.44000</td>\n",
       "      <td>20912640000</td>\n",
       "      <td>4.08181</td>\n",
       "    </tr>\n",
       "    <tr>\n",
       "      <th>2000-01-06</th>\n",
       "      <td>0.43800</td>\n",
       "      <td>0.43800</td>\n",
       "      <td>0.43800</td>\n",
       "      <td>0.43800</td>\n",
       "      <td>34055680000</td>\n",
       "      <td>4.06326</td>\n",
       "    </tr>\n",
       "    <tr>\n",
       "      <th>2000-01-05</th>\n",
       "      <td>0.43952</td>\n",
       "      <td>0.43952</td>\n",
       "      <td>0.43952</td>\n",
       "      <td>0.43952</td>\n",
       "      <td>43033600000</td>\n",
       "      <td>4.07736</td>\n",
       "    </tr>\n",
       "    <tr>\n",
       "      <th>2000-01-04</th>\n",
       "      <td>0.44400</td>\n",
       "      <td>0.44400</td>\n",
       "      <td>0.44400</td>\n",
       "      <td>0.44400</td>\n",
       "      <td>28861440000</td>\n",
       "      <td>4.11892</td>\n",
       "    </tr>\n",
       "    <tr>\n",
       "      <th>2000-01-03</th>\n",
       "      <td>0.47000</td>\n",
       "      <td>0.47000</td>\n",
       "      <td>0.47000</td>\n",
       "      <td>0.47000</td>\n",
       "      <td>35389440000</td>\n",
       "      <td>4.36012</td>\n",
       "    </tr>\n",
       "  </tbody>\n",
       "</table>\n",
       "<p>3874 rows × 6 columns</p>\n",
       "</div>"
      ],
      "text/plain": [
       "               Open     High      Low    Close       Volume  Adj Close\n",
       "Date                                                                  \n",
       "2015-10-16  7.99000  8.08000  7.81000  7.95000     42963800    7.95000\n",
       "2015-10-15  8.00000  8.07000  7.67000  8.00000     61444100    8.00000\n",
       "2015-10-14  8.07000  8.23000  7.89000  7.96000     75339100    7.96000\n",
       "2015-10-13  8.36000  8.47000  8.07000  8.13000     56100600    8.13000\n",
       "2015-10-12  8.80000  8.80000  8.80000  8.80000            0    8.80000\n",
       "2015-10-09  9.02000  9.07000  8.58000  8.80000     71885200    8.80000\n",
       "2015-10-08  8.46000  8.84000  8.28000  8.75000     68670000    8.75000\n",
       "2015-10-07  8.51000  8.90000  8.27000  8.47000    116610600    8.47000\n",
       "2015-10-06  7.86000  8.34000  7.84000  8.19000     81259300    8.19000\n",
       "2015-10-05  7.90000  8.14000  7.75000  7.82000     68350300    7.82000\n",
       "2015-10-02  6.99000  7.83000  6.90000  7.77000     88891400    7.77000\n",
       "2015-10-01  7.31000  7.46000  6.99000  7.02000     69296500    7.02000\n",
       "2015-09-30  7.25000  7.26000  6.97000  7.24000    107779500    7.24000\n",
       "2015-09-29  6.54000  6.79000  6.50000  6.59000     52387600    6.59000\n",
       "2015-09-28  6.74000  6.75000  6.44000  6.44000     37466900    6.44000\n",
       "2015-09-25  7.12000  7.22000  6.77000  6.82000     44843100    6.82000\n",
       "2015-09-24  6.61000  7.14000  6.60000  6.96000     56577300    6.96000\n",
       "2015-09-23  6.96000  7.16000  6.70000  6.82000     64774800    6.82000\n",
       "2015-09-22  7.24000  7.24000  6.81000  6.97000     66720700    6.97000\n",
       "2015-09-21  7.66000  7.68000  7.30000  7.30000     41063600    7.30000\n",
       "2015-09-18  7.75000  7.76000  7.50000  7.60000     68097000    7.60000\n",
       "2015-09-17  8.05000  8.11000  7.86000  7.86000     72887600    7.86000\n",
       "2015-09-16  7.77000  8.24000  7.74000  8.14000     66613400    8.14000\n",
       "2015-09-15  7.65000  7.87000  7.54000  7.65000     35102900    7.65000\n",
       "2015-09-14  7.70000  7.82000  7.46000  7.72000     52851400    7.72000\n",
       "2015-09-11  7.94000  7.99000  7.59000  7.66000     53647300    7.66000\n",
       "2015-09-10  7.90000  8.15000  7.81000  7.97000     62858700    7.97000\n",
       "2015-09-09  8.81000  8.90000  8.36000  8.39000     38706300    8.39000\n",
       "2015-09-08  8.70000  8.79000  8.58000  8.64000     29383000    8.64000\n",
       "2015-09-07  8.51000  8.51000  8.51000  8.51000            0    8.51000\n",
       "...             ...      ...      ...      ...          ...        ...\n",
       "2000-02-11  0.42304  0.42304  0.42304  0.42304  25297920000    3.92447\n",
       "2000-02-10  0.43704  0.43704  0.43704  0.43704  18600960000    4.05435\n",
       "2000-02-09  0.45000  0.45000  0.45000  0.45000  15600640000    4.17458\n",
       "2000-02-08  0.46000  0.46000  0.46000  0.46000  31498240000    4.26735\n",
       "2000-02-07  0.45000  0.45000  0.45000  0.45000  20613120000    4.17458\n",
       "2000-02-04  0.44704  0.44704  0.44704  0.44704  21199360000    4.14712\n",
       "2000-02-03  0.43600  0.43600  0.43600  0.43600  25950720000    4.04470\n",
       "2000-02-02  0.42400  0.42400  0.42400  0.42400  14272000000    3.93338\n",
       "2000-02-01  0.41600  0.41600  0.41600  0.41600  23672320000    3.85917\n",
       "2000-01-31  0.40808  0.40808  0.40808  0.40808  32266240000    3.78569\n",
       "2000-01-28  0.41504  0.41504  0.41504  0.41504  17894400000    3.85026\n",
       "2000-01-27  0.41504  0.41504  0.41504  0.41504  38379520000    3.85026\n",
       "2000-01-26  0.41800  0.41800  0.41800  0.41800  25917440000    3.87772\n",
       "2000-01-25  0.41304  0.41304  0.41304  0.41304            0    3.83171\n",
       "2000-01-24  0.41304  0.41304  0.41304  0.41304  18385920000    3.83171\n",
       "2000-01-21  0.41600  0.41600  0.41600  0.41600  17512960000    3.85917\n",
       "2000-01-20  0.42504  0.42504  0.42504  0.42504  26268160000    3.94303\n",
       "2000-01-19  0.42600  0.42600  0.42600  0.42600  38883840000    3.95193\n",
       "2000-01-18  0.42904  0.42904  0.42904  0.42904  17925120000    3.98014\n",
       "2000-01-17  0.42704  0.42704  0.42704  0.42704  16573440000    3.96158\n",
       "2000-01-14  0.43200  0.43200  0.43200  0.43200  16657920000    4.00760\n",
       "2000-01-13  0.42600  0.42600  0.42600  0.42600  26383360000    3.95193\n",
       "2000-01-12  0.43864  0.43864  0.43864  0.43864  23301120000    4.06919\n",
       "2000-01-11  0.43800  0.43800  0.43800  0.43800  23987200000    4.06326\n",
       "2000-01-10  0.44904  0.44904  0.44904  0.44904  19563520000    4.16567\n",
       "2000-01-07  0.44000  0.44000  0.44000  0.44000  20912640000    4.08181\n",
       "2000-01-06  0.43800  0.43800  0.43800  0.43800  34055680000    4.06326\n",
       "2000-01-05  0.43952  0.43952  0.43952  0.43952  43033600000    4.07736\n",
       "2000-01-04  0.44400  0.44400  0.44400  0.44400  28861440000    4.11892\n",
       "2000-01-03  0.47000  0.47000  0.47000  0.47000  35389440000    4.36012\n",
       "\n",
       "[3874 rows x 6 columns]"
      ]
     },
     "execution_count": 33,
     "metadata": {},
     "output_type": "execute_result"
    }
   ],
   "source": [
    "df"
   ]
  },
  {
   "cell_type": "markdown",
   "metadata": {
    "deletable": true,
    "editable": true
   },
   "source": [
    "# Fim"
   ]
  },
  {
   "cell_type": "markdown",
   "metadata": {
    "collapsed": true,
    "deletable": true,
    "editable": true
   },
   "source": [
    "### Obrigado - Data Science Academy - <a href=http://facebook.com/dsacademy>facebook.com/dsacademybr</a>"
   ]
  }
 ],
 "metadata": {
  "kernelspec": {
   "display_name": "Python 3",
   "language": "python",
   "name": "python3"
  },
  "language_info": {
   "codemirror_mode": {
    "name": "ipython",
    "version": 3
   },
   "file_extension": ".py",
   "mimetype": "text/x-python",
   "name": "python",
   "nbconvert_exporter": "python",
   "pygments_lexer": "ipython3",
   "version": "3.6.0"
  }
 },
 "nbformat": 4,
 "nbformat_minor": 0
}
