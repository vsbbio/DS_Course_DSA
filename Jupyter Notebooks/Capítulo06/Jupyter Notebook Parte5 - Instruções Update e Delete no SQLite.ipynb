{
 "cells": [
  {
   "cell_type": "markdown",
   "metadata": {},
   "source": [
    "# <font color='blue'>Data Science Academy - Python Fundamentos - Capítulo 6</font>\n",
    "\n",
    "## Download: http://github.com/dsacademybr"
   ]
  },
  {
   "cell_type": "markdown",
   "metadata": {},
   "source": [
    "### Update e Delete"
   ]
  },
  {
   "cell_type": "code",
   "execution_count": 5,
   "metadata": {
    "collapsed": true
   },
   "outputs": [],
   "source": [
    "import sqlite3\n",
    "import random\n",
    "import time\n",
    "import datetime\n",
    " \n",
    "# Criando uma conexão\n",
    "conn = sqlite3.connect('dsa.db')   \n",
    "\n",
    "# Criando um cursor\n",
    "c = conn.cursor()\n",
    " \n",
    "# Função para criar uma tabela\n",
    "def create_table():\n",
    "    c.execute('CREATE TABLE IF NOT EXISTS produtos(id INTEGER PRIMARY KEY AUTOINCREMENT NOT NULL, date TEXT, '\\\n",
    "              'prod_name TEXT, valor REAL)')\n",
    "      \n",
    "# Função para inserir uma linha\n",
    "def data_insert():\n",
    "    c.execute(\"INSERT INTO produtos VALUES(002, '02-05-2016', 'teclado', 130 )\")\n",
    "    conn.commit()\n",
    "    c.close()\n",
    "    conn.close()\n",
    "    \n",
    "# Usando variáveis para inserir dados    \n",
    "def data_insert_var():\n",
    "    new_date = datetime.datetime.now()\n",
    "    new_prod_name = 'monitor'\n",
    "    new_valor = random.randrange(50,100)\n",
    "    c.execute(\"INSERT INTO produtos (date, prod_name, valor) VALUES (?, ?, ?, ?)\", \n",
    "              (new_date, new_prod_name, new_valor))\n",
    "    conn.commit()\n",
    "    \n",
    "# Leitura de dados\n",
    "def leitura_todos_dados():\n",
    "    c.execute(\"SELECT * FROM PRODUTOS\")\n",
    "    for linha in c.fetchall():\n",
    "        print(linha)\n",
    "        \n",
    "# Leitura de registros específicos\n",
    "def leitura_registros():\n",
    "    c.execute(\"SELECT * FROM PRODUTOS WHERE valor > 70.0\")\n",
    "    for linha in c.fetchall():\n",
    "        print(linha)      \n",
    "        \n",
    "# Leitura de colunas específicos\n",
    "def leitura_colunas():\n",
    "    c.execute(\"SELECT * FROM PRODUTOS\")\n",
    "    for linha in c.fetchall():\n",
    "        print(linha[3])  \n",
    "        \n",
    "# Update\n",
    "def atualiza_dados():\n",
    "    c.execute(\"UPDATE produtos SET valor = 70.00 WHERE valor = 80.0\")\n",
    "    conn.commit()\n",
    "    \n",
    "# Delete\n",
    "def remove_dados():\n",
    "    c.execute(\"DELETE FROM produtos WHERE valor = 60.0\")\n",
    "    conn.commit()"
   ]
  },
  {
   "cell_type": "code",
   "execution_count": 2,
   "metadata": {
    "collapsed": false
   },
   "outputs": [],
   "source": [
    "atualiza_dados()"
   ]
  },
  {
   "cell_type": "code",
   "execution_count": 3,
   "metadata": {
    "collapsed": false
   },
   "outputs": [
    {
     "name": "stdout",
     "output_type": "stream",
     "text": [
      "(10, '2016-05-02 14:32:11', 'Teclado', 90.0)\n",
      "(11, '2016-05-23 14:13:21.779164', 'Monitor', 70.0)\n",
      "(12, '2016-05-23 14:13:22.785889', 'Monitor', 60.0)\n",
      "(13, '2016-05-23 14:13:23.791211', 'Monitor', 50.0)\n",
      "(14, '2016-05-23 14:13:24.796350', 'Monitor', 92.0)\n",
      "(15, '2016-05-23 14:13:25.802804', 'Monitor', 91.0)\n",
      "(16, '2016-05-23 14:13:26.805365', 'Monitor', 62.0)\n",
      "(17, '2016-05-23 14:13:27.810955', 'Monitor', 83.0)\n",
      "(18, '2016-05-23 14:13:28.813340', 'Monitor', 82.0)\n",
      "(19, '2016-05-23 14:13:29.819722', 'Monitor', 98.0)\n",
      "(20, '2016-05-23 14:13:30.825445', 'Monitor', 71.0)\n"
     ]
    }
   ],
   "source": [
    "leitura_todos_dados()"
   ]
  },
  {
   "cell_type": "code",
   "execution_count": 6,
   "metadata": {
    "collapsed": true
   },
   "outputs": [],
   "source": [
    "remove_dados()"
   ]
  },
  {
   "cell_type": "code",
   "execution_count": 7,
   "metadata": {
    "collapsed": false
   },
   "outputs": [
    {
     "name": "stdout",
     "output_type": "stream",
     "text": [
      "(10, '2016-05-02 14:32:11', 'Teclado', 90.0)\n",
      "(11, '2016-05-23 14:13:21.779164', 'Monitor', 70.0)\n",
      "(13, '2016-05-23 14:13:23.791211', 'Monitor', 50.0)\n",
      "(14, '2016-05-23 14:13:24.796350', 'Monitor', 92.0)\n",
      "(15, '2016-05-23 14:13:25.802804', 'Monitor', 91.0)\n",
      "(16, '2016-05-23 14:13:26.805365', 'Monitor', 62.0)\n",
      "(17, '2016-05-23 14:13:27.810955', 'Monitor', 83.0)\n",
      "(18, '2016-05-23 14:13:28.813340', 'Monitor', 82.0)\n",
      "(19, '2016-05-23 14:13:29.819722', 'Monitor', 98.0)\n",
      "(20, '2016-05-23 14:13:30.825445', 'Monitor', 71.0)\n"
     ]
    }
   ],
   "source": [
    "leitura_todos_dados()"
   ]
  },
  {
   "cell_type": "markdown",
   "metadata": {},
   "source": [
    "# Fim"
   ]
  },
  {
   "cell_type": "markdown",
   "metadata": {},
   "source": [
    "### Obrigado - Data Science Academy - <a href=http://facebook.com/dsacademy>facebook.com/dsacademybr</a>"
   ]
  }
 ],
 "metadata": {
  "kernelspec": {
   "display_name": "Python 3",
   "language": "python",
   "name": "python3"
  },
  "language_info": {
   "codemirror_mode": {
    "name": "ipython",
    "version": 3
   },
   "file_extension": ".py",
   "mimetype": "text/x-python",
   "name": "python",
   "nbconvert_exporter": "python",
   "pygments_lexer": "ipython3",
   "version": "3.5.1"
  }
 },
 "nbformat": 4,
 "nbformat_minor": 0
}
